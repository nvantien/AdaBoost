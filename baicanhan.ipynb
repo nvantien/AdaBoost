{
 "cells": [
  {
   "cell_type": "code",
   "execution_count": 1,
   "id": "a4e2c312",
   "metadata": {
    "_cell_guid": "b1076dfc-b9ad-4769-8c92-a6c4dae69d19",
    "_uuid": "8f2839f25d086af736a60e9eeb907d3b93b6e0e5",
    "execution": {
     "iopub.execute_input": "2022-04-08T08:38:50.327684Z",
     "iopub.status.busy": "2022-04-08T08:38:50.326753Z",
     "iopub.status.idle": "2022-04-08T08:38:50.339809Z",
     "shell.execute_reply": "2022-04-08T08:38:50.340338Z",
     "shell.execute_reply.started": "2022-04-08T08:12:10.469521Z"
    },
    "papermill": {
     "duration": 0.059852,
     "end_time": "2022-04-08T08:38:50.340652",
     "exception": false,
     "start_time": "2022-04-08T08:38:50.280800",
     "status": "completed"
    },
    "tags": []
   },
   "outputs": [
    {
     "name": "stdout",
     "output_type": "stream",
     "text": [
      "/kaggle/input/databaitapcanhan1/letters_CG.csv\n",
      "/kaggle/input/databaitapcanhan/spam_email.csv\n"
     ]
    }
   ],
   "source": [
    "# This Python 3 environment comes with many helpful analytics libraries installed\n",
    "# It is defined by the kaggle/python Docker image: https://github.com/kaggle/docker-python\n",
    "# For example, here's several helpful packages to load\n",
    "\n",
    "import numpy as np # linear algebra\n",
    "import pandas as pd # data processing, CSV file I/O (e.g. pd.read_csv)\n",
    "\n",
    "# Input data files are available in the read-only \"../input/\" directory\n",
    "# For example, running this (by clicking run or pressing Shift+Enter) will list all files under the input directory\n",
    "\n",
    "import os\n",
    "for dirname, _, filenames in os.walk('/kaggle/input'):\n",
    "    for filename in filenames:\n",
    "        print(os.path.join(dirname, filename))\n",
    "\n",
    "# You can write up to 20GB to the current directory (/kaggle/working/) that gets preserved as output when you create a version using \"Save & Run All\" \n",
    "# You can also write temporary files to /kaggle/temp/, but they won't be saved outside of the current session"
   ]
  },
  {
   "cell_type": "code",
   "execution_count": 2,
   "id": "7bb90135",
   "metadata": {
    "execution": {
     "iopub.execute_input": "2022-04-08T08:38:50.408768Z",
     "iopub.status.busy": "2022-04-08T08:38:50.407456Z",
     "iopub.status.idle": "2022-04-08T08:38:50.411369Z",
     "shell.execute_reply": "2022-04-08T08:38:50.410696Z",
     "shell.execute_reply.started": "2022-04-08T08:12:10.478897Z"
    },
    "papermill": {
     "duration": 0.03845,
     "end_time": "2022-04-08T08:38:50.411525",
     "exception": false,
     "start_time": "2022-04-08T08:38:50.373075",
     "status": "completed"
    },
    "tags": []
   },
   "outputs": [],
   "source": [
    "# from sklearn.ensemble import AdaBoostClassifier\n",
    "# from sklearn.tree import DecisionTreeClassifier\n",
    "# from sklearn.datasets import load_breast_cancer\n",
    "# import pandas as pd\n",
    "# import numpy as np\n",
    "# from sklearn.model_selection import train_test_split\n",
    "# from sklearn.metrics import confusion_matrix\n",
    "# from sklearn.preprocessing import LabelEncoder"
   ]
  },
  {
   "cell_type": "code",
   "execution_count": 3,
   "id": "b6b5539d",
   "metadata": {
    "execution": {
     "iopub.execute_input": "2022-04-08T08:38:50.476755Z",
     "iopub.status.busy": "2022-04-08T08:38:50.476039Z",
     "iopub.status.idle": "2022-04-08T08:38:51.959800Z",
     "shell.execute_reply": "2022-04-08T08:38:51.959223Z",
     "shell.execute_reply.started": "2022-04-08T08:12:10.493722Z"
    },
    "papermill": {
     "duration": 1.5174,
     "end_time": "2022-04-08T08:38:51.959950",
     "exception": false,
     "start_time": "2022-04-08T08:38:50.442550",
     "status": "completed"
    },
    "tags": []
   },
   "outputs": [],
   "source": [
    "# Load libraries\n",
    "from sklearn.ensemble import AdaBoostClassifier\n",
    "from sklearn import datasets\n",
    "# Import train_test_split function\n",
    "from sklearn.model_selection import train_test_split\n",
    "#Import scikit-learn metrics module for accuracy calculation\n",
    "from sklearn import metrics"
   ]
  },
  {
   "cell_type": "code",
   "execution_count": 4,
   "id": "2f1945b9",
   "metadata": {
    "execution": {
     "iopub.execute_input": "2022-04-08T08:38:52.025470Z",
     "iopub.status.busy": "2022-04-08T08:38:52.024792Z",
     "iopub.status.idle": "2022-04-08T08:38:52.118580Z",
     "shell.execute_reply": "2022-04-08T08:38:52.119926Z",
     "shell.execute_reply.started": "2022-04-08T08:12:10.504939Z"
    },
    "papermill": {
     "duration": 0.128716,
     "end_time": "2022-04-08T08:38:52.120145",
     "exception": false,
     "start_time": "2022-04-08T08:38:51.991429",
     "status": "completed"
    },
    "tags": []
   },
   "outputs": [
    {
     "data": {
      "text/html": [
       "<div>\n",
       "<style scoped>\n",
       "    .dataframe tbody tr th:only-of-type {\n",
       "        vertical-align: middle;\n",
       "    }\n",
       "\n",
       "    .dataframe tbody tr th {\n",
       "        vertical-align: top;\n",
       "    }\n",
       "\n",
       "    .dataframe thead th {\n",
       "        text-align: right;\n",
       "    }\n",
       "</style>\n",
       "<table border=\"1\" class=\"dataframe\">\n",
       "  <thead>\n",
       "    <tr style=\"text-align: right;\">\n",
       "      <th></th>\n",
       "      <th>make</th>\n",
       "      <th>address</th>\n",
       "      <th>all</th>\n",
       "      <th>3d</th>\n",
       "      <th>our</th>\n",
       "      <th>over</th>\n",
       "      <th>remove</th>\n",
       "      <th>internet</th>\n",
       "      <th>order</th>\n",
       "      <th>mail</th>\n",
       "      <th>...</th>\n",
       "      <th>semicol</th>\n",
       "      <th>paren</th>\n",
       "      <th>bracket</th>\n",
       "      <th>bang</th>\n",
       "      <th>dollar</th>\n",
       "      <th>pound</th>\n",
       "      <th>cap_avg</th>\n",
       "      <th>cap_long</th>\n",
       "      <th>cap_total</th>\n",
       "      <th>Class</th>\n",
       "    </tr>\n",
       "  </thead>\n",
       "  <tbody>\n",
       "    <tr>\n",
       "      <th>0</th>\n",
       "      <td>0.00</td>\n",
       "      <td>0.00</td>\n",
       "      <td>0.29</td>\n",
       "      <td>0.0</td>\n",
       "      <td>0.00</td>\n",
       "      <td>0.00</td>\n",
       "      <td>0.00</td>\n",
       "      <td>0.00</td>\n",
       "      <td>0.00</td>\n",
       "      <td>0.00</td>\n",
       "      <td>...</td>\n",
       "      <td>0.000</td>\n",
       "      <td>0.178</td>\n",
       "      <td>0.0</td>\n",
       "      <td>0.044</td>\n",
       "      <td>0.000</td>\n",
       "      <td>0.00</td>\n",
       "      <td>1.666</td>\n",
       "      <td>10</td>\n",
       "      <td>180</td>\n",
       "      <td>ham</td>\n",
       "    </tr>\n",
       "    <tr>\n",
       "      <th>1</th>\n",
       "      <td>0.46</td>\n",
       "      <td>0.00</td>\n",
       "      <td>0.00</td>\n",
       "      <td>0.0</td>\n",
       "      <td>0.00</td>\n",
       "      <td>0.00</td>\n",
       "      <td>0.00</td>\n",
       "      <td>0.00</td>\n",
       "      <td>0.00</td>\n",
       "      <td>0.00</td>\n",
       "      <td>...</td>\n",
       "      <td>0.000</td>\n",
       "      <td>0.125</td>\n",
       "      <td>0.0</td>\n",
       "      <td>0.000</td>\n",
       "      <td>0.000</td>\n",
       "      <td>0.00</td>\n",
       "      <td>1.510</td>\n",
       "      <td>10</td>\n",
       "      <td>74</td>\n",
       "      <td>ham</td>\n",
       "    </tr>\n",
       "    <tr>\n",
       "      <th>2</th>\n",
       "      <td>0.00</td>\n",
       "      <td>0.00</td>\n",
       "      <td>0.00</td>\n",
       "      <td>0.0</td>\n",
       "      <td>0.00</td>\n",
       "      <td>0.00</td>\n",
       "      <td>0.00</td>\n",
       "      <td>0.00</td>\n",
       "      <td>0.00</td>\n",
       "      <td>0.00</td>\n",
       "      <td>...</td>\n",
       "      <td>0.000</td>\n",
       "      <td>0.000</td>\n",
       "      <td>0.0</td>\n",
       "      <td>0.000</td>\n",
       "      <td>0.000</td>\n",
       "      <td>0.00</td>\n",
       "      <td>1.718</td>\n",
       "      <td>11</td>\n",
       "      <td>55</td>\n",
       "      <td>ham</td>\n",
       "    </tr>\n",
       "    <tr>\n",
       "      <th>3</th>\n",
       "      <td>0.33</td>\n",
       "      <td>0.44</td>\n",
       "      <td>0.37</td>\n",
       "      <td>0.0</td>\n",
       "      <td>0.14</td>\n",
       "      <td>0.11</td>\n",
       "      <td>0.00</td>\n",
       "      <td>0.07</td>\n",
       "      <td>0.97</td>\n",
       "      <td>1.16</td>\n",
       "      <td>...</td>\n",
       "      <td>0.006</td>\n",
       "      <td>0.159</td>\n",
       "      <td>0.0</td>\n",
       "      <td>0.069</td>\n",
       "      <td>0.221</td>\n",
       "      <td>0.11</td>\n",
       "      <td>3.426</td>\n",
       "      <td>72</td>\n",
       "      <td>819</td>\n",
       "      <td>spam</td>\n",
       "    </tr>\n",
       "    <tr>\n",
       "      <th>4</th>\n",
       "      <td>0.00</td>\n",
       "      <td>2.08</td>\n",
       "      <td>0.00</td>\n",
       "      <td>0.0</td>\n",
       "      <td>3.12</td>\n",
       "      <td>0.00</td>\n",
       "      <td>1.04</td>\n",
       "      <td>0.00</td>\n",
       "      <td>0.00</td>\n",
       "      <td>0.00</td>\n",
       "      <td>...</td>\n",
       "      <td>0.000</td>\n",
       "      <td>0.000</td>\n",
       "      <td>0.0</td>\n",
       "      <td>0.263</td>\n",
       "      <td>0.000</td>\n",
       "      <td>0.00</td>\n",
       "      <td>1.428</td>\n",
       "      <td>4</td>\n",
       "      <td>20</td>\n",
       "      <td>spam</td>\n",
       "    </tr>\n",
       "  </tbody>\n",
       "</table>\n",
       "<p>5 rows × 58 columns</p>\n",
       "</div>"
      ],
      "text/plain": [
       "   make  address   all   3d   our  over  remove  internet  order  mail  ...  \\\n",
       "0  0.00     0.00  0.29  0.0  0.00  0.00    0.00      0.00   0.00  0.00  ...   \n",
       "1  0.46     0.00  0.00  0.0  0.00  0.00    0.00      0.00   0.00  0.00  ...   \n",
       "2  0.00     0.00  0.00  0.0  0.00  0.00    0.00      0.00   0.00  0.00  ...   \n",
       "3  0.33     0.44  0.37  0.0  0.14  0.11    0.00      0.07   0.97  1.16  ...   \n",
       "4  0.00     2.08  0.00  0.0  3.12  0.00    1.04      0.00   0.00  0.00  ...   \n",
       "\n",
       "   semicol  paren  bracket   bang  dollar  pound  cap_avg  cap_long  \\\n",
       "0    0.000  0.178      0.0  0.044   0.000   0.00    1.666        10   \n",
       "1    0.000  0.125      0.0  0.000   0.000   0.00    1.510        10   \n",
       "2    0.000  0.000      0.0  0.000   0.000   0.00    1.718        11   \n",
       "3    0.006  0.159      0.0  0.069   0.221   0.11    3.426        72   \n",
       "4    0.000  0.000      0.0  0.263   0.000   0.00    1.428         4   \n",
       "\n",
       "   cap_total  Class  \n",
       "0        180    ham  \n",
       "1         74    ham  \n",
       "2         55    ham  \n",
       "3        819   spam  \n",
       "4         20   spam  \n",
       "\n",
       "[5 rows x 58 columns]"
      ]
     },
     "execution_count": 4,
     "metadata": {},
     "output_type": "execute_result"
    }
   ],
   "source": [
    "df = pd.read_csv(\"/kaggle/input/databaitapcanhan/spam_email.csv\")\n",
    "df.head()"
   ]
  },
  {
   "cell_type": "code",
   "execution_count": 5,
   "id": "936adddb",
   "metadata": {
    "execution": {
     "iopub.execute_input": "2022-04-08T08:38:52.187343Z",
     "iopub.status.busy": "2022-04-08T08:38:52.186637Z",
     "iopub.status.idle": "2022-04-08T08:38:52.213906Z",
     "shell.execute_reply": "2022-04-08T08:38:52.214575Z",
     "shell.execute_reply.started": "2022-04-08T08:12:10.563746Z"
    },
    "papermill": {
     "duration": 0.062735,
     "end_time": "2022-04-08T08:38:52.214760",
     "exception": false,
     "start_time": "2022-04-08T08:38:52.152025",
     "status": "completed"
    },
    "tags": []
   },
   "outputs": [
    {
     "name": "stdout",
     "output_type": "stream",
     "text": [
      "<class 'pandas.core.frame.DataFrame'>\n",
      "RangeIndex: 4601 entries, 0 to 4600\n",
      "Data columns (total 58 columns):\n",
      " #   Column      Non-Null Count  Dtype  \n",
      "---  ------      --------------  -----  \n",
      " 0   make        4601 non-null   float64\n",
      " 1   address     4601 non-null   float64\n",
      " 2   all         4601 non-null   float64\n",
      " 3   3d          4601 non-null   float64\n",
      " 4   our         4601 non-null   float64\n",
      " 5   over        4601 non-null   float64\n",
      " 6   remove      4601 non-null   float64\n",
      " 7   internet    4601 non-null   float64\n",
      " 8   order       4601 non-null   float64\n",
      " 9   mail        4601 non-null   float64\n",
      " 10  receive     4601 non-null   float64\n",
      " 11  will        4601 non-null   float64\n",
      " 12  people      4601 non-null   float64\n",
      " 13  report      4601 non-null   float64\n",
      " 14  addresses   4601 non-null   float64\n",
      " 15  free        4601 non-null   float64\n",
      " 16  business    4601 non-null   float64\n",
      " 17  email       4601 non-null   float64\n",
      " 18  you         4601 non-null   float64\n",
      " 19  credit      4601 non-null   float64\n",
      " 20  your        4601 non-null   float64\n",
      " 21  font        4601 non-null   float64\n",
      " 22  000         4601 non-null   float64\n",
      " 23  money       4601 non-null   float64\n",
      " 24  hp          4601 non-null   float64\n",
      " 25  hpl         4601 non-null   float64\n",
      " 26  george      4601 non-null   float64\n",
      " 27  650         4601 non-null   float64\n",
      " 28  lab         4601 non-null   float64\n",
      " 29  labs        4601 non-null   float64\n",
      " 30  telnet      4601 non-null   float64\n",
      " 31  857         4601 non-null   float64\n",
      " 32  data        4601 non-null   float64\n",
      " 33  415         4601 non-null   float64\n",
      " 34  85          4601 non-null   float64\n",
      " 35  technology  4601 non-null   float64\n",
      " 36  1999        4601 non-null   float64\n",
      " 37  parts       4601 non-null   float64\n",
      " 38  pm          4601 non-null   float64\n",
      " 39  direct      4601 non-null   float64\n",
      " 40  cs          4601 non-null   float64\n",
      " 41  meeting     4601 non-null   float64\n",
      " 42  original    4601 non-null   float64\n",
      " 43  project     4601 non-null   float64\n",
      " 44  re          4601 non-null   float64\n",
      " 45  edu         4601 non-null   float64\n",
      " 46  table       4601 non-null   float64\n",
      " 47  conference  4601 non-null   float64\n",
      " 48  semicol     4601 non-null   float64\n",
      " 49  paren       4601 non-null   float64\n",
      " 50  bracket     4601 non-null   float64\n",
      " 51  bang        4601 non-null   float64\n",
      " 52  dollar      4601 non-null   float64\n",
      " 53  pound       4601 non-null   float64\n",
      " 54  cap_avg     4601 non-null   float64\n",
      " 55  cap_long    4601 non-null   int64  \n",
      " 56  cap_total   4601 non-null   int64  \n",
      " 57  Class       4601 non-null   object \n",
      "dtypes: float64(55), int64(2), object(1)\n",
      "memory usage: 2.0+ MB\n"
     ]
    }
   ],
   "source": [
    "df.info()"
   ]
  },
  {
   "cell_type": "code",
   "execution_count": 6,
   "id": "2c8bbdd0",
   "metadata": {
    "execution": {
     "iopub.execute_input": "2022-04-08T08:38:52.282638Z",
     "iopub.status.busy": "2022-04-08T08:38:52.281888Z",
     "iopub.status.idle": "2022-04-08T08:38:52.315163Z",
     "shell.execute_reply": "2022-04-08T08:38:52.315640Z",
     "shell.execute_reply.started": "2022-04-08T08:12:10.580839Z"
    },
    "papermill": {
     "duration": 0.068508,
     "end_time": "2022-04-08T08:38:52.315816",
     "exception": false,
     "start_time": "2022-04-08T08:38:52.247308",
     "status": "completed"
    },
    "tags": []
   },
   "outputs": [
    {
     "data": {
      "text/html": [
       "<div>\n",
       "<style scoped>\n",
       "    .dataframe tbody tr th:only-of-type {\n",
       "        vertical-align: middle;\n",
       "    }\n",
       "\n",
       "    .dataframe tbody tr th {\n",
       "        vertical-align: top;\n",
       "    }\n",
       "\n",
       "    .dataframe thead th {\n",
       "        text-align: right;\n",
       "    }\n",
       "</style>\n",
       "<table border=\"1\" class=\"dataframe\">\n",
       "  <thead>\n",
       "    <tr style=\"text-align: right;\">\n",
       "      <th></th>\n",
       "      <th>make</th>\n",
       "      <th>address</th>\n",
       "      <th>all</th>\n",
       "      <th>3d</th>\n",
       "      <th>our</th>\n",
       "      <th>over</th>\n",
       "      <th>remove</th>\n",
       "      <th>internet</th>\n",
       "      <th>order</th>\n",
       "      <th>mail</th>\n",
       "      <th>...</th>\n",
       "      <th>conference</th>\n",
       "      <th>semicol</th>\n",
       "      <th>paren</th>\n",
       "      <th>bracket</th>\n",
       "      <th>bang</th>\n",
       "      <th>dollar</th>\n",
       "      <th>pound</th>\n",
       "      <th>cap_avg</th>\n",
       "      <th>cap_long</th>\n",
       "      <th>cap_total</th>\n",
       "    </tr>\n",
       "  </thead>\n",
       "  <tbody>\n",
       "    <tr>\n",
       "      <th>0</th>\n",
       "      <td>0.00</td>\n",
       "      <td>0.00</td>\n",
       "      <td>0.29</td>\n",
       "      <td>0.0</td>\n",
       "      <td>0.00</td>\n",
       "      <td>0.00</td>\n",
       "      <td>0.00</td>\n",
       "      <td>0.00</td>\n",
       "      <td>0.00</td>\n",
       "      <td>0.00</td>\n",
       "      <td>...</td>\n",
       "      <td>0.0</td>\n",
       "      <td>0.000</td>\n",
       "      <td>0.178</td>\n",
       "      <td>0.0</td>\n",
       "      <td>0.044</td>\n",
       "      <td>0.000</td>\n",
       "      <td>0.00</td>\n",
       "      <td>1.666</td>\n",
       "      <td>10</td>\n",
       "      <td>180</td>\n",
       "    </tr>\n",
       "    <tr>\n",
       "      <th>1</th>\n",
       "      <td>0.46</td>\n",
       "      <td>0.00</td>\n",
       "      <td>0.00</td>\n",
       "      <td>0.0</td>\n",
       "      <td>0.00</td>\n",
       "      <td>0.00</td>\n",
       "      <td>0.00</td>\n",
       "      <td>0.00</td>\n",
       "      <td>0.00</td>\n",
       "      <td>0.00</td>\n",
       "      <td>...</td>\n",
       "      <td>0.0</td>\n",
       "      <td>0.000</td>\n",
       "      <td>0.125</td>\n",
       "      <td>0.0</td>\n",
       "      <td>0.000</td>\n",
       "      <td>0.000</td>\n",
       "      <td>0.00</td>\n",
       "      <td>1.510</td>\n",
       "      <td>10</td>\n",
       "      <td>74</td>\n",
       "    </tr>\n",
       "    <tr>\n",
       "      <th>2</th>\n",
       "      <td>0.00</td>\n",
       "      <td>0.00</td>\n",
       "      <td>0.00</td>\n",
       "      <td>0.0</td>\n",
       "      <td>0.00</td>\n",
       "      <td>0.00</td>\n",
       "      <td>0.00</td>\n",
       "      <td>0.00</td>\n",
       "      <td>0.00</td>\n",
       "      <td>0.00</td>\n",
       "      <td>...</td>\n",
       "      <td>0.0</td>\n",
       "      <td>0.000</td>\n",
       "      <td>0.000</td>\n",
       "      <td>0.0</td>\n",
       "      <td>0.000</td>\n",
       "      <td>0.000</td>\n",
       "      <td>0.00</td>\n",
       "      <td>1.718</td>\n",
       "      <td>11</td>\n",
       "      <td>55</td>\n",
       "    </tr>\n",
       "    <tr>\n",
       "      <th>3</th>\n",
       "      <td>0.33</td>\n",
       "      <td>0.44</td>\n",
       "      <td>0.37</td>\n",
       "      <td>0.0</td>\n",
       "      <td>0.14</td>\n",
       "      <td>0.11</td>\n",
       "      <td>0.00</td>\n",
       "      <td>0.07</td>\n",
       "      <td>0.97</td>\n",
       "      <td>1.16</td>\n",
       "      <td>...</td>\n",
       "      <td>0.0</td>\n",
       "      <td>0.006</td>\n",
       "      <td>0.159</td>\n",
       "      <td>0.0</td>\n",
       "      <td>0.069</td>\n",
       "      <td>0.221</td>\n",
       "      <td>0.11</td>\n",
       "      <td>3.426</td>\n",
       "      <td>72</td>\n",
       "      <td>819</td>\n",
       "    </tr>\n",
       "    <tr>\n",
       "      <th>4</th>\n",
       "      <td>0.00</td>\n",
       "      <td>2.08</td>\n",
       "      <td>0.00</td>\n",
       "      <td>0.0</td>\n",
       "      <td>3.12</td>\n",
       "      <td>0.00</td>\n",
       "      <td>1.04</td>\n",
       "      <td>0.00</td>\n",
       "      <td>0.00</td>\n",
       "      <td>0.00</td>\n",
       "      <td>...</td>\n",
       "      <td>0.0</td>\n",
       "      <td>0.000</td>\n",
       "      <td>0.000</td>\n",
       "      <td>0.0</td>\n",
       "      <td>0.263</td>\n",
       "      <td>0.000</td>\n",
       "      <td>0.00</td>\n",
       "      <td>1.428</td>\n",
       "      <td>4</td>\n",
       "      <td>20</td>\n",
       "    </tr>\n",
       "  </tbody>\n",
       "</table>\n",
       "<p>5 rows × 57 columns</p>\n",
       "</div>"
      ],
      "text/plain": [
       "   make  address   all   3d   our  over  remove  internet  order  mail  ...  \\\n",
       "0  0.00     0.00  0.29  0.0  0.00  0.00    0.00      0.00   0.00  0.00  ...   \n",
       "1  0.46     0.00  0.00  0.0  0.00  0.00    0.00      0.00   0.00  0.00  ...   \n",
       "2  0.00     0.00  0.00  0.0  0.00  0.00    0.00      0.00   0.00  0.00  ...   \n",
       "3  0.33     0.44  0.37  0.0  0.14  0.11    0.00      0.07   0.97  1.16  ...   \n",
       "4  0.00     2.08  0.00  0.0  3.12  0.00    1.04      0.00   0.00  0.00  ...   \n",
       "\n",
       "   conference  semicol  paren  bracket   bang  dollar  pound  cap_avg  \\\n",
       "0         0.0    0.000  0.178      0.0  0.044   0.000   0.00    1.666   \n",
       "1         0.0    0.000  0.125      0.0  0.000   0.000   0.00    1.510   \n",
       "2         0.0    0.000  0.000      0.0  0.000   0.000   0.00    1.718   \n",
       "3         0.0    0.006  0.159      0.0  0.069   0.221   0.11    3.426   \n",
       "4         0.0    0.000  0.000      0.0  0.263   0.000   0.00    1.428   \n",
       "\n",
       "   cap_long  cap_total  \n",
       "0        10        180  \n",
       "1        10         74  \n",
       "2        11         55  \n",
       "3        72        819  \n",
       "4         4         20  \n",
       "\n",
       "[5 rows x 57 columns]"
      ]
     },
     "execution_count": 6,
     "metadata": {},
     "output_type": "execute_result"
    }
   ],
   "source": [
    "X = df[['make', 'address', 'all','3d','our','over','remove','internet', 'order', 'mail', 'receive', \n",
    "        'will', 'people', 'report', 'addresses', 'free', 'business', 'email', 'you', 'credit', 'your', \n",
    "          'font', '000','money','hp','hpl','george', '650','lab','labs', 'telnet','857','data', '415',\n",
    "        '85', 'technology','1999','parts','pm','direct','cs','meeting','original', 'project','re','edu',\n",
    "        'table','conference','semicol','paren','bracket','bang','dollar','pound','cap_avg','cap_long','cap_total']]\n",
    "\n",
    "X.head()"
   ]
  },
  {
   "cell_type": "code",
   "execution_count": 7,
   "id": "8b97c340",
   "metadata": {
    "execution": {
     "iopub.execute_input": "2022-04-08T08:38:52.384408Z",
     "iopub.status.busy": "2022-04-08T08:38:52.383732Z",
     "iopub.status.idle": "2022-04-08T08:38:52.390185Z",
     "shell.execute_reply": "2022-04-08T08:38:52.390750Z",
     "shell.execute_reply.started": "2022-04-08T08:12:10.611223Z"
    },
    "papermill": {
     "duration": 0.042333,
     "end_time": "2022-04-08T08:38:52.390921",
     "exception": false,
     "start_time": "2022-04-08T08:38:52.348588",
     "status": "completed"
    },
    "tags": []
   },
   "outputs": [
    {
     "data": {
      "text/plain": [
       "0     ham\n",
       "1     ham\n",
       "2     ham\n",
       "3    spam\n",
       "4    spam\n",
       "Name: Class, dtype: object"
      ]
     },
     "execution_count": 7,
     "metadata": {},
     "output_type": "execute_result"
    }
   ],
   "source": [
    "y = df['Class']\n",
    "\n",
    "y.head()"
   ]
  },
  {
   "cell_type": "code",
   "execution_count": 8,
   "id": "d6c78446",
   "metadata": {
    "execution": {
     "iopub.execute_input": "2022-04-08T08:38:52.462256Z",
     "iopub.status.busy": "2022-04-08T08:38:52.461641Z",
     "iopub.status.idle": "2022-04-08T08:38:52.466299Z",
     "shell.execute_reply": "2022-04-08T08:38:52.466872Z",
     "shell.execute_reply.started": "2022-04-08T08:12:10.630330Z"
    },
    "papermill": {
     "duration": 0.042607,
     "end_time": "2022-04-08T08:38:52.467043",
     "exception": false,
     "start_time": "2022-04-08T08:38:52.424436",
     "status": "completed"
    },
    "tags": []
   },
   "outputs": [],
   "source": [
    "from sklearn.preprocessing import LabelEncoder\n",
    "\n",
    "le=LabelEncoder()\n",
    "\n",
    "y=le.fit_transform(y)"
   ]
  },
  {
   "cell_type": "code",
   "execution_count": 9,
   "id": "f7e2807d",
   "metadata": {
    "execution": {
     "iopub.execute_input": "2022-04-08T08:38:52.536908Z",
     "iopub.status.busy": "2022-04-08T08:38:52.536223Z",
     "iopub.status.idle": "2022-04-08T08:38:52.559335Z",
     "shell.execute_reply": "2022-04-08T08:38:52.559860Z",
     "shell.execute_reply.started": "2022-04-08T08:12:10.641726Z"
    },
    "papermill": {
     "duration": 0.060188,
     "end_time": "2022-04-08T08:38:52.560034",
     "exception": false,
     "start_time": "2022-04-08T08:38:52.499846",
     "status": "completed"
    },
    "tags": []
   },
   "outputs": [],
   "source": [
    "# Import train_test_split function\n",
    "from sklearn.model_selection import train_test_split\n",
    "from sklearn import preprocessing\n",
    "# Split dataset into training set and test set\n",
    "X_train, X_test, y_train, y_test = train_test_split(X, y, test_size=0.3)\n",
    "\n",
    "std_scaler = preprocessing.StandardScaler().fit(X_train)\n",
    "X_train_scaled = std_scaler.transform(X_train)\n",
    "X_test_scaled = std_scaler.transform(X_test)"
   ]
  },
  {
   "cell_type": "code",
   "execution_count": 10,
   "id": "a6e45432",
   "metadata": {
    "execution": {
     "iopub.execute_input": "2022-04-08T08:38:52.629391Z",
     "iopub.status.busy": "2022-04-08T08:38:52.628729Z",
     "iopub.status.idle": "2022-04-08T08:38:52.856397Z",
     "shell.execute_reply": "2022-04-08T08:38:52.857014Z",
     "shell.execute_reply.started": "2022-04-08T08:12:10.666359Z"
    },
    "papermill": {
     "duration": 0.264128,
     "end_time": "2022-04-08T08:38:52.857195",
     "exception": false,
     "start_time": "2022-04-08T08:38:52.593067",
     "status": "completed"
    },
    "tags": []
   },
   "outputs": [],
   "source": [
    "# Import the AdaBoost classifier\n",
    "from sklearn.ensemble import AdaBoostClassifier\n",
    "\n",
    "\n",
    "# Create adaboost classifer object\n",
    "# n_estinmators the number of models to iteratively train\n",
    "abc = AdaBoostClassifier(n_estimators=30, learning_rate=1, random_state=0)\n",
    "\n",
    "# Train Adaboost Classifer\n",
    "model1 = abc.fit(X_train, y_train)\n",
    "\n",
    "\n",
    "#Predict the response for test dataset\n",
    "y_pred = model1.predict(X_test)"
   ]
  },
  {
   "cell_type": "code",
   "execution_count": 11,
   "id": "37ff2276",
   "metadata": {
    "execution": {
     "iopub.execute_input": "2022-04-08T08:38:52.928645Z",
     "iopub.status.busy": "2022-04-08T08:38:52.927925Z",
     "iopub.status.idle": "2022-04-08T08:38:52.933653Z",
     "shell.execute_reply": "2022-04-08T08:38:52.933137Z",
     "shell.execute_reply.started": "2022-04-08T08:12:10.885733Z"
    },
    "papermill": {
     "duration": 0.043626,
     "end_time": "2022-04-08T08:38:52.933799",
     "exception": false,
     "start_time": "2022-04-08T08:38:52.890173",
     "status": "completed"
    },
    "tags": []
   },
   "outputs": [
    {
     "name": "stdout",
     "output_type": "stream",
     "text": [
      "AdaBoost Classifier Model Accuracy: 0.9319333816075308\n"
     ]
    }
   ],
   "source": [
    "#import scikit-learn metrics module for accuracy calculation\n",
    "from sklearn.metrics import accuracy_score\n",
    "\n",
    "\n",
    "# calculate and print model accuracy\n",
    "print(\"AdaBoost Classifier Model Accuracy:\", accuracy_score(y_test, y_pred))"
   ]
  },
  {
   "cell_type": "code",
   "execution_count": 12,
   "id": "ff38ae47",
   "metadata": {
    "execution": {
     "iopub.execute_input": "2022-04-08T08:38:53.010515Z",
     "iopub.status.busy": "2022-04-08T08:38:53.009825Z",
     "iopub.status.idle": "2022-04-08T08:38:53.643139Z",
     "shell.execute_reply": "2022-04-08T08:38:53.643674Z",
     "shell.execute_reply.started": "2022-04-08T08:12:10.892879Z"
    },
    "papermill": {
     "duration": 0.67614,
     "end_time": "2022-04-08T08:38:53.643854",
     "exception": false,
     "start_time": "2022-04-08T08:38:52.967714",
     "status": "completed"
    },
    "tags": []
   },
   "outputs": [
    {
     "data": {
      "text/plain": [
       "<matplotlib.legend.Legend at 0x7fcb2d3c7810>"
      ]
     },
     "execution_count": 12,
     "metadata": {},
     "output_type": "execute_result"
    },
    {
     "data": {
      "image/png": "[encoded data removed]",
      "text/plain": [
       "<Figure size 432x288 with 2 Axes>"
      ]
     },
     "metadata": {
      "needs_background": "light"
     },
     "output_type": "display_data"
    }
   ],
   "source": [
    "from sklearn.decomposition import PCA\n",
    "import matplotlib.pyplot as plt\n",
    "pca = PCA(n_components=2)\n",
    "fig, (plttrain, plttest) = plt.subplots(1, 2)\n",
    "datavl1=pca.fit_transform(X_train_scaled)\n",
    "g11=datavl1[(y_train==1)]\n",
    "g12=datavl1[(y_train==0)]\n",
    "plttrain.set_title('Train values :'+ str(X_train_scaled.shape))\n",
    "plttrain.scatter(g11[:,0],g11[:,1],marker='o')\n",
    "plttrain.scatter(g12[:,0],g12[:,1],marker='+')\n",
    "plttrain.legend(['lable 1','lable 0'])\n",
    "datavl2=pca.fit_transform(X_test_scaled)\n",
    "g21=datavl2[(y_test==1)]\n",
    "g22=datavl2[(y_test==0)]\n",
    "plttest.set_title('Test values :'+str(X_test_scaled.shape))\n",
    "plttest.scatter(g21[:,0],g21[:,1],marker='o')\n",
    "plttest.scatter(g22[:,0],g22[:,1],marker='+')\n",
    "plttest.legend(['lable 1','lable 0'])"
   ]
  },
  {
   "cell_type": "code",
   "execution_count": 13,
   "id": "4144f126",
   "metadata": {
    "execution": {
     "iopub.execute_input": "2022-04-08T08:38:53.723885Z",
     "iopub.status.busy": "2022-04-08T08:38:53.717031Z",
     "iopub.status.idle": "2022-04-08T08:38:54.182955Z",
     "shell.execute_reply": "2022-04-08T08:38:54.182257Z",
     "shell.execute_reply.started": "2022-04-08T08:12:11.450640Z"
    },
    "papermill": {
     "duration": 0.503485,
     "end_time": "2022-04-08T08:38:54.183098",
     "exception": false,
     "start_time": "2022-04-08T08:38:53.679613",
     "status": "completed"
    },
    "tags": []
   },
   "outputs": [
    {
     "data": {
      "text/plain": [
       "<matplotlib.legend.Legend at 0x7fcb25279f90>"
      ]
     },
     "execution_count": 13,
     "metadata": {},
     "output_type": "execute_result"
    },
    {
     "data": {
      "image/png": "[encoded data removed]",
      "text/plain": [
       "<Figure size 432x288 with 1 Axes>"
      ]
     },
     "metadata": {
      "needs_background": "light"
     },
     "output_type": "display_data"
    }
   ],
   "source": [
    "from sklearn.decomposition import PCA\n",
    "import matplotlib.pyplot as plt\n",
    "pca= PCA(n_components=2)\n",
    "# fig, (plttrain, plttest) = plt.subplots(1, 2)\n",
    "datavlx=pca.fit_transform(X)\n",
    "gx1=datavlx[(y==1)]\n",
    "gx2=datavlx[(y==0)]\n",
    "plt.title('Train values :'+ str(X.shape))\n",
    "plt.scatter(gx1[:,0],gx1[:,1],marker='o')\n",
    "plt.scatter(gx2[:,0],gx2[:,1],marker='+')\n",
    "plt.legend(['lable 1','lable 0'])"
   ]
  },
  {
   "cell_type": "code",
   "execution_count": 14,
   "id": "e29eb6d3",
   "metadata": {
    "execution": {
     "iopub.execute_input": "2022-04-08T08:38:54.296099Z",
     "iopub.status.busy": "2022-04-08T08:38:54.294973Z",
     "iopub.status.idle": "2022-04-08T08:38:54.297804Z",
     "shell.execute_reply": "2022-04-08T08:38:54.297254Z",
     "shell.execute_reply.started": "2022-04-08T08:12:11.867815Z"
    },
    "papermill": {
     "duration": 0.07692,
     "end_time": "2022-04-08T08:38:54.297951",
     "exception": false,
     "start_time": "2022-04-08T08:38:54.221031",
     "status": "completed"
    },
    "tags": []
   },
   "outputs": [],
   "source": [
    "class RatingModel:\n",
    "    def __init__(self, y_, y_Pr):\n",
    "      self.y_=y_\n",
    "      self.y_Pr=y_Pr\n",
    "      self.TN=np.size(y_Pr[(y_Pr==-1)&(y_==y_Pr)])\n",
    "      self.FN=np.size(y_Pr[(y_Pr==-1)&(y_!=y_Pr)])\n",
    "      self.TP=np.size(y_Pr[(y_Pr==1)&(y_==y_Pr)])\n",
    "      self.FP=np.size(y_Pr[(y_Pr==1)&(y_!=y_Pr)])\n",
    "      self.y_[self.y_==0]=-1\n",
    "      self.y_Pr[self.y_Pr==0]=-1\n",
    "    def __rep__():\n",
    "        return \"\"\n",
    "    def accur_Error(self, y_, y_Pr):\n",
    "        rs=(self.TP+self.TN)/(y_.size)\n",
    "        return [rs,(1-rs)]\n",
    "    def sensitivity(self):\n",
    "        P=np.size(self.y_[self.y_==1])\n",
    "        return (self.TP)/(P)\n",
    "    def specificity(self):\n",
    "        N=np.size(self.y_[self.y_==-1])\n",
    "        return (self.TN)/(N)\n",
    "    def precision(self):\n",
    "        rs=self.TP+self.FP\n",
    "        return (self.TP)/(rs)\n",
    "    def recall(self):\n",
    "        rs=self.TP+self.FN\n",
    "        return (self.TP)/(rs)\n",
    "    def rating(self):\n",
    "        return [self.accur_Error(self.y_, self.y_Pr), self.sensitivity(), self.specificity(), self.precision(), self.recall()]\n",
    "class DecisionStump:\n",
    "    def __init__(self, T=100):\n",
    "        self.T = T\n",
    "        pass\n",
    "\n",
    "    def fit(self, X: np.ndarray, y: np.ndarray, sample_weight: np.ndarray):\n",
    "        T = self.T\n",
    "        W=sample_weight\n",
    "        nrow, ncol = X.shape\n",
    "        assert nrow == y.size\n",
    "\n",
    "        bestn = 0\n",
    "        bestd = 1\n",
    "        bestp = 0\n",
    "        minerr = W.sum()\n",
    "        for i in range(ncol):\n",
    "            err, d, p = self._optimize(X[:, i], y, W, T)\n",
    "            if err < minerr:\n",
    "                minerr = err\n",
    "                bestn = i\n",
    "                bestd = d\n",
    "                bestp = p\n",
    "        \n",
    "        self.features = ncol\n",
    "        self.bestn = bestn\n",
    "        self.bestd = bestd\n",
    "        self.bestp = bestp\n",
    "\n",
    "        return self\n",
    "\n",
    "    def _optimize(self, X, y, W, T):\n",
    "        X = X.flatten()\n",
    "        min_x, max_x = X.min(), X.max()\n",
    "        len_x = max_x - min_x\n",
    "        \n",
    "        bestd = 1\n",
    "        bestp = min_x\n",
    "        minerr = W.sum()\n",
    "\n",
    "        if len_x > 0.0:\n",
    "            for p in np.arange(min_x, max_x, len_x/T):\n",
    "                for d in [-1, 1]:\n",
    "                    gy = np.ones((y.size))\n",
    "                    gy[X*d < p*d] = -1\n",
    "                    err = np.sum((gy != y)*W)\n",
    "                    if err < minerr:\n",
    "                        minerr = err\n",
    "                        bestd = d\n",
    "                        bestp = p\n",
    "\n",
    "        return minerr, bestd, bestp\n",
    "\n",
    "    def predict(self, test_set : np.ndarray):\n",
    "        nrow, ncol = test_set.shape\n",
    "\n",
    "        assert ncol == self.features\n",
    "\n",
    "        icol = test_set[:, self.bestn]\n",
    "        h = np.ones((nrow))\n",
    "        h[icol*self.bestd < self.bestp*self.bestd] = -1\n",
    "        return h\n",
    "class AdaBoost:\n",
    "    def __init__(self , T, hmodel = DecisionStump()):\n",
    "        self.T=T\n",
    "        self.hmodel=hmodel\n",
    "    def fit(self, X: np.ndarray, y_: np.ndarray, verbose=False):\n",
    "      n = X.shape[0]\n",
    "      T = self.T\n",
    "      y=y_\n",
    "      y[y==0]=-1\n",
    "    # init numpy arrays\n",
    "      self.D = np.zeros(shape=(T, n))\n",
    "      self.h = np.zeros(shape=T, dtype=object)\n",
    "      self.alpha = np.zeros(shape=T)\n",
    "      self.errors = np.zeros(shape=T)\n",
    "      self.ratting = np.zeros(shape=(T,2))\n",
    "\n",
    "      # initialize weights uniformly\n",
    "      self.D[0] = np.ones(shape=n) / n\n",
    "\n",
    "      for t in range(T):\n",
    "          # fit  weak learner\n",
    "          D_ = self.D[t]\n",
    "          h_ = DecisionStump(60)\n",
    "          h_ = h_.fit(X, y, D_)\n",
    "\n",
    "          # calculate error and stump weight from weak learner prediction\n",
    "          Pr_ = h_.predict(X)\n",
    "          error_ = D_[(Pr_ != y)].sum()# / n\n",
    "          alpha_ = np.log((1 - error_) / error_) / 2\n",
    "\n",
    "          # update sample weights\n",
    "          D_new = (\n",
    "              D_ * np.exp(-alpha_ * y * Pr_)\n",
    "          )\n",
    "          \n",
    "          D_new /= D_new.sum()\n",
    "\n",
    "          # If not final iteration, update sample weights for t+1\n",
    "          if t+1 < T:\n",
    "              self.D[t+1] = D_new\n",
    "\n",
    "          # save results of iteration\n",
    "          self.h[t] = h_\n",
    "          self.alpha[t] = alpha_\n",
    "          self.errors[t] = error_\n",
    "          if t>0:\n",
    "            Pr_temp=self.predictmodul(X,t)\n",
    "            modelra=RatingModel(y, Pr_temp)\n",
    "            self.ratting[t,:]=modelra.accur_Error(y, Pr_temp)\n",
    "          if verbose: print('Training {0}-th weak classifier: accuracy={1}, error={2}'.format (t, self.ratting[t,0], self.ratting[t,1]))\n",
    "      return self\n",
    "    def predict(self, X):\n",
    "        Pr_ = np.array([h_.predict(X) for h_ in self.h])\n",
    "        return np.sign(np.dot(self.alpha, Pr_))\n",
    "    def predictmodul(self, X, i):\n",
    "        h_temp=self.h[:i]\n",
    "        alpha_temp=self.alpha[:i]\n",
    "        Pr_ = np.array([h_.predict(X) for h_ in h_temp])\n",
    "        return np.sign(np.dot(alpha_temp, Pr_))"
   ]
  },
  {
   "cell_type": "code",
   "execution_count": 15,
   "id": "5ce19bc1",
   "metadata": {
    "execution": {
     "iopub.execute_input": "2022-04-08T08:38:54.376549Z",
     "iopub.status.busy": "2022-04-08T08:38:54.375404Z",
     "iopub.status.idle": "2022-04-08T08:39:04.235270Z",
     "shell.execute_reply": "2022-04-08T08:39:04.233243Z",
     "shell.execute_reply.started": "2022-04-08T08:12:11.896641Z"
    },
    "papermill": {
     "duration": 9.900989,
     "end_time": "2022-04-08T08:39:04.235729",
     "exception": false,
     "start_time": "2022-04-08T08:38:54.334740",
     "status": "completed"
    },
    "tags": []
   },
   "outputs": [
    {
     "name": "stdout",
     "output_type": "stream",
     "text": [
      "Training 0-th weak classifier: accuracy=0.0, error=0.0\n",
      "Training 1-th weak classifier: accuracy=0.7720496894409938, error=0.22795031055900616\n",
      "Training 2-th weak classifier: accuracy=0.7720496894409938, error=0.22795031055900616\n",
      "Training 3-th weak classifier: accuracy=0.818944099378882, error=0.18105590062111798\n",
      "Training 4-th weak classifier: accuracy=0.8326086956521739, error=0.16739130434782612\n",
      "Training 5-th weak classifier: accuracy=0.853416149068323, error=0.14658385093167703\n",
      "Training 6-th weak classifier: accuracy=0.8667701863354037, error=0.1332298136645963\n",
      "Training 7-th weak classifier: accuracy=0.8714285714285714, error=0.12857142857142856\n",
      "Training 8-th weak classifier: accuracy=0.8909937888198758, error=0.10900621118012421\n",
      "Training 9-th weak classifier: accuracy=0.8916149068322982, error=0.10838509316770184\n",
      "Training 10-th weak classifier: accuracy=0.8947204968944099, error=0.10527950310559009\n",
      "Training 11-th weak classifier: accuracy=0.8934782608695652, error=0.10652173913043483\n",
      "Training 12-th weak classifier: accuracy=0.8990683229813664, error=0.10093167701863359\n",
      "Training 13-th weak classifier: accuracy=0.9003105590062112, error=0.09968944099378885\n",
      "Training 14-th weak classifier: accuracy=0.901863354037267, error=0.09813664596273297\n",
      "Training 15-th weak classifier: accuracy=0.9021739130434783, error=0.09782608695652173\n",
      "Training 16-th weak classifier: accuracy=0.9096273291925466, error=0.09037267080745337\n",
      "Training 17-th weak classifier: accuracy=0.908695652173913, error=0.09130434782608698\n",
      "Training 18-th weak classifier: accuracy=0.9114906832298136, error=0.08850931677018636\n",
      "Training 19-th weak classifier: accuracy=0.9114906832298136, error=0.08850931677018636\n",
      "Training 20-th weak classifier: accuracy=0.9114906832298136, error=0.08850931677018636\n",
      "Training 21-th weak classifier: accuracy=0.9130434782608695, error=0.08695652173913049\n",
      "Training 22-th weak classifier: accuracy=0.9149068322981366, error=0.08509316770186337\n",
      "Training 23-th weak classifier: accuracy=0.9173913043478261, error=0.08260869565217388\n",
      "Training 24-th weak classifier: accuracy=0.9164596273291925, error=0.0835403726708075\n",
      "Training 25-th weak classifier: accuracy=0.9195652173913044, error=0.08043478260869563\n",
      "Training 26-th weak classifier: accuracy=0.9173913043478261, error=0.08260869565217388\n",
      "Training 27-th weak classifier: accuracy=0.9201863354037267, error=0.07981366459627326\n",
      "Training 28-th weak classifier: accuracy=0.9195652173913044, error=0.08043478260869563\n",
      "Training 29-th weak classifier: accuracy=0.9220496894409937, error=0.07795031055900625\n"
     ]
    }
   ],
   "source": [
    "model=AdaBoost(30)\n",
    "model=model.fit(X_train_scaled, y_train,  True )\n",
    "Pr=model.predict( X_test_scaled)\n",
    "Pr[(Pr==0)]=-1"
   ]
  },
  {
   "cell_type": "code",
   "execution_count": 16,
   "id": "68abf805",
   "metadata": {
    "execution": {
     "iopub.execute_input": "2022-04-08T08:39:04.394271Z",
     "iopub.status.busy": "2022-04-08T08:39:04.393046Z",
     "iopub.status.idle": "2022-04-08T08:39:04.671436Z",
     "shell.execute_reply": "2022-04-08T08:39:04.670906Z",
     "shell.execute_reply.started": "2022-04-08T08:12:19.844064Z"
    },
    "papermill": {
     "duration": 0.346627,
     "end_time": "2022-04-08T08:39:04.671595",
     "exception": false,
     "start_time": "2022-04-08T08:39:04.324968",
     "status": "completed"
    },
    "tags": []
   },
   "outputs": [
    {
     "data": {
      "text/plain": [
       "[<matplotlib.lines.Line2D at 0x7fcb251b9910>]"
      ]
     },
     "execution_count": 16,
     "metadata": {},
     "output_type": "execute_result"
    },
    {
     "data": {
      "image/png": "[encoded data removed]",
      "text/plain": [
       "<Figure size 432x288 with 1 Axes>"
      ]
     },
     "metadata": {
      "needs_background": "light"
     },
     "output_type": "display_data"
    }
   ],
   "source": [
    "ra_Xtest = np.zeros(shape=(model.T,2))\n",
    "for i in range(1,model.T):\n",
    "  Pr_i=model.predictmodul(X_test_scaled,i)\n",
    "  modelra=RatingModel(y_test, Pr_i)\n",
    "  ra_Xtest[i,:]=modelra.accur_Error(y_test, Pr_i)\n",
    "ra_Xtrain = np.zeros(shape=(model.T,2))\n",
    "for i in range(1,model.T):\n",
    "  Pr_i=model.predictmodul(X_train_scaled,i)\n",
    "  modelra=RatingModel(y_train, Pr_i)\n",
    "  ra_Xtrain[i,:]=modelra.accur_Error(y_train, Pr_i)\n",
    "iter=range(model.T)\n",
    "plt.plot(iter,ra_Xtest[:,0],'g-', label='Test accuracy')\n",
    "plt.plot(iter,ra_Xtest[:,1],'r-', label='Test error')\n",
    "plt.plot(iter,ra_Xtrain[:,0],'g--', label='Train accuracy')\n",
    "plt.plot(iter,ra_Xtrain[:,1],'r--', label='Train error')"
   ]
  },
  {
   "cell_type": "code",
   "execution_count": 17,
   "id": "be2aefb0",
   "metadata": {
    "execution": {
     "iopub.execute_input": "2022-04-08T08:39:04.771593Z",
     "iopub.status.busy": "2022-04-08T08:39:04.770911Z",
     "iopub.status.idle": "2022-04-08T08:39:05.082894Z",
     "shell.execute_reply": "2022-04-08T08:39:05.082378Z",
     "shell.execute_reply.started": "2022-04-08T08:12:20.121597Z"
    },
    "papermill": {
     "duration": 0.363705,
     "end_time": "2022-04-08T08:39:05.083038",
     "exception": false,
     "start_time": "2022-04-08T08:39:04.719333",
     "status": "completed"
    },
    "tags": []
   },
   "outputs": [
    {
     "data": {
      "text/plain": [
       "<matplotlib.legend.Legend at 0x7fcb25148bd0>"
      ]
     },
     "execution_count": 17,
     "metadata": {},
     "output_type": "execute_result"
    },
    {
     "data": {
      "image/png": "[encoded data removed]",
      "text/plain": [
       "<Figure size 432x288 with 1 Axes>"
      ]
     },
     "metadata": {
      "needs_background": "light"
     },
     "output_type": "display_data"
    }
   ],
   "source": [
    "sumerror=0;\n",
    "y_new=y_test\n",
    "y_new[y_new==0]=-1\n",
    "sumerror=np.size(y_new[Pr!=y_new])\n",
    "gT1=datavl2[(Pr==1)]\n",
    "gT0=datavl2[(Pr==-1)]\n",
    "gF1=datavl2[(y_new!=Pr)&(Pr==1)]\n",
    "gF0=datavl2[(y_new!=Pr)&(Pr==-1)]\n",
    "plt.title('Test values errors :'+str(sumerror)+'/ '+str(X_test_scaled.shape[0]))\n",
    "plt.scatter(gT1[:,0],gT1[:,1], marker='o')\n",
    "plt.scatter(gT0[:,0],gT0[:,1], marker='+')\n",
    "plt.scatter(gF1[:,0],gF1[:,1], c=\"red\", marker='o')\n",
    "plt.scatter(gF0[:,0],gF0[:,1], c=\"red\", marker='+')\n",
    "plt.legend(['Predict true 1', 'Predict true 0', 'Predict false'])"
   ]
  },
  {
   "cell_type": "code",
   "execution_count": 18,
   "id": "dc6fd810",
   "metadata": {
    "execution": {
     "iopub.execute_input": "2022-04-08T08:39:05.186984Z",
     "iopub.status.busy": "2022-04-08T08:39:05.186250Z",
     "iopub.status.idle": "2022-04-08T08:39:05.210530Z",
     "shell.execute_reply": "2022-04-08T08:39:05.211084Z",
     "shell.execute_reply.started": "2022-04-08T08:12:20.421342Z"
    },
    "papermill": {
     "duration": 0.077432,
     "end_time": "2022-04-08T08:39:05.211271",
     "exception": false,
     "start_time": "2022-04-08T08:39:05.133839",
     "status": "completed"
    },
    "tags": []
   },
   "outputs": [
    {
     "data": {
      "text/html": [
       "<div>\n",
       "<style scoped>\n",
       "    .dataframe tbody tr th:only-of-type {\n",
       "        vertical-align: middle;\n",
       "    }\n",
       "\n",
       "    .dataframe tbody tr th {\n",
       "        vertical-align: top;\n",
       "    }\n",
       "\n",
       "    .dataframe thead th {\n",
       "        text-align: right;\n",
       "    }\n",
       "</style>\n",
       "<table border=\"1\" class=\"dataframe\">\n",
       "  <thead>\n",
       "    <tr style=\"text-align: right;\">\n",
       "      <th></th>\n",
       "      <th>Class</th>\n",
       "      <th>x-box</th>\n",
       "      <th>y-box</th>\n",
       "      <th>width</th>\n",
       "      <th>high</th>\n",
       "      <th>onpix</th>\n",
       "      <th>x-bar</th>\n",
       "      <th>y-bar</th>\n",
       "      <th>x2bar</th>\n",
       "      <th>y2bar</th>\n",
       "      <th>xybar</th>\n",
       "      <th>x2ybr</th>\n",
       "      <th>xy2br</th>\n",
       "      <th>x-ege</th>\n",
       "      <th>xegvy</th>\n",
       "      <th>y-ege</th>\n",
       "      <th>yegvx</th>\n",
       "    </tr>\n",
       "  </thead>\n",
       "  <tbody>\n",
       "    <tr>\n",
       "      <th>0</th>\n",
       "      <td>C</td>\n",
       "      <td>4</td>\n",
       "      <td>10</td>\n",
       "      <td>5</td>\n",
       "      <td>8</td>\n",
       "      <td>2</td>\n",
       "      <td>5</td>\n",
       "      <td>7</td>\n",
       "      <td>7</td>\n",
       "      <td>10</td>\n",
       "      <td>7</td>\n",
       "      <td>6</td>\n",
       "      <td>13</td>\n",
       "      <td>1</td>\n",
       "      <td>8</td>\n",
       "      <td>4</td>\n",
       "      <td>9</td>\n",
       "    </tr>\n",
       "    <tr>\n",
       "      <th>1</th>\n",
       "      <td>C</td>\n",
       "      <td>3</td>\n",
       "      <td>5</td>\n",
       "      <td>4</td>\n",
       "      <td>4</td>\n",
       "      <td>2</td>\n",
       "      <td>4</td>\n",
       "      <td>8</td>\n",
       "      <td>5</td>\n",
       "      <td>7</td>\n",
       "      <td>12</td>\n",
       "      <td>9</td>\n",
       "      <td>11</td>\n",
       "      <td>1</td>\n",
       "      <td>10</td>\n",
       "      <td>2</td>\n",
       "      <td>7</td>\n",
       "    </tr>\n",
       "    <tr>\n",
       "      <th>2</th>\n",
       "      <td>G</td>\n",
       "      <td>5</td>\n",
       "      <td>10</td>\n",
       "      <td>6</td>\n",
       "      <td>7</td>\n",
       "      <td>3</td>\n",
       "      <td>8</td>\n",
       "      <td>7</td>\n",
       "      <td>8</td>\n",
       "      <td>8</td>\n",
       "      <td>6</td>\n",
       "      <td>7</td>\n",
       "      <td>9</td>\n",
       "      <td>2</td>\n",
       "      <td>7</td>\n",
       "      <td>5</td>\n",
       "      <td>10</td>\n",
       "    </tr>\n",
       "    <tr>\n",
       "      <th>3</th>\n",
       "      <td>C</td>\n",
       "      <td>5</td>\n",
       "      <td>9</td>\n",
       "      <td>6</td>\n",
       "      <td>7</td>\n",
       "      <td>4</td>\n",
       "      <td>3</td>\n",
       "      <td>8</td>\n",
       "      <td>6</td>\n",
       "      <td>7</td>\n",
       "      <td>12</td>\n",
       "      <td>10</td>\n",
       "      <td>13</td>\n",
       "      <td>1</td>\n",
       "      <td>9</td>\n",
       "      <td>3</td>\n",
       "      <td>7</td>\n",
       "    </tr>\n",
       "    <tr>\n",
       "      <th>4</th>\n",
       "      <td>G</td>\n",
       "      <td>4</td>\n",
       "      <td>8</td>\n",
       "      <td>5</td>\n",
       "      <td>6</td>\n",
       "      <td>3</td>\n",
       "      <td>6</td>\n",
       "      <td>6</td>\n",
       "      <td>7</td>\n",
       "      <td>6</td>\n",
       "      <td>10</td>\n",
       "      <td>7</td>\n",
       "      <td>12</td>\n",
       "      <td>2</td>\n",
       "      <td>9</td>\n",
       "      <td>4</td>\n",
       "      <td>9</td>\n",
       "    </tr>\n",
       "  </tbody>\n",
       "</table>\n",
       "</div>"
      ],
      "text/plain": [
       "  Class  x-box  y-box  width  high  onpix  x-bar  y-bar  x2bar  y2bar  xybar  \\\n",
       "0     C      4     10      5     8      2      5      7      7     10      7   \n",
       "1     C      3      5      4     4      2      4      8      5      7     12   \n",
       "2     G      5     10      6     7      3      8      7      8      8      6   \n",
       "3     C      5      9      6     7      4      3      8      6      7     12   \n",
       "4     G      4      8      5     6      3      6      6      7      6     10   \n",
       "\n",
       "   x2ybr  xy2br  x-ege  xegvy  y-ege  yegvx  \n",
       "0      6     13      1      8      4      9  \n",
       "1      9     11      1     10      2      7  \n",
       "2      7      9      2      7      5     10  \n",
       "3     10     13      1      9      3      7  \n",
       "4      7     12      2      9      4      9  "
      ]
     },
     "execution_count": 18,
     "metadata": {},
     "output_type": "execute_result"
    }
   ],
   "source": [
    "df = pd.read_csv(\"/kaggle/input/databaitapcanhan1/letters_CG.csv\")\n",
    "df.head()"
   ]
  },
  {
   "cell_type": "code",
   "execution_count": 19,
   "id": "6762e453",
   "metadata": {
    "execution": {
     "iopub.execute_input": "2022-04-08T08:39:05.316601Z",
     "iopub.status.busy": "2022-04-08T08:39:05.315934Z",
     "iopub.status.idle": "2022-04-08T08:39:05.327038Z",
     "shell.execute_reply": "2022-04-08T08:39:05.327895Z",
     "shell.execute_reply.started": "2022-04-08T08:12:20.442059Z"
    },
    "papermill": {
     "duration": 0.065798,
     "end_time": "2022-04-08T08:39:05.328135",
     "exception": false,
     "start_time": "2022-04-08T08:39:05.262337",
     "status": "completed"
    },
    "tags": []
   },
   "outputs": [
    {
     "name": "stdout",
     "output_type": "stream",
     "text": [
      "<class 'pandas.core.frame.DataFrame'>\n",
      "RangeIndex: 1509 entries, 0 to 1508\n",
      "Data columns (total 17 columns):\n",
      " #   Column  Non-Null Count  Dtype \n",
      "---  ------  --------------  ----- \n",
      " 0   Class   1509 non-null   object\n",
      " 1   x-box   1509 non-null   int64 \n",
      " 2   y-box   1509 non-null   int64 \n",
      " 3   width   1509 non-null   int64 \n",
      " 4   high    1509 non-null   int64 \n",
      " 5   onpix   1509 non-null   int64 \n",
      " 6   x-bar   1509 non-null   int64 \n",
      " 7   y-bar   1509 non-null   int64 \n",
      " 8   x2bar   1509 non-null   int64 \n",
      " 9   y2bar   1509 non-null   int64 \n",
      " 10  xybar   1509 non-null   int64 \n",
      " 11  x2ybr   1509 non-null   int64 \n",
      " 12  xy2br   1509 non-null   int64 \n",
      " 13  x-ege   1509 non-null   int64 \n",
      " 14  xegvy   1509 non-null   int64 \n",
      " 15  y-ege   1509 non-null   int64 \n",
      " 16  yegvx   1509 non-null   int64 \n",
      "dtypes: int64(16), object(1)\n",
      "memory usage: 200.5+ KB\n"
     ]
    }
   ],
   "source": [
    "df.info()"
   ]
  },
  {
   "cell_type": "code",
   "execution_count": 20,
   "id": "f28f624b",
   "metadata": {
    "execution": {
     "iopub.execute_input": "2022-04-08T08:39:05.434043Z",
     "iopub.status.busy": "2022-04-08T08:39:05.433386Z",
     "iopub.status.idle": "2022-04-08T08:39:05.448540Z",
     "shell.execute_reply": "2022-04-08T08:39:05.449044Z",
     "shell.execute_reply.started": "2022-04-08T08:12:20.454610Z"
    },
    "papermill": {
     "duration": 0.069631,
     "end_time": "2022-04-08T08:39:05.449217",
     "exception": false,
     "start_time": "2022-04-08T08:39:05.379586",
     "status": "completed"
    },
    "tags": []
   },
   "outputs": [
    {
     "data": {
      "text/html": [
       "<div>\n",
       "<style scoped>\n",
       "    .dataframe tbody tr th:only-of-type {\n",
       "        vertical-align: middle;\n",
       "    }\n",
       "\n",
       "    .dataframe tbody tr th {\n",
       "        vertical-align: top;\n",
       "    }\n",
       "\n",
       "    .dataframe thead th {\n",
       "        text-align: right;\n",
       "    }\n",
       "</style>\n",
       "<table border=\"1\" class=\"dataframe\">\n",
       "  <thead>\n",
       "    <tr style=\"text-align: right;\">\n",
       "      <th></th>\n",
       "      <th>x-box</th>\n",
       "      <th>y-box</th>\n",
       "      <th>width</th>\n",
       "      <th>high</th>\n",
       "      <th>onpix</th>\n",
       "      <th>x-bar</th>\n",
       "      <th>y-bar</th>\n",
       "      <th>x2bar</th>\n",
       "      <th>y2bar</th>\n",
       "      <th>xybar</th>\n",
       "      <th>x2ybr</th>\n",
       "      <th>xy2br</th>\n",
       "      <th>x-ege</th>\n",
       "      <th>xegvy</th>\n",
       "      <th>y-ege</th>\n",
       "      <th>yegvx</th>\n",
       "    </tr>\n",
       "  </thead>\n",
       "  <tbody>\n",
       "    <tr>\n",
       "      <th>0</th>\n",
       "      <td>4</td>\n",
       "      <td>10</td>\n",
       "      <td>5</td>\n",
       "      <td>8</td>\n",
       "      <td>2</td>\n",
       "      <td>5</td>\n",
       "      <td>7</td>\n",
       "      <td>7</td>\n",
       "      <td>10</td>\n",
       "      <td>7</td>\n",
       "      <td>6</td>\n",
       "      <td>13</td>\n",
       "      <td>1</td>\n",
       "      <td>8</td>\n",
       "      <td>4</td>\n",
       "      <td>9</td>\n",
       "    </tr>\n",
       "    <tr>\n",
       "      <th>1</th>\n",
       "      <td>3</td>\n",
       "      <td>5</td>\n",
       "      <td>4</td>\n",
       "      <td>4</td>\n",
       "      <td>2</td>\n",
       "      <td>4</td>\n",
       "      <td>8</td>\n",
       "      <td>5</td>\n",
       "      <td>7</td>\n",
       "      <td>12</td>\n",
       "      <td>9</td>\n",
       "      <td>11</td>\n",
       "      <td>1</td>\n",
       "      <td>10</td>\n",
       "      <td>2</td>\n",
       "      <td>7</td>\n",
       "    </tr>\n",
       "    <tr>\n",
       "      <th>2</th>\n",
       "      <td>5</td>\n",
       "      <td>10</td>\n",
       "      <td>6</td>\n",
       "      <td>7</td>\n",
       "      <td>3</td>\n",
       "      <td>8</td>\n",
       "      <td>7</td>\n",
       "      <td>8</td>\n",
       "      <td>8</td>\n",
       "      <td>6</td>\n",
       "      <td>7</td>\n",
       "      <td>9</td>\n",
       "      <td>2</td>\n",
       "      <td>7</td>\n",
       "      <td>5</td>\n",
       "      <td>10</td>\n",
       "    </tr>\n",
       "    <tr>\n",
       "      <th>3</th>\n",
       "      <td>5</td>\n",
       "      <td>9</td>\n",
       "      <td>6</td>\n",
       "      <td>7</td>\n",
       "      <td>4</td>\n",
       "      <td>3</td>\n",
       "      <td>8</td>\n",
       "      <td>6</td>\n",
       "      <td>7</td>\n",
       "      <td>12</td>\n",
       "      <td>10</td>\n",
       "      <td>13</td>\n",
       "      <td>1</td>\n",
       "      <td>9</td>\n",
       "      <td>3</td>\n",
       "      <td>7</td>\n",
       "    </tr>\n",
       "    <tr>\n",
       "      <th>4</th>\n",
       "      <td>4</td>\n",
       "      <td>8</td>\n",
       "      <td>5</td>\n",
       "      <td>6</td>\n",
       "      <td>3</td>\n",
       "      <td>6</td>\n",
       "      <td>6</td>\n",
       "      <td>7</td>\n",
       "      <td>6</td>\n",
       "      <td>10</td>\n",
       "      <td>7</td>\n",
       "      <td>12</td>\n",
       "      <td>2</td>\n",
       "      <td>9</td>\n",
       "      <td>4</td>\n",
       "      <td>9</td>\n",
       "    </tr>\n",
       "  </tbody>\n",
       "</table>\n",
       "</div>"
      ],
      "text/plain": [
       "   x-box  y-box  width  high  onpix  x-bar  y-bar  x2bar  y2bar  xybar  x2ybr  \\\n",
       "0      4     10      5     8      2      5      7      7     10      7      6   \n",
       "1      3      5      4     4      2      4      8      5      7     12      9   \n",
       "2      5     10      6     7      3      8      7      8      8      6      7   \n",
       "3      5      9      6     7      4      3      8      6      7     12     10   \n",
       "4      4      8      5     6      3      6      6      7      6     10      7   \n",
       "\n",
       "   xy2br  x-ege  xegvy  y-ege  yegvx  \n",
       "0     13      1      8      4      9  \n",
       "1     11      1     10      2      7  \n",
       "2      9      2      7      5     10  \n",
       "3     13      1      9      3      7  \n",
       "4     12      2      9      4      9  "
      ]
     },
     "execution_count": 20,
     "metadata": {},
     "output_type": "execute_result"
    }
   ],
   "source": [
    "X = df[['x-box', 'y-box', 'width', 'high', 'onpix', 'x-bar', 'y-bar', 'x2bar', 'y2bar', 'xybar','x2ybr',\n",
    "       'xy2br', 'x-ege', 'xegvy','y-ege','yegvx']]\n",
    "\n",
    "X.head()"
   ]
  },
  {
   "cell_type": "code",
   "execution_count": 21,
   "id": "a2e3dd3c",
   "metadata": {
    "execution": {
     "iopub.execute_input": "2022-04-08T08:39:05.555843Z",
     "iopub.status.busy": "2022-04-08T08:39:05.555098Z",
     "iopub.status.idle": "2022-04-08T08:39:05.561991Z",
     "shell.execute_reply": "2022-04-08T08:39:05.561471Z",
     "shell.execute_reply.started": "2022-04-08T08:12:20.470528Z"
    },
    "papermill": {
     "duration": 0.061913,
     "end_time": "2022-04-08T08:39:05.562142",
     "exception": false,
     "start_time": "2022-04-08T08:39:05.500229",
     "status": "completed"
    },
    "tags": []
   },
   "outputs": [
    {
     "data": {
      "text/plain": [
       "0    C\n",
       "1    C\n",
       "2    G\n",
       "3    C\n",
       "4    G\n",
       "Name: Class, dtype: object"
      ]
     },
     "execution_count": 21,
     "metadata": {},
     "output_type": "execute_result"
    }
   ],
   "source": [
    "y = df['Class']\n",
    "\n",
    "y.head()"
   ]
  },
  {
   "cell_type": "code",
   "execution_count": 22,
   "id": "8699c4bd",
   "metadata": {
    "execution": {
     "iopub.execute_input": "2022-04-08T08:39:05.671088Z",
     "iopub.status.busy": "2022-04-08T08:39:05.670171Z",
     "iopub.status.idle": "2022-04-08T08:39:05.673040Z",
     "shell.execute_reply": "2022-04-08T08:39:05.672517Z",
     "shell.execute_reply.started": "2022-04-08T08:12:20.477563Z"
    },
    "papermill": {
     "duration": 0.059334,
     "end_time": "2022-04-08T08:39:05.673189",
     "exception": false,
     "start_time": "2022-04-08T08:39:05.613855",
     "status": "completed"
    },
    "tags": []
   },
   "outputs": [],
   "source": [
    "from sklearn.preprocessing import LabelEncoder\n",
    "\n",
    "le=LabelEncoder()\n",
    "\n",
    "y=le.fit_transform(y)"
   ]
  },
  {
   "cell_type": "code",
   "execution_count": 23,
   "id": "8ecaaccb",
   "metadata": {
    "execution": {
     "iopub.execute_input": "2022-04-08T08:39:05.784327Z",
     "iopub.status.busy": "2022-04-08T08:39:05.782106Z",
     "iopub.status.idle": "2022-04-08T08:39:05.790731Z",
     "shell.execute_reply": "2022-04-08T08:39:05.791227Z",
     "shell.execute_reply.started": "2022-04-08T08:12:20.488979Z"
    },
    "papermill": {
     "duration": 0.066677,
     "end_time": "2022-04-08T08:39:05.791428",
     "exception": false,
     "start_time": "2022-04-08T08:39:05.724751",
     "status": "completed"
    },
    "tags": []
   },
   "outputs": [],
   "source": [
    "# Import train_test_split function\n",
    "from sklearn.model_selection import train_test_split\n",
    "from sklearn import preprocessing\n",
    "# Split dataset into training set and test set\n",
    "X_train, X_test, y_train, y_test = train_test_split(X, y, test_size=0.3)\n",
    "\n",
    "std_scaler = preprocessing.StandardScaler().fit(X_train)\n",
    "X_train_scaled = std_scaler.transform(X_train)\n",
    "X_test_scaled = std_scaler.transform(X_test)"
   ]
  },
  {
   "cell_type": "code",
   "execution_count": 24,
   "id": "0eba4801",
   "metadata": {
    "execution": {
     "iopub.execute_input": "2022-04-08T08:39:05.904276Z",
     "iopub.status.busy": "2022-04-08T08:39:05.903569Z",
     "iopub.status.idle": "2022-04-08T08:39:06.049792Z",
     "shell.execute_reply": "2022-04-08T08:39:06.048407Z",
     "shell.execute_reply.started": "2022-04-08T08:12:20.505310Z"
    },
    "papermill": {
     "duration": 0.206756,
     "end_time": "2022-04-08T08:39:06.049993",
     "exception": false,
     "start_time": "2022-04-08T08:39:05.843237",
     "status": "completed"
    },
    "tags": []
   },
   "outputs": [],
   "source": [
    "# Import the AdaBoost classifier\n",
    "from sklearn.ensemble import AdaBoostClassifier\n",
    "\n",
    "\n",
    "# Create adaboost classifer object\n",
    "# n_estinmators the number of models to iteratively train\n",
    "abc = AdaBoostClassifier(n_estimators=60, learning_rate=1, random_state=0)\n",
    "\n",
    "\n",
    "# Train Adaboost Classifer\n",
    "model1 = abc.fit(X_train, y_train)\n",
    "\n",
    "\n",
    "#Predict the response for test dataset\n",
    "y_pred = model1.predict(X_test)"
   ]
  },
  {
   "cell_type": "code",
   "execution_count": 25,
   "id": "6de0d154",
   "metadata": {
    "execution": {
     "iopub.execute_input": "2022-04-08T08:39:06.161623Z",
     "iopub.status.busy": "2022-04-08T08:39:06.160902Z",
     "iopub.status.idle": "2022-04-08T08:39:06.166302Z",
     "shell.execute_reply": "2022-04-08T08:39:06.165665Z",
     "shell.execute_reply.started": "2022-04-08T08:12:20.639978Z"
    },
    "papermill": {
     "duration": 0.063572,
     "end_time": "2022-04-08T08:39:06.166457",
     "exception": false,
     "start_time": "2022-04-08T08:39:06.102885",
     "status": "completed"
    },
    "tags": []
   },
   "outputs": [
    {
     "name": "stdout",
     "output_type": "stream",
     "text": [
      "AdaBoost Classifier Model Accuracy: 0.9690949227373068\n"
     ]
    }
   ],
   "source": [
    "#import scikit-learn metrics module for accuracy calculation\n",
    "from sklearn.metrics import accuracy_score\n",
    "\n",
    "\n",
    "# calculate and print model accuracy\n",
    "print(\"AdaBoost Classifier Model Accuracy:\", accuracy_score(y_test, y_pred))"
   ]
  },
  {
   "cell_type": "code",
   "execution_count": 26,
   "id": "95c79004",
   "metadata": {
    "execution": {
     "iopub.execute_input": "2022-04-08T08:39:06.288617Z",
     "iopub.status.busy": "2022-04-08T08:39:06.287840Z",
     "iopub.status.idle": "2022-04-08T08:39:06.712568Z",
     "shell.execute_reply": "2022-04-08T08:39:06.711915Z",
     "shell.execute_reply.started": "2022-04-08T08:12:20.645969Z"
    },
    "papermill": {
     "duration": 0.493808,
     "end_time": "2022-04-08T08:39:06.712707",
     "exception": false,
     "start_time": "2022-04-08T08:39:06.218899",
     "status": "completed"
    },
    "tags": []
   },
   "outputs": [
    {
     "data": {
      "text/plain": [
       "<matplotlib.legend.Legend at 0x7fcb24ffebd0>"
      ]
     },
     "execution_count": 26,
     "metadata": {},
     "output_type": "execute_result"
    },
    {
     "data": {
      "image/png": "[encoded data removed]",
      "text/plain": [
       "<Figure size 432x288 with 2 Axes>"
      ]
     },
     "metadata": {
      "needs_background": "light"
     },
     "output_type": "display_data"
    }
   ],
   "source": [
    "from sklearn.decomposition import PCA\n",
    "import matplotlib.pyplot as plt\n",
    "pca = PCA(n_components=2)\n",
    "fig, (plttrain, plttest) = plt.subplots(1, 2)\n",
    "datavl1=pca.fit_transform(X_train_scaled)\n",
    "g11=datavl1[(y_train==1)]\n",
    "g12=datavl1[(y_train==0)]\n",
    "plttrain.set_title('Train values :'+ str(X_train_scaled.shape))\n",
    "plttrain.scatter(g11[:,0],g11[:,1],marker='o')\n",
    "plttrain.scatter(g12[:,0],g12[:,1],marker='+')\n",
    "plttrain.legend(['lable 1','lable 0'])\n",
    "datavl2=pca.fit_transform(X_test_scaled)\n",
    "g21=datavl2[(y_test==1)]\n",
    "g22=datavl2[(y_test==0)]\n",
    "plttest.set_title('Test values :'+str(X_test_scaled.shape))\n",
    "plttest.scatter(g21[:,0],g21[:,1],marker='o')\n",
    "plttest.scatter(g22[:,0],g22[:,1],marker='+')\n",
    "plttest.legend(['lable 1','lable 0'])"
   ]
  },
  {
   "cell_type": "code",
   "execution_count": 27,
   "id": "c5554465",
   "metadata": {
    "execution": {
     "iopub.execute_input": "2022-04-08T08:39:06.826296Z",
     "iopub.status.busy": "2022-04-08T08:39:06.823127Z",
     "iopub.status.idle": "2022-04-08T08:39:12.949364Z",
     "shell.execute_reply": "2022-04-08T08:39:12.950267Z",
     "shell.execute_reply.started": "2022-04-08T08:12:21.101907Z"
    },
    "papermill": {
     "duration": 6.184031,
     "end_time": "2022-04-08T08:39:12.950546",
     "exception": false,
     "start_time": "2022-04-08T08:39:06.766515",
     "status": "completed"
    },
    "tags": []
   },
   "outputs": [
    {
     "name": "stdout",
     "output_type": "stream",
     "text": [
      "Training 0-th weak classifier: accuracy=0.0, error=0.0\n",
      "Training 1-th weak classifier: accuracy=0.7935606060606061, error=0.20643939393939392\n",
      "Training 2-th weak classifier: accuracy=0.7935606060606061, error=0.20643939393939392\n",
      "Training 3-th weak classifier: accuracy=0.8153409090909091, error=0.18465909090909094\n",
      "Training 4-th weak classifier: accuracy=0.853219696969697, error=0.14678030303030298\n",
      "Training 5-th weak classifier: accuracy=0.853219696969697, error=0.14678030303030298\n",
      "Training 6-th weak classifier: accuracy=0.8551136363636364, error=0.14488636363636365\n",
      "Training 7-th weak classifier: accuracy=0.8797348484848485, error=0.12026515151515149\n",
      "Training 8-th weak classifier: accuracy=0.8380681818181818, error=0.16193181818181823\n",
      "Training 9-th weak classifier: accuracy=0.8873106060606061, error=0.11268939393939392\n",
      "Training 10-th weak classifier: accuracy=0.8759469696969697, error=0.12405303030303028\n",
      "Training 11-th weak classifier: accuracy=0.8882575757575758, error=0.1117424242424242\n",
      "Training 12-th weak classifier: accuracy=0.8977272727272727, error=0.10227272727272729\n",
      "Training 13-th weak classifier: accuracy=0.9043560606060606, error=0.09564393939393945\n",
      "Training 14-th weak classifier: accuracy=0.8797348484848485, error=0.12026515151515149\n",
      "Training 15-th weak classifier: accuracy=0.9128787878787878, error=0.08712121212121215\n",
      "Training 16-th weak classifier: accuracy=0.9128787878787878, error=0.08712121212121215\n",
      "Training 17-th weak classifier: accuracy=0.9176136363636364, error=0.08238636363636365\n",
      "Training 18-th weak classifier: accuracy=0.90625, error=0.09375\n",
      "Training 19-th weak classifier: accuracy=0.9223484848484849, error=0.07765151515151514\n",
      "Training 20-th weak classifier: accuracy=0.9185606060606061, error=0.08143939393939392\n",
      "Training 21-th weak classifier: accuracy=0.9261363636363636, error=0.07386363636363635\n",
      "Training 22-th weak classifier: accuracy=0.9337121212121212, error=0.06628787878787878\n",
      "Training 23-th weak classifier: accuracy=0.9270833333333334, error=0.07291666666666663\n",
      "Training 24-th weak classifier: accuracy=0.9346590909090909, error=0.06534090909090906\n",
      "Training 25-th weak classifier: accuracy=0.9318181818181818, error=0.06818181818181823\n",
      "Training 26-th weak classifier: accuracy=0.9384469696969697, error=0.061553030303030276\n",
      "Training 27-th weak classifier: accuracy=0.9365530303030303, error=0.06344696969696972\n",
      "Training 28-th weak classifier: accuracy=0.9431818181818182, error=0.05681818181818177\n",
      "Training 29-th weak classifier: accuracy=0.9384469696969697, error=0.061553030303030276\n",
      "Training 30-th weak classifier: accuracy=0.9384469696969697, error=0.061553030303030276\n",
      "Training 31-th weak classifier: accuracy=0.9365530303030303, error=0.06344696969696972\n",
      "Training 32-th weak classifier: accuracy=0.9346590909090909, error=0.06534090909090906\n",
      "Training 33-th weak classifier: accuracy=0.9393939393939394, error=0.06060606060606055\n",
      "Training 34-th weak classifier: accuracy=0.9337121212121212, error=0.06628787878787878\n",
      "Training 35-th weak classifier: accuracy=0.9384469696969697, error=0.061553030303030276\n",
      "Training 36-th weak classifier: accuracy=0.9384469696969697, error=0.061553030303030276\n",
      "Training 37-th weak classifier: accuracy=0.9422348484848485, error=0.05776515151515149\n",
      "Training 38-th weak classifier: accuracy=0.9422348484848485, error=0.05776515151515149\n",
      "Training 39-th weak classifier: accuracy=0.9479166666666666, error=0.05208333333333337\n",
      "Training 40-th weak classifier: accuracy=0.9450757575757576, error=0.05492424242424243\n",
      "Training 41-th weak classifier: accuracy=0.946969696969697, error=0.05303030303030298\n",
      "Training 42-th weak classifier: accuracy=0.9526515151515151, error=0.04734848484848486\n",
      "Training 43-th weak classifier: accuracy=0.9507575757575758, error=0.0492424242424242\n",
      "Training 44-th weak classifier: accuracy=0.9526515151515151, error=0.04734848484848486\n",
      "Training 45-th weak classifier: accuracy=0.9554924242424242, error=0.0445075757575758\n",
      "Training 46-th weak classifier: accuracy=0.9545454545454546, error=0.045454545454545414\n",
      "Training 47-th weak classifier: accuracy=0.9535984848484849, error=0.04640151515151514\n",
      "Training 48-th weak classifier: accuracy=0.9583333333333334, error=0.04166666666666663\n",
      "Training 49-th weak classifier: accuracy=0.9554924242424242, error=0.0445075757575758\n",
      "Training 50-th weak classifier: accuracy=0.9554924242424242, error=0.0445075757575758\n",
      "Training 51-th weak classifier: accuracy=0.9545454545454546, error=0.045454545454545414\n",
      "Training 52-th weak classifier: accuracy=0.9602272727272727, error=0.03977272727272729\n",
      "Training 53-th weak classifier: accuracy=0.9602272727272727, error=0.03977272727272729\n",
      "Training 54-th weak classifier: accuracy=0.959280303030303, error=0.04071969696969702\n",
      "Training 55-th weak classifier: accuracy=0.9602272727272727, error=0.03977272727272729\n",
      "Training 56-th weak classifier: accuracy=0.9611742424242424, error=0.03882575757575757\n",
      "Training 57-th weak classifier: accuracy=0.9630681818181818, error=0.03693181818181823\n",
      "Training 58-th weak classifier: accuracy=0.959280303030303, error=0.04071969696969702\n",
      "Training 59-th weak classifier: accuracy=0.9668560606060606, error=0.03314393939393945\n"
     ]
    }
   ],
   "source": [
    "model=AdaBoost(60)\n",
    "model=model.fit(X_train_scaled, y_train,  True )\n",
    "Pr=model.predict( X_test_scaled)\n",
    "Pr[(Pr==0)]=-1"
   ]
  },
  {
   "cell_type": "code",
   "execution_count": 28,
   "id": "f910e838",
   "metadata": {
    "execution": {
     "iopub.execute_input": "2022-04-08T08:39:13.150886Z",
     "iopub.status.busy": "2022-04-08T08:39:13.149700Z",
     "iopub.status.idle": "2022-04-08T08:39:13.524397Z",
     "shell.execute_reply": "2022-04-08T08:39:13.525005Z",
     "shell.execute_reply.started": "2022-04-08T08:12:26.036584Z"
    },
    "papermill": {
     "duration": 0.4564,
     "end_time": "2022-04-08T08:39:13.525188",
     "exception": false,
     "start_time": "2022-04-08T08:39:13.068788",
     "status": "completed"
    },
    "tags": []
   },
   "outputs": [
    {
     "data": {
      "text/plain": [
       "[<matplotlib.lines.Line2D at 0x7fcb24f3b710>]"
      ]
     },
     "execution_count": 28,
     "metadata": {},
     "output_type": "execute_result"
    },
    {
     "data": {
      "image/png": "[encoded data removed]",
      "text/plain": [
       "<Figure size 432x288 with 1 Axes>"
      ]
     },
     "metadata": {
      "needs_background": "light"
     },
     "output_type": "display_data"
    }
   ],
   "source": [
    "ra_Xtest = np.zeros(shape=(model.T,2))\n",
    "for i in range(1,model.T):\n",
    "  Pr_i=model.predictmodul(X_test_scaled,i)\n",
    "  modelra=RatingModel(y_test, Pr_i)\n",
    "  ra_Xtest[i,:]=modelra.accur_Error(y_test, Pr_i)\n",
    "ra_Xtrain = np.zeros(shape=(model.T,2))\n",
    "for i in range(1,model.T):\n",
    "  Pr_i=model.predictmodul(X_train_scaled,i)\n",
    "  modelra=RatingModel(y_train, Pr_i)\n",
    "  ra_Xtrain[i,:]=modelra.accur_Error(y_train, Pr_i)\n",
    "iter=range(model.T)\n",
    "plt.plot(iter,ra_Xtest[:,0],'g-', label='Test accuracy')\n",
    "plt.plot(iter,ra_Xtest[:,1],'r-', label='Test error')\n",
    "plt.plot(iter,ra_Xtrain[:,0],'g--', label='Train accuracy')\n",
    "plt.plot(iter,ra_Xtrain[:,1],'r--', label='Train error')"
   ]
  },
  {
   "cell_type": "code",
   "execution_count": 29,
   "id": "7fc25cc1",
   "metadata": {
    "execution": {
     "iopub.execute_input": "2022-04-08T08:39:13.668998Z",
     "iopub.status.busy": "2022-04-08T08:39:13.667857Z",
     "iopub.status.idle": "2022-04-08T08:39:13.969620Z",
     "shell.execute_reply": "2022-04-08T08:39:13.968753Z",
     "shell.execute_reply.started": "2022-04-08T08:12:26.344104Z"
    },
    "papermill": {
     "duration": 0.378652,
     "end_time": "2022-04-08T08:39:13.969775",
     "exception": false,
     "start_time": "2022-04-08T08:39:13.591123",
     "status": "completed"
    },
    "tags": []
   },
   "outputs": [
    {
     "data": {
      "text/plain": [
       "<matplotlib.legend.Legend at 0x7fcb250b6610>"
      ]
     },
     "execution_count": 29,
     "metadata": {},
     "output_type": "execute_result"
    },
    {
     "data": {
      "image/png": "[encoded data removed]",
      "text/plain": [
       "<Figure size 432x288 with 1 Axes>"
      ]
     },
     "metadata": {
      "needs_background": "light"
     },
     "output_type": "display_data"
    }
   ],
   "source": [
    "sumerror=0;\n",
    "y_new=y_test\n",
    "y_new[y_new==0]=-1\n",
    "sumerror=np.size(y_new[Pr!=y_new])\n",
    "gT1=datavl2[(Pr==1)]\n",
    "gT0=datavl2[(Pr==-1)]\n",
    "gF1=datavl2[(y_new!=Pr)&(Pr==1)]\n",
    "gF0=datavl2[(y_new!=Pr)&(Pr==-1)]\n",
    "plt.title('Test values errors :'+str(sumerror)+'/ '+str(X_test_scaled.shape[0]))\n",
    "plt.scatter(gT1[:,0],gT1[:,1], marker='o')\n",
    "plt.scatter(gT0[:,0],gT0[:,1], marker='+')\n",
    "plt.scatter(gF1[:,0],gF1[:,1], c=\"red\", marker='o')\n",
    "plt.scatter(gF0[:,0],gF0[:,1], c=\"red\", marker='+')\n",
    "plt.legend(['Predict true 1', 'Predict true 0', 'Predict false'])"
   ]
  }
 ],
 "metadata": {
  "kernelspec": {
   "display_name": "Python 3",
   "language": "python",
   "name": "python3"
  },
  "language_info": {
   "codemirror_mode": {
    "name": "ipython",
    "version": 3
   },
   "file_extension": ".py",
   "mimetype": "text/x-python",
   "name": "python",
   "nbconvert_exporter": "python",
   "pygments_lexer": "ipython3",
   "version": "3.7.12"
  },
  "papermill": {
   "default_parameters": {},
   "duration": 34.545347,
   "end_time": "2022-04-08T08:39:14.851737",
   "environment_variables": {},
   "exception": null,
   "input_path": "__notebook__.ipynb",
   "output_path": "__notebook__.ipynb",
   "parameters": {},
   "start_time": "2022-04-08T08:38:40.306390",
   "version": "2.3.3"
  }
 },
 "nbformat": 4,
 "nbformat_minor": 5
}
