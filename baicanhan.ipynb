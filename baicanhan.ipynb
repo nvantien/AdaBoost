{
 "cells": [
  {
   "cell_type": "code",
   "execution_count": 1,
   "id": "0a92f35d",
   "metadata": {
    "_cell_guid": "b1076dfc-b9ad-4769-8c92-a6c4dae69d19",
    "_uuid": "8f2839f25d086af736a60e9eeb907d3b93b6e0e5",
    "execution": {
     "iopub.execute_input": "2022-04-08T09:50:31.414707Z",
     "iopub.status.busy": "2022-04-08T09:50:31.407112Z",
     "iopub.status.idle": "2022-04-08T09:50:31.432886Z",
     "shell.execute_reply": "2022-04-08T09:50:31.432108Z",
     "shell.execute_reply.started": "2022-04-08T08:12:10.469521Z"
    },
    "papermill": {
     "duration": 0.061977,
     "end_time": "2022-04-08T09:50:31.433063",
     "exception": false,
     "start_time": "2022-04-08T09:50:31.371086",
     "status": "completed"
    },
    "tags": []
   },
   "outputs": [
    {
     "name": "stdout",
     "output_type": "stream",
     "text": [
      "/kaggle/input/databaitapcanhan/spam_email.csv\n",
      "/kaggle/input/databaitapcanhan1/letters_CG.csv\n"
     ]
    }
   ],
   "source": [
    "# This Python 3 environment comes with many helpful analytics libraries installed\n",
    "# It is defined by the kaggle/python Docker image: https://github.com/kaggle/docker-python\n",
    "# For example, here's several helpful packages to load\n",
    "\n",
    "import numpy as np # linear algebra\n",
    "import pandas as pd # data processing, CSV file I/O (e.g. pd.read_csv)\n",
    "\n",
    "# Input data files are available in the read-only \"../input/\" directory\n",
    "# For example, running this (by clicking run or pressing Shift+Enter) will list all files under the input directory\n",
    "\n",
    "import os\n",
    "for dirname, _, filenames in os.walk('/kaggle/input'):\n",
    "    for filename in filenames:\n",
    "        print(os.path.join(dirname, filename))\n",
    "\n",
    "# You can write up to 20GB to the current directory (/kaggle/working/) that gets preserved as output when you create a version using \"Save & Run All\" \n",
    "# You can also write temporary files to /kaggle/temp/, but they won't be saved outside of the current session"
   ]
  },
  {
   "cell_type": "code",
   "execution_count": 2,
   "id": "7fd17528",
   "metadata": {
    "execution": {
     "iopub.execute_input": "2022-04-08T09:50:31.500453Z",
     "iopub.status.busy": "2022-04-08T09:50:31.499750Z",
     "iopub.status.idle": "2022-04-08T09:50:31.503005Z",
     "shell.execute_reply": "2022-04-08T09:50:31.502487Z",
     "shell.execute_reply.started": "2022-04-08T08:12:10.478897Z"
    },
    "papermill": {
     "duration": 0.038376,
     "end_time": "2022-04-08T09:50:31.503173",
     "exception": false,
     "start_time": "2022-04-08T09:50:31.464797",
     "status": "completed"
    },
    "tags": []
   },
   "outputs": [],
   "source": [
    "# from sklearn.ensemble import AdaBoostClassifier\n",
    "# from sklearn.tree import DecisionTreeClassifier\n",
    "# from sklearn.datasets import load_breast_cancer\n",
    "# import pandas as pd\n",
    "# import numpy as np\n",
    "# from sklearn.model_selection import train_test_split\n",
    "# from sklearn.metrics import confusion_matrix\n",
    "# from sklearn.preprocessing import LabelEncoder"
   ]
  },
  {
   "cell_type": "code",
   "execution_count": 3,
   "id": "22780cdb",
   "metadata": {
    "execution": {
     "iopub.execute_input": "2022-04-08T09:50:31.571017Z",
     "iopub.status.busy": "2022-04-08T09:50:31.570116Z",
     "iopub.status.idle": "2022-04-08T09:50:33.016831Z",
     "shell.execute_reply": "2022-04-08T09:50:33.016096Z",
     "shell.execute_reply.started": "2022-04-08T08:12:10.493722Z"
    },
    "papermill": {
     "duration": 1.482193,
     "end_time": "2022-04-08T09:50:33.016973",
     "exception": false,
     "start_time": "2022-04-08T09:50:31.534780",
     "status": "completed"
    },
    "tags": []
   },
   "outputs": [],
   "source": [
    "# Load libraries \n",
    "from sklearn.ensemble import AdaBoostClassifier\n",
    "from sklearn import datasets\n",
    "# Import train_test_split function\n",
    "from sklearn.model_selection import train_test_split\n",
    "#Import scikit-learn metrics module for accuracy calculation\n",
    "from sklearn import metrics"
   ]
  },
  {
   "cell_type": "code",
   "execution_count": 4,
   "id": "f30cfad6",
   "metadata": {
    "execution": {
     "iopub.execute_input": "2022-04-08T09:50:33.085555Z",
     "iopub.status.busy": "2022-04-08T09:50:33.084862Z",
     "iopub.status.idle": "2022-04-08T09:50:33.205205Z",
     "shell.execute_reply": "2022-04-08T09:50:33.205882Z",
     "shell.execute_reply.started": "2022-04-08T08:12:10.504939Z"
    },
    "papermill": {
     "duration": 0.158047,
     "end_time": "2022-04-08T09:50:33.206167",
     "exception": false,
     "start_time": "2022-04-08T09:50:33.048120",
     "status": "completed"
    },
    "tags": []
   },
   "outputs": [
    {
     "data": {
      "text/html": [
       "<div>\n",
       "<style scoped>\n",
       "    .dataframe tbody tr th:only-of-type {\n",
       "        vertical-align: middle;\n",
       "    }\n",
       "\n",
       "    .dataframe tbody tr th {\n",
       "        vertical-align: top;\n",
       "    }\n",
       "\n",
       "    .dataframe thead th {\n",
       "        text-align: right;\n",
       "    }\n",
       "</style>\n",
       "<table border=\"1\" class=\"dataframe\">\n",
       "  <thead>\n",
       "    <tr style=\"text-align: right;\">\n",
       "      <th></th>\n",
       "      <th>make</th>\n",
       "      <th>address</th>\n",
       "      <th>all</th>\n",
       "      <th>3d</th>\n",
       "      <th>our</th>\n",
       "      <th>over</th>\n",
       "      <th>remove</th>\n",
       "      <th>internet</th>\n",
       "      <th>order</th>\n",
       "      <th>mail</th>\n",
       "      <th>...</th>\n",
       "      <th>semicol</th>\n",
       "      <th>paren</th>\n",
       "      <th>bracket</th>\n",
       "      <th>bang</th>\n",
       "      <th>dollar</th>\n",
       "      <th>pound</th>\n",
       "      <th>cap_avg</th>\n",
       "      <th>cap_long</th>\n",
       "      <th>cap_total</th>\n",
       "      <th>Class</th>\n",
       "    </tr>\n",
       "  </thead>\n",
       "  <tbody>\n",
       "    <tr>\n",
       "      <th>0</th>\n",
       "      <td>0.00</td>\n",
       "      <td>0.00</td>\n",
       "      <td>0.29</td>\n",
       "      <td>0.0</td>\n",
       "      <td>0.00</td>\n",
       "      <td>0.00</td>\n",
       "      <td>0.00</td>\n",
       "      <td>0.00</td>\n",
       "      <td>0.00</td>\n",
       "      <td>0.00</td>\n",
       "      <td>...</td>\n",
       "      <td>0.000</td>\n",
       "      <td>0.178</td>\n",
       "      <td>0.0</td>\n",
       "      <td>0.044</td>\n",
       "      <td>0.000</td>\n",
       "      <td>0.00</td>\n",
       "      <td>1.666</td>\n",
       "      <td>10</td>\n",
       "      <td>180</td>\n",
       "      <td>ham</td>\n",
       "    </tr>\n",
       "    <tr>\n",
       "      <th>1</th>\n",
       "      <td>0.46</td>\n",
       "      <td>0.00</td>\n",
       "      <td>0.00</td>\n",
       "      <td>0.0</td>\n",
       "      <td>0.00</td>\n",
       "      <td>0.00</td>\n",
       "      <td>0.00</td>\n",
       "      <td>0.00</td>\n",
       "      <td>0.00</td>\n",
       "      <td>0.00</td>\n",
       "      <td>...</td>\n",
       "      <td>0.000</td>\n",
       "      <td>0.125</td>\n",
       "      <td>0.0</td>\n",
       "      <td>0.000</td>\n",
       "      <td>0.000</td>\n",
       "      <td>0.00</td>\n",
       "      <td>1.510</td>\n",
       "      <td>10</td>\n",
       "      <td>74</td>\n",
       "      <td>ham</td>\n",
       "    </tr>\n",
       "    <tr>\n",
       "      <th>2</th>\n",
       "      <td>0.00</td>\n",
       "      <td>0.00</td>\n",
       "      <td>0.00</td>\n",
       "      <td>0.0</td>\n",
       "      <td>0.00</td>\n",
       "      <td>0.00</td>\n",
       "      <td>0.00</td>\n",
       "      <td>0.00</td>\n",
       "      <td>0.00</td>\n",
       "      <td>0.00</td>\n",
       "      <td>...</td>\n",
       "      <td>0.000</td>\n",
       "      <td>0.000</td>\n",
       "      <td>0.0</td>\n",
       "      <td>0.000</td>\n",
       "      <td>0.000</td>\n",
       "      <td>0.00</td>\n",
       "      <td>1.718</td>\n",
       "      <td>11</td>\n",
       "      <td>55</td>\n",
       "      <td>ham</td>\n",
       "    </tr>\n",
       "    <tr>\n",
       "      <th>3</th>\n",
       "      <td>0.33</td>\n",
       "      <td>0.44</td>\n",
       "      <td>0.37</td>\n",
       "      <td>0.0</td>\n",
       "      <td>0.14</td>\n",
       "      <td>0.11</td>\n",
       "      <td>0.00</td>\n",
       "      <td>0.07</td>\n",
       "      <td>0.97</td>\n",
       "      <td>1.16</td>\n",
       "      <td>...</td>\n",
       "      <td>0.006</td>\n",
       "      <td>0.159</td>\n",
       "      <td>0.0</td>\n",
       "      <td>0.069</td>\n",
       "      <td>0.221</td>\n",
       "      <td>0.11</td>\n",
       "      <td>3.426</td>\n",
       "      <td>72</td>\n",
       "      <td>819</td>\n",
       "      <td>spam</td>\n",
       "    </tr>\n",
       "    <tr>\n",
       "      <th>4</th>\n",
       "      <td>0.00</td>\n",
       "      <td>2.08</td>\n",
       "      <td>0.00</td>\n",
       "      <td>0.0</td>\n",
       "      <td>3.12</td>\n",
       "      <td>0.00</td>\n",
       "      <td>1.04</td>\n",
       "      <td>0.00</td>\n",
       "      <td>0.00</td>\n",
       "      <td>0.00</td>\n",
       "      <td>...</td>\n",
       "      <td>0.000</td>\n",
       "      <td>0.000</td>\n",
       "      <td>0.0</td>\n",
       "      <td>0.263</td>\n",
       "      <td>0.000</td>\n",
       "      <td>0.00</td>\n",
       "      <td>1.428</td>\n",
       "      <td>4</td>\n",
       "      <td>20</td>\n",
       "      <td>spam</td>\n",
       "    </tr>\n",
       "  </tbody>\n",
       "</table>\n",
       "<p>5 rows × 58 columns</p>\n",
       "</div>"
      ],
      "text/plain": [
       "   make  address   all   3d   our  over  remove  internet  order  mail  ...  \\\n",
       "0  0.00     0.00  0.29  0.0  0.00  0.00    0.00      0.00   0.00  0.00  ...   \n",
       "1  0.46     0.00  0.00  0.0  0.00  0.00    0.00      0.00   0.00  0.00  ...   \n",
       "2  0.00     0.00  0.00  0.0  0.00  0.00    0.00      0.00   0.00  0.00  ...   \n",
       "3  0.33     0.44  0.37  0.0  0.14  0.11    0.00      0.07   0.97  1.16  ...   \n",
       "4  0.00     2.08  0.00  0.0  3.12  0.00    1.04      0.00   0.00  0.00  ...   \n",
       "\n",
       "   semicol  paren  bracket   bang  dollar  pound  cap_avg  cap_long  \\\n",
       "0    0.000  0.178      0.0  0.044   0.000   0.00    1.666        10   \n",
       "1    0.000  0.125      0.0  0.000   0.000   0.00    1.510        10   \n",
       "2    0.000  0.000      0.0  0.000   0.000   0.00    1.718        11   \n",
       "3    0.006  0.159      0.0  0.069   0.221   0.11    3.426        72   \n",
       "4    0.000  0.000      0.0  0.263   0.000   0.00    1.428         4   \n",
       "\n",
       "   cap_total  Class  \n",
       "0        180    ham  \n",
       "1         74    ham  \n",
       "2         55    ham  \n",
       "3        819   spam  \n",
       "4         20   spam  \n",
       "\n",
       "[5 rows x 58 columns]"
      ]
     },
     "execution_count": 4,
     "metadata": {},
     "output_type": "execute_result"
    }
   ],
   "source": [
    "df = pd.read_csv(\"/kaggle/input/databaitapcanhan/spam_email.csv\")\n",
    "df.head()"
   ]
  },
  {
   "cell_type": "code",
   "execution_count": 5,
   "id": "5893bf81",
   "metadata": {
    "execution": {
     "iopub.execute_input": "2022-04-08T09:50:33.278093Z",
     "iopub.status.busy": "2022-04-08T09:50:33.277445Z",
     "iopub.status.idle": "2022-04-08T09:50:33.300747Z",
     "shell.execute_reply": "2022-04-08T09:50:33.301294Z",
     "shell.execute_reply.started": "2022-04-08T08:12:10.563746Z"
    },
    "papermill": {
     "duration": 0.062455,
     "end_time": "2022-04-08T09:50:33.301484",
     "exception": false,
     "start_time": "2022-04-08T09:50:33.239029",
     "status": "completed"
    },
    "tags": []
   },
   "outputs": [
    {
     "name": "stdout",
     "output_type": "stream",
     "text": [
      "<class 'pandas.core.frame.DataFrame'>\n",
      "RangeIndex: 4601 entries, 0 to 4600\n",
      "Data columns (total 58 columns):\n",
      " #   Column      Non-Null Count  Dtype  \n",
      "---  ------      --------------  -----  \n",
      " 0   make        4601 non-null   float64\n",
      " 1   address     4601 non-null   float64\n",
      " 2   all         4601 non-null   float64\n",
      " 3   3d          4601 non-null   float64\n",
      " 4   our         4601 non-null   float64\n",
      " 5   over        4601 non-null   float64\n",
      " 6   remove      4601 non-null   float64\n",
      " 7   internet    4601 non-null   float64\n",
      " 8   order       4601 non-null   float64\n",
      " 9   mail        4601 non-null   float64\n",
      " 10  receive     4601 non-null   float64\n",
      " 11  will        4601 non-null   float64\n",
      " 12  people      4601 non-null   float64\n",
      " 13  report      4601 non-null   float64\n",
      " 14  addresses   4601 non-null   float64\n",
      " 15  free        4601 non-null   float64\n",
      " 16  business    4601 non-null   float64\n",
      " 17  email       4601 non-null   float64\n",
      " 18  you         4601 non-null   float64\n",
      " 19  credit      4601 non-null   float64\n",
      " 20  your        4601 non-null   float64\n",
      " 21  font        4601 non-null   float64\n",
      " 22  000         4601 non-null   float64\n",
      " 23  money       4601 non-null   float64\n",
      " 24  hp          4601 non-null   float64\n",
      " 25  hpl         4601 non-null   float64\n",
      " 26  george      4601 non-null   float64\n",
      " 27  650         4601 non-null   float64\n",
      " 28  lab         4601 non-null   float64\n",
      " 29  labs        4601 non-null   float64\n",
      " 30  telnet      4601 non-null   float64\n",
      " 31  857         4601 non-null   float64\n",
      " 32  data        4601 non-null   float64\n",
      " 33  415         4601 non-null   float64\n",
      " 34  85          4601 non-null   float64\n",
      " 35  technology  4601 non-null   float64\n",
      " 36  1999        4601 non-null   float64\n",
      " 37  parts       4601 non-null   float64\n",
      " 38  pm          4601 non-null   float64\n",
      " 39  direct      4601 non-null   float64\n",
      " 40  cs          4601 non-null   float64\n",
      " 41  meeting     4601 non-null   float64\n",
      " 42  original    4601 non-null   float64\n",
      " 43  project     4601 non-null   float64\n",
      " 44  re          4601 non-null   float64\n",
      " 45  edu         4601 non-null   float64\n",
      " 46  table       4601 non-null   float64\n",
      " 47  conference  4601 non-null   float64\n",
      " 48  semicol     4601 non-null   float64\n",
      " 49  paren       4601 non-null   float64\n",
      " 50  bracket     4601 non-null   float64\n",
      " 51  bang        4601 non-null   float64\n",
      " 52  dollar      4601 non-null   float64\n",
      " 53  pound       4601 non-null   float64\n",
      " 54  cap_avg     4601 non-null   float64\n",
      " 55  cap_long    4601 non-null   int64  \n",
      " 56  cap_total   4601 non-null   int64  \n",
      " 57  Class       4601 non-null   object \n",
      "dtypes: float64(55), int64(2), object(1)\n",
      "memory usage: 2.0+ MB\n"
     ]
    }
   ],
   "source": [
    "df.info()"
   ]
  },
  {
   "cell_type": "code",
   "execution_count": 6,
   "id": "e97a6dba",
   "metadata": {
    "execution": {
     "iopub.execute_input": "2022-04-08T09:50:33.397631Z",
     "iopub.status.busy": "2022-04-08T09:50:33.369978Z",
     "iopub.status.idle": "2022-04-08T09:50:33.405626Z",
     "shell.execute_reply": "2022-04-08T09:50:33.406118Z",
     "shell.execute_reply.started": "2022-04-08T08:12:10.580839Z"
    },
    "papermill": {
     "duration": 0.071503,
     "end_time": "2022-04-08T09:50:33.406321",
     "exception": false,
     "start_time": "2022-04-08T09:50:33.334818",
     "status": "completed"
    },
    "tags": []
   },
   "outputs": [
    {
     "data": {
      "text/html": [
       "<div>\n",
       "<style scoped>\n",
       "    .dataframe tbody tr th:only-of-type {\n",
       "        vertical-align: middle;\n",
       "    }\n",
       "\n",
       "    .dataframe tbody tr th {\n",
       "        vertical-align: top;\n",
       "    }\n",
       "\n",
       "    .dataframe thead th {\n",
       "        text-align: right;\n",
       "    }\n",
       "</style>\n",
       "<table border=\"1\" class=\"dataframe\">\n",
       "  <thead>\n",
       "    <tr style=\"text-align: right;\">\n",
       "      <th></th>\n",
       "      <th>make</th>\n",
       "      <th>address</th>\n",
       "      <th>all</th>\n",
       "      <th>3d</th>\n",
       "      <th>our</th>\n",
       "      <th>over</th>\n",
       "      <th>remove</th>\n",
       "      <th>internet</th>\n",
       "      <th>order</th>\n",
       "      <th>mail</th>\n",
       "      <th>...</th>\n",
       "      <th>conference</th>\n",
       "      <th>semicol</th>\n",
       "      <th>paren</th>\n",
       "      <th>bracket</th>\n",
       "      <th>bang</th>\n",
       "      <th>dollar</th>\n",
       "      <th>pound</th>\n",
       "      <th>cap_avg</th>\n",
       "      <th>cap_long</th>\n",
       "      <th>cap_total</th>\n",
       "    </tr>\n",
       "  </thead>\n",
       "  <tbody>\n",
       "    <tr>\n",
       "      <th>0</th>\n",
       "      <td>0.00</td>\n",
       "      <td>0.00</td>\n",
       "      <td>0.29</td>\n",
       "      <td>0.0</td>\n",
       "      <td>0.00</td>\n",
       "      <td>0.00</td>\n",
       "      <td>0.00</td>\n",
       "      <td>0.00</td>\n",
       "      <td>0.00</td>\n",
       "      <td>0.00</td>\n",
       "      <td>...</td>\n",
       "      <td>0.0</td>\n",
       "      <td>0.000</td>\n",
       "      <td>0.178</td>\n",
       "      <td>0.0</td>\n",
       "      <td>0.044</td>\n",
       "      <td>0.000</td>\n",
       "      <td>0.00</td>\n",
       "      <td>1.666</td>\n",
       "      <td>10</td>\n",
       "      <td>180</td>\n",
       "    </tr>\n",
       "    <tr>\n",
       "      <th>1</th>\n",
       "      <td>0.46</td>\n",
       "      <td>0.00</td>\n",
       "      <td>0.00</td>\n",
       "      <td>0.0</td>\n",
       "      <td>0.00</td>\n",
       "      <td>0.00</td>\n",
       "      <td>0.00</td>\n",
       "      <td>0.00</td>\n",
       "      <td>0.00</td>\n",
       "      <td>0.00</td>\n",
       "      <td>...</td>\n",
       "      <td>0.0</td>\n",
       "      <td>0.000</td>\n",
       "      <td>0.125</td>\n",
       "      <td>0.0</td>\n",
       "      <td>0.000</td>\n",
       "      <td>0.000</td>\n",
       "      <td>0.00</td>\n",
       "      <td>1.510</td>\n",
       "      <td>10</td>\n",
       "      <td>74</td>\n",
       "    </tr>\n",
       "    <tr>\n",
       "      <th>2</th>\n",
       "      <td>0.00</td>\n",
       "      <td>0.00</td>\n",
       "      <td>0.00</td>\n",
       "      <td>0.0</td>\n",
       "      <td>0.00</td>\n",
       "      <td>0.00</td>\n",
       "      <td>0.00</td>\n",
       "      <td>0.00</td>\n",
       "      <td>0.00</td>\n",
       "      <td>0.00</td>\n",
       "      <td>...</td>\n",
       "      <td>0.0</td>\n",
       "      <td>0.000</td>\n",
       "      <td>0.000</td>\n",
       "      <td>0.0</td>\n",
       "      <td>0.000</td>\n",
       "      <td>0.000</td>\n",
       "      <td>0.00</td>\n",
       "      <td>1.718</td>\n",
       "      <td>11</td>\n",
       "      <td>55</td>\n",
       "    </tr>\n",
       "    <tr>\n",
       "      <th>3</th>\n",
       "      <td>0.33</td>\n",
       "      <td>0.44</td>\n",
       "      <td>0.37</td>\n",
       "      <td>0.0</td>\n",
       "      <td>0.14</td>\n",
       "      <td>0.11</td>\n",
       "      <td>0.00</td>\n",
       "      <td>0.07</td>\n",
       "      <td>0.97</td>\n",
       "      <td>1.16</td>\n",
       "      <td>...</td>\n",
       "      <td>0.0</td>\n",
       "      <td>0.006</td>\n",
       "      <td>0.159</td>\n",
       "      <td>0.0</td>\n",
       "      <td>0.069</td>\n",
       "      <td>0.221</td>\n",
       "      <td>0.11</td>\n",
       "      <td>3.426</td>\n",
       "      <td>72</td>\n",
       "      <td>819</td>\n",
       "    </tr>\n",
       "    <tr>\n",
       "      <th>4</th>\n",
       "      <td>0.00</td>\n",
       "      <td>2.08</td>\n",
       "      <td>0.00</td>\n",
       "      <td>0.0</td>\n",
       "      <td>3.12</td>\n",
       "      <td>0.00</td>\n",
       "      <td>1.04</td>\n",
       "      <td>0.00</td>\n",
       "      <td>0.00</td>\n",
       "      <td>0.00</td>\n",
       "      <td>...</td>\n",
       "      <td>0.0</td>\n",
       "      <td>0.000</td>\n",
       "      <td>0.000</td>\n",
       "      <td>0.0</td>\n",
       "      <td>0.263</td>\n",
       "      <td>0.000</td>\n",
       "      <td>0.00</td>\n",
       "      <td>1.428</td>\n",
       "      <td>4</td>\n",
       "      <td>20</td>\n",
       "    </tr>\n",
       "  </tbody>\n",
       "</table>\n",
       "<p>5 rows × 57 columns</p>\n",
       "</div>"
      ],
      "text/plain": [
       "   make  address   all   3d   our  over  remove  internet  order  mail  ...  \\\n",
       "0  0.00     0.00  0.29  0.0  0.00  0.00    0.00      0.00   0.00  0.00  ...   \n",
       "1  0.46     0.00  0.00  0.0  0.00  0.00    0.00      0.00   0.00  0.00  ...   \n",
       "2  0.00     0.00  0.00  0.0  0.00  0.00    0.00      0.00   0.00  0.00  ...   \n",
       "3  0.33     0.44  0.37  0.0  0.14  0.11    0.00      0.07   0.97  1.16  ...   \n",
       "4  0.00     2.08  0.00  0.0  3.12  0.00    1.04      0.00   0.00  0.00  ...   \n",
       "\n",
       "   conference  semicol  paren  bracket   bang  dollar  pound  cap_avg  \\\n",
       "0         0.0    0.000  0.178      0.0  0.044   0.000   0.00    1.666   \n",
       "1         0.0    0.000  0.125      0.0  0.000   0.000   0.00    1.510   \n",
       "2         0.0    0.000  0.000      0.0  0.000   0.000   0.00    1.718   \n",
       "3         0.0    0.006  0.159      0.0  0.069   0.221   0.11    3.426   \n",
       "4         0.0    0.000  0.000      0.0  0.263   0.000   0.00    1.428   \n",
       "\n",
       "   cap_long  cap_total  \n",
       "0        10        180  \n",
       "1        10         74  \n",
       "2        11         55  \n",
       "3        72        819  \n",
       "4         4         20  \n",
       "\n",
       "[5 rows x 57 columns]"
      ]
     },
     "execution_count": 6,
     "metadata": {},
     "output_type": "execute_result"
    }
   ],
   "source": [
    "X = df[['make', 'address', 'all','3d','our','over','remove','internet', 'order', 'mail', 'receive', \n",
    "        'will', 'people', 'report', 'addresses', 'free', 'business', 'email', 'you', 'credit', 'your', \n",
    "          'font', '000','money','hp','hpl','george', '650','lab','labs', 'telnet','857','data', '415',\n",
    "        '85', 'technology','1999','parts','pm','direct','cs','meeting','original', 'project','re','edu',\n",
    "        'table','conference','semicol','paren','bracket','bang','dollar','pound','cap_avg','cap_long','cap_total']]\n",
    "\n",
    "X.head()"
   ]
  },
  {
   "cell_type": "code",
   "execution_count": 7,
   "id": "4ae98e6c",
   "metadata": {
    "execution": {
     "iopub.execute_input": "2022-04-08T09:50:33.476242Z",
     "iopub.status.busy": "2022-04-08T09:50:33.475267Z",
     "iopub.status.idle": "2022-04-08T09:50:33.481817Z",
     "shell.execute_reply": "2022-04-08T09:50:33.482414Z",
     "shell.execute_reply.started": "2022-04-08T08:12:10.611223Z"
    },
    "papermill": {
     "duration": 0.043147,
     "end_time": "2022-04-08T09:50:33.482589",
     "exception": false,
     "start_time": "2022-04-08T09:50:33.439442",
     "status": "completed"
    },
    "tags": []
   },
   "outputs": [
    {
     "data": {
      "text/plain": [
       "0     ham\n",
       "1     ham\n",
       "2     ham\n",
       "3    spam\n",
       "4    spam\n",
       "Name: Class, dtype: object"
      ]
     },
     "execution_count": 7,
     "metadata": {},
     "output_type": "execute_result"
    }
   ],
   "source": [
    "y = df['Class']\n",
    "\n",
    "y.head()"
   ]
  },
  {
   "cell_type": "code",
   "execution_count": 8,
   "id": "f73ba672",
   "metadata": {
    "execution": {
     "iopub.execute_input": "2022-04-08T09:50:33.557543Z",
     "iopub.status.busy": "2022-04-08T09:50:33.556615Z",
     "iopub.status.idle": "2022-04-08T09:50:33.559117Z",
     "shell.execute_reply": "2022-04-08T09:50:33.559673Z",
     "shell.execute_reply.started": "2022-04-08T08:12:10.630330Z"
    },
    "papermill": {
     "duration": 0.044088,
     "end_time": "2022-04-08T09:50:33.559839",
     "exception": false,
     "start_time": "2022-04-08T09:50:33.515751",
     "status": "completed"
    },
    "tags": []
   },
   "outputs": [],
   "source": [
    "from sklearn.preprocessing import LabelEncoder\n",
    "\n",
    "le=LabelEncoder()\n",
    "\n",
    "y=le.fit_transform(y)"
   ]
  },
  {
   "cell_type": "code",
   "execution_count": 9,
   "id": "549afc6c",
   "metadata": {
    "execution": {
     "iopub.execute_input": "2022-04-08T09:50:33.630085Z",
     "iopub.status.busy": "2022-04-08T09:50:33.629165Z",
     "iopub.status.idle": "2022-04-08T09:50:33.650472Z",
     "shell.execute_reply": "2022-04-08T09:50:33.651006Z",
     "shell.execute_reply.started": "2022-04-08T08:12:10.641726Z"
    },
    "papermill": {
     "duration": 0.058088,
     "end_time": "2022-04-08T09:50:33.651193",
     "exception": false,
     "start_time": "2022-04-08T09:50:33.593105",
     "status": "completed"
    },
    "tags": []
   },
   "outputs": [],
   "source": [
    "# Import train_test_split function\n",
    "from sklearn.model_selection import train_test_split\n",
    "from sklearn import preprocessing\n",
    "# Split dataset into training set and test set\n",
    "X_train, X_test, y_train, y_test = train_test_split(X, y, test_size=0.3)\n",
    "\n",
    "std_scaler = preprocessing.StandardScaler().fit(X_train)\n",
    "X_train_scaled = std_scaler.transform(X_train)\n",
    "X_test_scaled = std_scaler.transform(X_test)"
   ]
  },
  {
   "cell_type": "code",
   "execution_count": 10,
   "id": "dacd55ef",
   "metadata": {
    "execution": {
     "iopub.execute_input": "2022-04-08T09:50:33.721619Z",
     "iopub.status.busy": "2022-04-08T09:50:33.720642Z",
     "iopub.status.idle": "2022-04-08T09:50:33.951409Z",
     "shell.execute_reply": "2022-04-08T09:50:33.951887Z",
     "shell.execute_reply.started": "2022-04-08T08:12:10.666359Z"
    },
    "papermill": {
     "duration": 0.267526,
     "end_time": "2022-04-08T09:50:33.952086",
     "exception": false,
     "start_time": "2022-04-08T09:50:33.684560",
     "status": "completed"
    },
    "tags": []
   },
   "outputs": [],
   "source": [
    "# Import the AdaBoost classifier\n",
    "from sklearn.ensemble import AdaBoostClassifier\n",
    "\n",
    "\n",
    "# Create adaboost classifer object\n",
    "# n_estinmators the number of models to iteratively train\n",
    "abc = AdaBoostClassifier(n_estimators=30, learning_rate=1, random_state=0)\n",
    "\n",
    "# Train Adaboost Classifer\n",
    "model1 = abc.fit(X_train, y_train)\n",
    "\n",
    "\n",
    "#Predict the response for test dataset\n",
    "y_pred = model1.predict(X_test)"
   ]
  },
  {
   "cell_type": "code",
   "execution_count": 11,
   "id": "2aa1604f",
   "metadata": {
    "execution": {
     "iopub.execute_input": "2022-04-08T09:50:34.027314Z",
     "iopub.status.busy": "2022-04-08T09:50:34.026258Z",
     "iopub.status.idle": "2022-04-08T09:50:34.030420Z",
     "shell.execute_reply": "2022-04-08T09:50:34.029673Z",
     "shell.execute_reply.started": "2022-04-08T08:12:10.885733Z"
    },
    "papermill": {
     "duration": 0.044886,
     "end_time": "2022-04-08T09:50:34.030605",
     "exception": false,
     "start_time": "2022-04-08T09:50:33.985719",
     "status": "completed"
    },
    "tags": []
   },
   "outputs": [
    {
     "name": "stdout",
     "output_type": "stream",
     "text": [
      "AdaBoost Classifier Model Accuracy: 0.9283128167994207\n"
     ]
    }
   ],
   "source": [
    "#import scikit-learn metrics module for accuracy calculation\n",
    "from sklearn.metrics import accuracy_score\n",
    "\n",
    "\n",
    "# calculate and print model accuracy\n",
    "print(\"AdaBoost Classifier Model Accuracy:\", accuracy_score(y_test, y_pred))"
   ]
  },
  {
   "cell_type": "code",
   "execution_count": 12,
   "id": "6d0241bb",
   "metadata": {
    "execution": {
     "iopub.execute_input": "2022-04-08T09:50:34.103751Z",
     "iopub.status.busy": "2022-04-08T09:50:34.102782Z",
     "iopub.status.idle": "2022-04-08T09:50:34.738955Z",
     "shell.execute_reply": "2022-04-08T09:50:34.739530Z",
     "shell.execute_reply.started": "2022-04-08T08:12:10.892879Z"
    },
    "papermill": {
     "duration": 0.673948,
     "end_time": "2022-04-08T09:50:34.739714",
     "exception": false,
     "start_time": "2022-04-08T09:50:34.065766",
     "status": "completed"
    },
    "tags": []
   },
   "outputs": [
    {
     "data": {
      "text/plain": [
       "<matplotlib.legend.Legend at 0x7f7cf8b5b650>"
      ]
     },
     "execution_count": 12,
     "metadata": {},
     "output_type": "execute_result"
    },
    {
     "data": {
      "image/png": "[encoded data removed]",
      "text/plain": [
       "<Figure size 432x288 with 2 Axes>"
      ]
     },
     "metadata": {
      "needs_background": "light"
     },
     "output_type": "display_data"
    }
   ],
   "source": [
    "from sklearn.decomposition import PCA\n",
    "import matplotlib.pyplot as plt\n",
    "pca = PCA(n_components=2)\n",
    "fig, (plttrain, plttest) = plt.subplots(1, 2)\n",
    "datavl1=pca.fit_transform(X_train_scaled)\n",
    "g11=datavl1[(y_train==1)]\n",
    "g12=datavl1[(y_train==0)]\n",
    "plttrain.set_title('Train values :'+ str(X_train_scaled.shape))\n",
    "plttrain.scatter(g11[:,0],g11[:,1],marker='o')\n",
    "plttrain.scatter(g12[:,0],g12[:,1],marker='+')\n",
    "plttrain.legend(['lable 1','lable 0'])\n",
    "datavl2=pca.fit_transform(X_test_scaled)\n",
    "g21=datavl2[(y_test==1)]\n",
    "g22=datavl2[(y_test==0)]\n",
    "plttest.set_title('Test values :'+str(X_test_scaled.shape))\n",
    "plttest.scatter(g21[:,0],g21[:,1],marker='o')\n",
    "plttest.scatter(g22[:,0],g22[:,1],marker='+')\n",
    "plttest.legend(['lable 1','lable 0'])"
   ]
  },
  {
   "cell_type": "code",
   "execution_count": 13,
   "id": "6a541e1f",
   "metadata": {
    "execution": {
     "iopub.execute_input": "2022-04-08T09:50:34.814333Z",
     "iopub.status.busy": "2022-04-08T09:50:34.813649Z",
     "iopub.status.idle": "2022-04-08T09:50:35.228018Z",
     "shell.execute_reply": "2022-04-08T09:50:35.228550Z",
     "shell.execute_reply.started": "2022-04-08T08:12:11.450640Z"
    },
    "papermill": {
     "duration": 0.453634,
     "end_time": "2022-04-08T09:50:35.228718",
     "exception": false,
     "start_time": "2022-04-08T09:50:34.775084",
     "status": "completed"
    },
    "tags": []
   },
   "outputs": [
    {
     "data": {
      "text/plain": [
       "<matplotlib.legend.Legend at 0x7f7cf0a991d0>"
      ]
     },
     "execution_count": 13,
     "metadata": {},
     "output_type": "execute_result"
    },
    {
     "data": {
      "image/png": "[encoded data removed]",
      "text/plain": [
       "<Figure size 432x288 with 1 Axes>"
      ]
     },
     "metadata": {
      "needs_background": "light"
     },
     "output_type": "display_data"
    }
   ],
   "source": [
    "from sklearn.decomposition import PCA\n",
    "import matplotlib.pyplot as plt\n",
    "pca= PCA(n_components=2)\n",
    "# fig, (plttrain, plttest) = plt.subplots(1, 2)\n",
    "datavlx=pca.fit_transform(X)\n",
    "gx1=datavlx[(y==1)]\n",
    "gx2=datavlx[(y==0)]\n",
    "plt.title('Train values :'+ str(X.shape))\n",
    "plt.scatter(gx1[:,0],gx1[:,1],marker='o')\n",
    "plt.scatter(gx2[:,0],gx2[:,1],marker='+')\n",
    "plt.legend(['lable 1','lable 0'])"
   ]
  },
  {
   "cell_type": "code",
   "execution_count": 14,
   "id": "6f6891ab",
   "metadata": {
    "execution": {
     "iopub.execute_input": "2022-04-08T09:50:35.305411Z",
     "iopub.status.busy": "2022-04-08T09:50:35.304645Z",
     "iopub.status.idle": "2022-04-08T09:50:35.340900Z",
     "shell.execute_reply": "2022-04-08T09:50:35.340345Z",
     "shell.execute_reply.started": "2022-04-08T08:12:11.867815Z"
    },
    "papermill": {
     "duration": 0.07581,
     "end_time": "2022-04-08T09:50:35.341049",
     "exception": false,
     "start_time": "2022-04-08T09:50:35.265239",
     "status": "completed"
    },
    "tags": []
   },
   "outputs": [],
   "source": [
    "class RatingModel:\n",
    "    def __init__(self, y_, y_Pr):\n",
    "      self.y_=y_\n",
    "      self.y_Pr=y_Pr\n",
    "      self.TN=np.size(y_Pr[(y_Pr==-1)&(y_==y_Pr)])\n",
    "      self.FN=np.size(y_Pr[(y_Pr==-1)&(y_!=y_Pr)])\n",
    "      self.TP=np.size(y_Pr[(y_Pr==1)&(y_==y_Pr)])\n",
    "      self.FP=np.size(y_Pr[(y_Pr==1)&(y_!=y_Pr)])\n",
    "      self.y_[self.y_==0]=-1\n",
    "      self.y_Pr[self.y_Pr==0]=-1\n",
    "    def __rep__():\n",
    "        return \"\"\n",
    "    def accur_Error(self, y_, y_Pr):\n",
    "        rs=(self.TP+self.TN)/(y_.size)\n",
    "        return [rs,(1-rs)]\n",
    "    def sensitivity(self):\n",
    "        P=np.size(self.y_[self.y_==1])\n",
    "        return (self.TP)/(P)\n",
    "    def specificity(self):\n",
    "        N=np.size(self.y_[self.y_==-1])\n",
    "        return (self.TN)/(N)\n",
    "    def precision(self):\n",
    "        rs=self.TP+self.FP\n",
    "        return (self.TP)/(rs)\n",
    "    def recall(self):\n",
    "        rs=self.TP+self.FN\n",
    "        return (self.TP)/(rs)\n",
    "    def rating(self):\n",
    "        return [self.accur_Error(self.y_, self.y_Pr), self.sensitivity(), self.specificity(), self.precision(), self.recall()]\n",
    "class DecisionStump:\n",
    "    def __init__(self, T=100):\n",
    "        self.T = T\n",
    "        pass\n",
    "\n",
    "    def fit(self, X: np.ndarray, y: np.ndarray, sample_weight: np.ndarray):\n",
    "        T = self.T\n",
    "        W=sample_weight\n",
    "        nrow, ncol = X.shape\n",
    "        assert nrow == y.size\n",
    "\n",
    "        bestn = 0\n",
    "        bestd = 1\n",
    "        bestp = 0\n",
    "        minerr = W.sum()\n",
    "        for i in range(ncol):\n",
    "            err, d, p = self._optimize(X[:, i], y, W, T)\n",
    "            if err < minerr:\n",
    "                minerr = err\n",
    "                bestn = i\n",
    "                bestd = d\n",
    "                bestp = p\n",
    "        \n",
    "        self.features = ncol\n",
    "        self.bestn = bestn\n",
    "        self.bestd = bestd\n",
    "        self.bestp = bestp\n",
    "\n",
    "        return self\n",
    "\n",
    "    def _optimize(self, X, y, W, T):\n",
    "        X = X.flatten()\n",
    "        min_x, max_x = X.min(), X.max()\n",
    "        len_x = max_x - min_x\n",
    "        \n",
    "        bestd = 1\n",
    "        bestp = min_x\n",
    "        minerr = W.sum()\n",
    "\n",
    "        if len_x > 0.0:\n",
    "            for p in np.arange(min_x, max_x, len_x/T):\n",
    "                for d in [-1, 1]:\n",
    "                    gy = np.ones((y.size))\n",
    "                    gy[X*d < p*d] = -1\n",
    "                    err = np.sum((gy != y)*W)\n",
    "                    if err < minerr:\n",
    "                        minerr = err\n",
    "                        bestd = d\n",
    "                        bestp = p\n",
    "\n",
    "        return minerr, bestd, bestp\n",
    "\n",
    "    def predict(self, test_set : np.ndarray):\n",
    "        nrow, ncol = test_set.shape\n",
    "\n",
    "        assert ncol == self.features\n",
    "\n",
    "        icol = test_set[:, self.bestn]\n",
    "        h = np.ones((nrow))\n",
    "        h[icol*self.bestd < self.bestp*self.bestd] = -1\n",
    "        return h\n",
    "class AdaBoost:\n",
    "    def __init__(self , T, hmodel = DecisionStump()):\n",
    "        self.T=T\n",
    "        self.hmodel=hmodel\n",
    "    def fit(self, X: np.ndarray, y_: np.ndarray, verbose=False):\n",
    "      n = X.shape[0]\n",
    "      T = self.T\n",
    "      y=y_\n",
    "      y[y==0]=-1\n",
    "    # init numpy arrays\n",
    "      self.D = np.zeros(shape=(T, n))\n",
    "      self.h = np.zeros(shape=T, dtype=object)\n",
    "      self.alpha = np.zeros(shape=T)\n",
    "      self.errors = np.zeros(shape=T)\n",
    "      self.ratting = np.zeros(shape=(T,2))\n",
    "\n",
    "      # initialize weights uniformly\n",
    "      self.D[0] = np.ones(shape=n) / n\n",
    "\n",
    "      for t in range(T):\n",
    "          # fit  weak learner\n",
    "          D_ = self.D[t]\n",
    "          h_ = DecisionStump(60)\n",
    "          h_ = h_.fit(X, y, D_)\n",
    "\n",
    "          # calculate error and stump weight from weak learner prediction\n",
    "          Pr_ = h_.predict(X)\n",
    "          error_ = D_[(Pr_ != y)].sum()# / n\n",
    "          alpha_ = np.log((1 - error_) / error_) / 2\n",
    "\n",
    "          # update sample weights\n",
    "          D_new = (\n",
    "              D_ * np.exp(-alpha_ * y * Pr_)\n",
    "          )\n",
    "          \n",
    "          D_new /= D_new.sum()\n",
    "\n",
    "          # If not final iteration, update sample weights for t+1\n",
    "          if t+1 < T:\n",
    "              self.D[t+1] = D_new\n",
    "\n",
    "          # save results of iteration\n",
    "          self.h[t] = h_\n",
    "          self.alpha[t] = alpha_\n",
    "          self.errors[t] = error_\n",
    "          if t>0:\n",
    "            Pr_temp=self.predictmodul(X,t)\n",
    "            modelra=RatingModel(y, Pr_temp)\n",
    "            self.ratting[t,:]=modelra.accur_Error(y, Pr_temp)\n",
    "          if verbose: print('Training {0}-th weak classifier: accuracy={1}, error={2}'.format (t, self.ratting[t,0], self.ratting[t,1]))\n",
    "      return self\n",
    "    def predict(self, X):\n",
    "        Pr_ = np.array([h_.predict(X) for h_ in self.h])\n",
    "        return np.sign(np.dot(self.alpha, Pr_))\n",
    "    def predictmodul(self, X, i):\n",
    "        h_temp=self.h[:i]\n",
    "        alpha_temp=self.alpha[:i]\n",
    "        Pr_ = np.array([h_.predict(X) for h_ in h_temp])\n",
    "        return np.sign(np.dot(alpha_temp, Pr_))"
   ]
  },
  {
   "cell_type": "code",
   "execution_count": 15,
   "id": "02c13a83",
   "metadata": {
    "execution": {
     "iopub.execute_input": "2022-04-08T09:50:35.419069Z",
     "iopub.status.busy": "2022-04-08T09:50:35.418450Z",
     "iopub.status.idle": "2022-04-08T09:50:45.054732Z",
     "shell.execute_reply": "2022-04-08T09:50:45.055599Z",
     "shell.execute_reply.started": "2022-04-08T08:12:11.896641Z"
    },
    "papermill": {
     "duration": 9.678436,
     "end_time": "2022-04-08T09:50:45.055898",
     "exception": false,
     "start_time": "2022-04-08T09:50:35.377462",
     "status": "completed"
    },
    "tags": []
   },
   "outputs": [
    {
     "name": "stdout",
     "output_type": "stream",
     "text": [
      "Training 0-th weak classifier: accuracy=0.0, error=0.0\n",
      "Training 1-th weak classifier: accuracy=0.7732919254658385, error=0.22670807453416153\n",
      "Training 2-th weak classifier: accuracy=0.7732919254658385, error=0.22670807453416153\n",
      "Training 3-th weak classifier: accuracy=0.8229813664596274, error=0.17701863354037262\n",
      "Training 4-th weak classifier: accuracy=0.8298136645962733, error=0.17018633540372674\n",
      "Training 5-th weak classifier: accuracy=0.8618012422360248, error=0.13819875776397517\n",
      "Training 6-th weak classifier: accuracy=0.8618012422360248, error=0.13819875776397517\n",
      "Training 7-th weak classifier: accuracy=0.886335403726708, error=0.11366459627329195\n",
      "Training 8-th weak classifier: accuracy=0.8835403726708074, error=0.11645962732919257\n",
      "Training 9-th weak classifier: accuracy=0.8745341614906832, error=0.1254658385093168\n",
      "Training 10-th weak classifier: accuracy=0.8940993788819875, error=0.10590062111801246\n",
      "Training 11-th weak classifier: accuracy=0.8857142857142857, error=0.11428571428571432\n",
      "Training 12-th weak classifier: accuracy=0.901863354037267, error=0.09813664596273297\n",
      "Training 13-th weak classifier: accuracy=0.9040372670807454, error=0.09596273291925461\n",
      "Training 14-th weak classifier: accuracy=0.90527950310559, error=0.09472049689440998\n",
      "Training 15-th weak classifier: accuracy=0.9124223602484473, error=0.08757763975155275\n",
      "Training 16-th weak classifier: accuracy=0.90527950310559, error=0.09472049689440998\n",
      "Training 17-th weak classifier: accuracy=0.912111801242236, error=0.08788819875776399\n",
      "Training 18-th weak classifier: accuracy=0.9074534161490683, error=0.09254658385093173\n",
      "Training 19-th weak classifier: accuracy=0.9145962732919255, error=0.0854037267080745\n",
      "Training 20-th weak classifier: accuracy=0.9124223602484473, error=0.08757763975155275\n",
      "Training 21-th weak classifier: accuracy=0.9167701863354037, error=0.08322981366459625\n",
      "Training 22-th weak classifier: accuracy=0.9114906832298136, error=0.08850931677018636\n",
      "Training 23-th weak classifier: accuracy=0.9195652173913044, error=0.08043478260869563\n",
      "Training 24-th weak classifier: accuracy=0.9149068322981366, error=0.08509316770186337\n",
      "Training 25-th weak classifier: accuracy=0.9198757763975155, error=0.0801242236024845\n",
      "Training 26-th weak classifier: accuracy=0.9164596273291925, error=0.0835403726708075\n",
      "Training 27-th weak classifier: accuracy=0.9177018633540373, error=0.08229813664596275\n",
      "Training 28-th weak classifier: accuracy=0.9167701863354037, error=0.08322981366459625\n",
      "Training 29-th weak classifier: accuracy=0.9177018633540373, error=0.08229813664596275\n"
     ]
    }
   ],
   "source": [
    "model=AdaBoost(30)\n",
    "model=model.fit(X_train_scaled, y_train,  True )\n",
    "Pr=model.predict( X_test_scaled)\n",
    "Pr[(Pr==0)]=-1"
   ]
  },
  {
   "cell_type": "code",
   "execution_count": 16,
   "id": "efd5cd22",
   "metadata": {
    "execution": {
     "iopub.execute_input": "2022-04-08T09:50:45.213109Z",
     "iopub.status.busy": "2022-04-08T09:50:45.212431Z",
     "iopub.status.idle": "2022-04-08T09:50:45.489416Z",
     "shell.execute_reply": "2022-04-08T09:50:45.489927Z",
     "shell.execute_reply.started": "2022-04-08T08:12:19.844064Z"
    },
    "papermill": {
     "duration": 0.345453,
     "end_time": "2022-04-08T09:50:45.490094",
     "exception": false,
     "start_time": "2022-04-08T09:50:45.144641",
     "status": "completed"
    },
    "tags": []
   },
   "outputs": [
    {
     "data": {
      "text/plain": [
       "[<matplotlib.lines.Line2D at 0x7f7cf0965a90>]"
      ]
     },
     "execution_count": 16,
     "metadata": {},
     "output_type": "execute_result"
    },
    {
     "data": {
      "image/png": "[encoded data removed]",
      "text/plain": [
       "<Figure size 432x288 with 1 Axes>"
      ]
     },
     "metadata": {
      "needs_background": "light"
     },
     "output_type": "display_data"
    }
   ],
   "source": [
    "ra_Xtest = np.zeros(shape=(model.T,2))\n",
    "for i in range(1,model.T):\n",
    "  Pr_i=model.predictmodul(X_test_scaled,i)\n",
    "  modelra=RatingModel(y_test, Pr_i)\n",
    "  ra_Xtest[i,:]=modelra.accur_Error(y_test, Pr_i)\n",
    "ra_Xtrain = np.zeros(shape=(model.T,2))\n",
    "for i in range(1,model.T):\n",
    "  Pr_i=model.predictmodul(X_train_scaled,i)\n",
    "  modelra=RatingModel(y_train, Pr_i)\n",
    "  ra_Xtrain[i,:]=modelra.accur_Error(y_train, Pr_i)\n",
    "iter=range(model.T)\n",
    "plt.plot(iter,ra_Xtest[:,0],'g-', label='Test accuracy')\n",
    "plt.plot(iter,ra_Xtest[:,1],'r-', label='Test error')\n",
    "plt.plot(iter,ra_Xtrain[:,0],'g--', label='Train accuracy')\n",
    "plt.plot(iter,ra_Xtrain[:,1],'r--', label='Train error')"
   ]
  },
  {
   "cell_type": "code",
   "execution_count": 17,
   "id": "a234b1a4",
   "metadata": {
    "execution": {
     "iopub.execute_input": "2022-04-08T09:50:45.590018Z",
     "iopub.status.busy": "2022-04-08T09:50:45.589314Z",
     "iopub.status.idle": "2022-04-08T09:50:45.918330Z",
     "shell.execute_reply": "2022-04-08T09:50:45.917644Z",
     "shell.execute_reply.started": "2022-04-08T08:12:20.121597Z"
    },
    "papermill": {
     "duration": 0.38015,
     "end_time": "2022-04-08T09:50:45.918478",
     "exception": false,
     "start_time": "2022-04-08T09:50:45.538328",
     "status": "completed"
    },
    "tags": []
   },
   "outputs": [
    {
     "data": {
      "text/plain": [
       "<matplotlib.legend.Legend at 0x7f7cf090b050>"
      ]
     },
     "execution_count": 17,
     "metadata": {},
     "output_type": "execute_result"
    },
    {
     "data": {
      "image/png": "[encoded data removed]",
      "text/plain": [
       "<Figure size 432x288 with 1 Axes>"
      ]
     },
     "metadata": {
      "needs_background": "light"
     },
     "output_type": "display_data"
    }
   ],
   "source": [
    "sumerror=0;\n",
    "y_new=y_test\n",
    "y_new[y_new==0]=-1\n",
    "sumerror=np.size(y_new[Pr!=y_new])\n",
    "gT1=datavl2[(Pr==1)]\n",
    "gT0=datavl2[(Pr==-1)]\n",
    "gF1=datavl2[(y_new!=Pr)&(Pr==1)]\n",
    "gF0=datavl2[(y_new!=Pr)&(Pr==-1)]\n",
    "plt.title('Test values errors :'+str(sumerror)+'/ '+str(X_test_scaled.shape[0]))\n",
    "plt.scatter(gT1[:,0],gT1[:,1], marker='o')\n",
    "plt.scatter(gT0[:,0],gT0[:,1], marker='+')\n",
    "plt.scatter(gF1[:,0],gF1[:,1], c=\"red\", marker='o')\n",
    "plt.scatter(gF0[:,0],gF0[:,1], c=\"red\", marker='+')\n",
    "plt.legend(['Predict true 1', 'Predict true 0', 'Predict false'])"
   ]
  },
  {
   "cell_type": "code",
   "execution_count": 18,
   "id": "7bfe2e84",
   "metadata": {
    "execution": {
     "iopub.execute_input": "2022-04-08T09:50:46.024342Z",
     "iopub.status.busy": "2022-04-08T09:50:46.023641Z",
     "iopub.status.idle": "2022-04-08T09:50:46.048789Z",
     "shell.execute_reply": "2022-04-08T09:50:46.049358Z",
     "shell.execute_reply.started": "2022-04-08T08:12:20.421342Z"
    },
    "papermill": {
     "duration": 0.080505,
     "end_time": "2022-04-08T09:50:46.049553",
     "exception": false,
     "start_time": "2022-04-08T09:50:45.969048",
     "status": "completed"
    },
    "tags": []
   },
   "outputs": [
    {
     "data": {
      "text/html": [
       "<div>\n",
       "<style scoped>\n",
       "    .dataframe tbody tr th:only-of-type {\n",
       "        vertical-align: middle;\n",
       "    }\n",
       "\n",
       "    .dataframe tbody tr th {\n",
       "        vertical-align: top;\n",
       "    }\n",
       "\n",
       "    .dataframe thead th {\n",
       "        text-align: right;\n",
       "    }\n",
       "</style>\n",
       "<table border=\"1\" class=\"dataframe\">\n",
       "  <thead>\n",
       "    <tr style=\"text-align: right;\">\n",
       "      <th></th>\n",
       "      <th>Class</th>\n",
       "      <th>x-box</th>\n",
       "      <th>y-box</th>\n",
       "      <th>width</th>\n",
       "      <th>high</th>\n",
       "      <th>onpix</th>\n",
       "      <th>x-bar</th>\n",
       "      <th>y-bar</th>\n",
       "      <th>x2bar</th>\n",
       "      <th>y2bar</th>\n",
       "      <th>xybar</th>\n",
       "      <th>x2ybr</th>\n",
       "      <th>xy2br</th>\n",
       "      <th>x-ege</th>\n",
       "      <th>xegvy</th>\n",
       "      <th>y-ege</th>\n",
       "      <th>yegvx</th>\n",
       "    </tr>\n",
       "  </thead>\n",
       "  <tbody>\n",
       "    <tr>\n",
       "      <th>0</th>\n",
       "      <td>C</td>\n",
       "      <td>4</td>\n",
       "      <td>10</td>\n",
       "      <td>5</td>\n",
       "      <td>8</td>\n",
       "      <td>2</td>\n",
       "      <td>5</td>\n",
       "      <td>7</td>\n",
       "      <td>7</td>\n",
       "      <td>10</td>\n",
       "      <td>7</td>\n",
       "      <td>6</td>\n",
       "      <td>13</td>\n",
       "      <td>1</td>\n",
       "      <td>8</td>\n",
       "      <td>4</td>\n",
       "      <td>9</td>\n",
       "    </tr>\n",
       "    <tr>\n",
       "      <th>1</th>\n",
       "      <td>C</td>\n",
       "      <td>3</td>\n",
       "      <td>5</td>\n",
       "      <td>4</td>\n",
       "      <td>4</td>\n",
       "      <td>2</td>\n",
       "      <td>4</td>\n",
       "      <td>8</td>\n",
       "      <td>5</td>\n",
       "      <td>7</td>\n",
       "      <td>12</td>\n",
       "      <td>9</td>\n",
       "      <td>11</td>\n",
       "      <td>1</td>\n",
       "      <td>10</td>\n",
       "      <td>2</td>\n",
       "      <td>7</td>\n",
       "    </tr>\n",
       "    <tr>\n",
       "      <th>2</th>\n",
       "      <td>G</td>\n",
       "      <td>5</td>\n",
       "      <td>10</td>\n",
       "      <td>6</td>\n",
       "      <td>7</td>\n",
       "      <td>3</td>\n",
       "      <td>8</td>\n",
       "      <td>7</td>\n",
       "      <td>8</td>\n",
       "      <td>8</td>\n",
       "      <td>6</td>\n",
       "      <td>7</td>\n",
       "      <td>9</td>\n",
       "      <td>2</td>\n",
       "      <td>7</td>\n",
       "      <td>5</td>\n",
       "      <td>10</td>\n",
       "    </tr>\n",
       "    <tr>\n",
       "      <th>3</th>\n",
       "      <td>C</td>\n",
       "      <td>5</td>\n",
       "      <td>9</td>\n",
       "      <td>6</td>\n",
       "      <td>7</td>\n",
       "      <td>4</td>\n",
       "      <td>3</td>\n",
       "      <td>8</td>\n",
       "      <td>6</td>\n",
       "      <td>7</td>\n",
       "      <td>12</td>\n",
       "      <td>10</td>\n",
       "      <td>13</td>\n",
       "      <td>1</td>\n",
       "      <td>9</td>\n",
       "      <td>3</td>\n",
       "      <td>7</td>\n",
       "    </tr>\n",
       "    <tr>\n",
       "      <th>4</th>\n",
       "      <td>G</td>\n",
       "      <td>4</td>\n",
       "      <td>8</td>\n",
       "      <td>5</td>\n",
       "      <td>6</td>\n",
       "      <td>3</td>\n",
       "      <td>6</td>\n",
       "      <td>6</td>\n",
       "      <td>7</td>\n",
       "      <td>6</td>\n",
       "      <td>10</td>\n",
       "      <td>7</td>\n",
       "      <td>12</td>\n",
       "      <td>2</td>\n",
       "      <td>9</td>\n",
       "      <td>4</td>\n",
       "      <td>9</td>\n",
       "    </tr>\n",
       "  </tbody>\n",
       "</table>\n",
       "</div>"
      ],
      "text/plain": [
       "  Class  x-box  y-box  width  high  onpix  x-bar  y-bar  x2bar  y2bar  xybar  \\\n",
       "0     C      4     10      5     8      2      5      7      7     10      7   \n",
       "1     C      3      5      4     4      2      4      8      5      7     12   \n",
       "2     G      5     10      6     7      3      8      7      8      8      6   \n",
       "3     C      5      9      6     7      4      3      8      6      7     12   \n",
       "4     G      4      8      5     6      3      6      6      7      6     10   \n",
       "\n",
       "   x2ybr  xy2br  x-ege  xegvy  y-ege  yegvx  \n",
       "0      6     13      1      8      4      9  \n",
       "1      9     11      1     10      2      7  \n",
       "2      7      9      2      7      5     10  \n",
       "3     10     13      1      9      3      7  \n",
       "4      7     12      2      9      4      9  "
      ]
     },
     "execution_count": 18,
     "metadata": {},
     "output_type": "execute_result"
    }
   ],
   "source": [
    "df = pd.read_csv(\"/kaggle/input/databaitapcanhan1/letters_CG.csv\")\n",
    "df.head()"
   ]
  },
  {
   "cell_type": "code",
   "execution_count": 19,
   "id": "858835e4",
   "metadata": {
    "execution": {
     "iopub.execute_input": "2022-04-08T09:50:46.156420Z",
     "iopub.status.busy": "2022-04-08T09:50:46.155742Z",
     "iopub.status.idle": "2022-04-08T09:50:46.169106Z",
     "shell.execute_reply": "2022-04-08T09:50:46.170169Z",
     "shell.execute_reply.started": "2022-04-08T08:12:20.442059Z"
    },
    "papermill": {
     "duration": 0.068941,
     "end_time": "2022-04-08T09:50:46.170498",
     "exception": false,
     "start_time": "2022-04-08T09:50:46.101557",
     "status": "completed"
    },
    "tags": []
   },
   "outputs": [
    {
     "name": "stdout",
     "output_type": "stream",
     "text": [
      "<class 'pandas.core.frame.DataFrame'>\n",
      "RangeIndex: 1509 entries, 0 to 1508\n",
      "Data columns (total 17 columns):\n",
      " #   Column  Non-Null Count  Dtype \n",
      "---  ------  --------------  ----- \n",
      " 0   Class   1509 non-null   object\n",
      " 1   x-box   1509 non-null   int64 \n",
      " 2   y-box   1509 non-null   int64 \n",
      " 3   width   1509 non-null   int64 \n",
      " 4   high    1509 non-null   int64 \n",
      " 5   onpix   1509 non-null   int64 \n",
      " 6   x-bar   1509 non-null   int64 \n",
      " 7   y-bar   1509 non-null   int64 \n",
      " 8   x2bar   1509 non-null   int64 \n",
      " 9   y2bar   1509 non-null   int64 \n",
      " 10  xybar   1509 non-null   int64 \n",
      " 11  x2ybr   1509 non-null   int64 \n",
      " 12  xy2br   1509 non-null   int64 \n",
      " 13  x-ege   1509 non-null   int64 \n",
      " 14  xegvy   1509 non-null   int64 \n",
      " 15  y-ege   1509 non-null   int64 \n",
      " 16  yegvx   1509 non-null   int64 \n",
      "dtypes: int64(16), object(1)\n",
      "memory usage: 200.5+ KB\n"
     ]
    }
   ],
   "source": [
    "df.info()"
   ]
  },
  {
   "cell_type": "code",
   "execution_count": 20,
   "id": "16d299ef",
   "metadata": {
    "execution": {
     "iopub.execute_input": "2022-04-08T09:50:46.278412Z",
     "iopub.status.busy": "2022-04-08T09:50:46.277748Z",
     "iopub.status.idle": "2022-04-08T09:50:46.293946Z",
     "shell.execute_reply": "2022-04-08T09:50:46.293385Z",
     "shell.execute_reply.started": "2022-04-08T08:12:20.454610Z"
    },
    "papermill": {
     "duration": 0.07117,
     "end_time": "2022-04-08T09:50:46.294097",
     "exception": false,
     "start_time": "2022-04-08T09:50:46.222927",
     "status": "completed"
    },
    "tags": []
   },
   "outputs": [
    {
     "data": {
      "text/html": [
       "<div>\n",
       "<style scoped>\n",
       "    .dataframe tbody tr th:only-of-type {\n",
       "        vertical-align: middle;\n",
       "    }\n",
       "\n",
       "    .dataframe tbody tr th {\n",
       "        vertical-align: top;\n",
       "    }\n",
       "\n",
       "    .dataframe thead th {\n",
       "        text-align: right;\n",
       "    }\n",
       "</style>\n",
       "<table border=\"1\" class=\"dataframe\">\n",
       "  <thead>\n",
       "    <tr style=\"text-align: right;\">\n",
       "      <th></th>\n",
       "      <th>x-box</th>\n",
       "      <th>y-box</th>\n",
       "      <th>width</th>\n",
       "      <th>high</th>\n",
       "      <th>onpix</th>\n",
       "      <th>x-bar</th>\n",
       "      <th>y-bar</th>\n",
       "      <th>x2bar</th>\n",
       "      <th>y2bar</th>\n",
       "      <th>xybar</th>\n",
       "      <th>x2ybr</th>\n",
       "      <th>xy2br</th>\n",
       "      <th>x-ege</th>\n",
       "      <th>xegvy</th>\n",
       "      <th>y-ege</th>\n",
       "      <th>yegvx</th>\n",
       "    </tr>\n",
       "  </thead>\n",
       "  <tbody>\n",
       "    <tr>\n",
       "      <th>0</th>\n",
       "      <td>4</td>\n",
       "      <td>10</td>\n",
       "      <td>5</td>\n",
       "      <td>8</td>\n",
       "      <td>2</td>\n",
       "      <td>5</td>\n",
       "      <td>7</td>\n",
       "      <td>7</td>\n",
       "      <td>10</td>\n",
       "      <td>7</td>\n",
       "      <td>6</td>\n",
       "      <td>13</td>\n",
       "      <td>1</td>\n",
       "      <td>8</td>\n",
       "      <td>4</td>\n",
       "      <td>9</td>\n",
       "    </tr>\n",
       "    <tr>\n",
       "      <th>1</th>\n",
       "      <td>3</td>\n",
       "      <td>5</td>\n",
       "      <td>4</td>\n",
       "      <td>4</td>\n",
       "      <td>2</td>\n",
       "      <td>4</td>\n",
       "      <td>8</td>\n",
       "      <td>5</td>\n",
       "      <td>7</td>\n",
       "      <td>12</td>\n",
       "      <td>9</td>\n",
       "      <td>11</td>\n",
       "      <td>1</td>\n",
       "      <td>10</td>\n",
       "      <td>2</td>\n",
       "      <td>7</td>\n",
       "    </tr>\n",
       "    <tr>\n",
       "      <th>2</th>\n",
       "      <td>5</td>\n",
       "      <td>10</td>\n",
       "      <td>6</td>\n",
       "      <td>7</td>\n",
       "      <td>3</td>\n",
       "      <td>8</td>\n",
       "      <td>7</td>\n",
       "      <td>8</td>\n",
       "      <td>8</td>\n",
       "      <td>6</td>\n",
       "      <td>7</td>\n",
       "      <td>9</td>\n",
       "      <td>2</td>\n",
       "      <td>7</td>\n",
       "      <td>5</td>\n",
       "      <td>10</td>\n",
       "    </tr>\n",
       "    <tr>\n",
       "      <th>3</th>\n",
       "      <td>5</td>\n",
       "      <td>9</td>\n",
       "      <td>6</td>\n",
       "      <td>7</td>\n",
       "      <td>4</td>\n",
       "      <td>3</td>\n",
       "      <td>8</td>\n",
       "      <td>6</td>\n",
       "      <td>7</td>\n",
       "      <td>12</td>\n",
       "      <td>10</td>\n",
       "      <td>13</td>\n",
       "      <td>1</td>\n",
       "      <td>9</td>\n",
       "      <td>3</td>\n",
       "      <td>7</td>\n",
       "    </tr>\n",
       "    <tr>\n",
       "      <th>4</th>\n",
       "      <td>4</td>\n",
       "      <td>8</td>\n",
       "      <td>5</td>\n",
       "      <td>6</td>\n",
       "      <td>3</td>\n",
       "      <td>6</td>\n",
       "      <td>6</td>\n",
       "      <td>7</td>\n",
       "      <td>6</td>\n",
       "      <td>10</td>\n",
       "      <td>7</td>\n",
       "      <td>12</td>\n",
       "      <td>2</td>\n",
       "      <td>9</td>\n",
       "      <td>4</td>\n",
       "      <td>9</td>\n",
       "    </tr>\n",
       "  </tbody>\n",
       "</table>\n",
       "</div>"
      ],
      "text/plain": [
       "   x-box  y-box  width  high  onpix  x-bar  y-bar  x2bar  y2bar  xybar  x2ybr  \\\n",
       "0      4     10      5     8      2      5      7      7     10      7      6   \n",
       "1      3      5      4     4      2      4      8      5      7     12      9   \n",
       "2      5     10      6     7      3      8      7      8      8      6      7   \n",
       "3      5      9      6     7      4      3      8      6      7     12     10   \n",
       "4      4      8      5     6      3      6      6      7      6     10      7   \n",
       "\n",
       "   xy2br  x-ege  xegvy  y-ege  yegvx  \n",
       "0     13      1      8      4      9  \n",
       "1     11      1     10      2      7  \n",
       "2      9      2      7      5     10  \n",
       "3     13      1      9      3      7  \n",
       "4     12      2      9      4      9  "
      ]
     },
     "execution_count": 20,
     "metadata": {},
     "output_type": "execute_result"
    }
   ],
   "source": [
    "X = df[['x-box', 'y-box', 'width', 'high', 'onpix', 'x-bar', 'y-bar', 'x2bar', 'y2bar', 'xybar','x2ybr',\n",
    "       'xy2br', 'x-ege', 'xegvy','y-ege','yegvx']]\n",
    "\n",
    "X.head()"
   ]
  },
  {
   "cell_type": "code",
   "execution_count": 21,
   "id": "3cc29110",
   "metadata": {
    "execution": {
     "iopub.execute_input": "2022-04-08T09:50:46.404906Z",
     "iopub.status.busy": "2022-04-08T09:50:46.404022Z",
     "iopub.status.idle": "2022-04-08T09:50:46.407265Z",
     "shell.execute_reply": "2022-04-08T09:50:46.407711Z",
     "shell.execute_reply.started": "2022-04-08T08:12:20.470528Z"
    },
    "papermill": {
     "duration": 0.061761,
     "end_time": "2022-04-08T09:50:46.407882",
     "exception": false,
     "start_time": "2022-04-08T09:50:46.346121",
     "status": "completed"
    },
    "tags": []
   },
   "outputs": [
    {
     "data": {
      "text/plain": [
       "0    C\n",
       "1    C\n",
       "2    G\n",
       "3    C\n",
       "4    G\n",
       "Name: Class, dtype: object"
      ]
     },
     "execution_count": 21,
     "metadata": {},
     "output_type": "execute_result"
    }
   ],
   "source": [
    "y = df['Class']\n",
    "\n",
    "y.head()"
   ]
  },
  {
   "cell_type": "code",
   "execution_count": 22,
   "id": "62bf744a",
   "metadata": {
    "execution": {
     "iopub.execute_input": "2022-04-08T09:50:46.518256Z",
     "iopub.status.busy": "2022-04-08T09:50:46.517610Z",
     "iopub.status.idle": "2022-04-08T09:50:46.520900Z",
     "shell.execute_reply": "2022-04-08T09:50:46.520398Z",
     "shell.execute_reply.started": "2022-04-08T08:12:20.477563Z"
    },
    "papermill": {
     "duration": 0.06038,
     "end_time": "2022-04-08T09:50:46.521041",
     "exception": false,
     "start_time": "2022-04-08T09:50:46.460661",
     "status": "completed"
    },
    "tags": []
   },
   "outputs": [],
   "source": [
    "from sklearn.preprocessing import LabelEncoder\n",
    "\n",
    "le=LabelEncoder()\n",
    "\n",
    "y=le.fit_transform(y)"
   ]
  },
  {
   "cell_type": "code",
   "execution_count": 23,
   "id": "cdf57f3d",
   "metadata": {
    "execution": {
     "iopub.execute_input": "2022-04-08T09:50:46.629800Z",
     "iopub.status.busy": "2022-04-08T09:50:46.629175Z",
     "iopub.status.idle": "2022-04-08T09:50:46.640261Z",
     "shell.execute_reply": "2022-04-08T09:50:46.640764Z",
     "shell.execute_reply.started": "2022-04-08T08:12:20.488979Z"
    },
    "papermill": {
     "duration": 0.06683,
     "end_time": "2022-04-08T09:50:46.640951",
     "exception": false,
     "start_time": "2022-04-08T09:50:46.574121",
     "status": "completed"
    },
    "tags": []
   },
   "outputs": [],
   "source": [
    "# Import train_test_split function\n",
    "from sklearn.model_selection import train_test_split\n",
    "from sklearn import preprocessing\n",
    "# Split dataset into training set and test set\n",
    "X_train, X_test, y_train, y_test = train_test_split(X, y, test_size=0.3)\n",
    "\n",
    "std_scaler = preprocessing.StandardScaler().fit(X_train)\n",
    "X_train_scaled = std_scaler.transform(X_train)\n",
    "X_test_scaled = std_scaler.transform(X_test)"
   ]
  },
  {
   "cell_type": "code",
   "execution_count": 24,
   "id": "c59785a9",
   "metadata": {
    "execution": {
     "iopub.execute_input": "2022-04-08T09:50:46.752150Z",
     "iopub.status.busy": "2022-04-08T09:50:46.747443Z",
     "iopub.status.idle": "2022-04-08T09:50:46.899615Z",
     "shell.execute_reply": "2022-04-08T09:50:46.899008Z",
     "shell.execute_reply.started": "2022-04-08T08:12:20.505310Z"
    },
    "papermill": {
     "duration": 0.206786,
     "end_time": "2022-04-08T09:50:46.899758",
     "exception": false,
     "start_time": "2022-04-08T09:50:46.692972",
     "status": "completed"
    },
    "tags": []
   },
   "outputs": [],
   "source": [
    "# Import the AdaBoost classifier\n",
    "from sklearn.ensemble import AdaBoostClassifier\n",
    "# Create adaboost classifer object\n",
    "# n_estinmators the number of models to iteratively train\n",
    "abc = AdaBoostClassifier(n_estimators=60, learning_rate=1, random_state=0)\n",
    "# Train Adaboost Classifer\n",
    "model1 = abc.fit(X_train, y_train)\n",
    "#Predict the response for test dataset\n",
    "y_pred = model1.predict(X_test)"
   ]
  },
  {
   "cell_type": "code",
   "execution_count": 25,
   "id": "75954984",
   "metadata": {
    "execution": {
     "iopub.execute_input": "2022-04-08T09:50:47.010500Z",
     "iopub.status.busy": "2022-04-08T09:50:47.009835Z",
     "iopub.status.idle": "2022-04-08T09:50:47.014233Z",
     "shell.execute_reply": "2022-04-08T09:50:47.013561Z",
     "shell.execute_reply.started": "2022-04-08T08:12:20.639978Z"
    },
    "papermill": {
     "duration": 0.061419,
     "end_time": "2022-04-08T09:50:47.014377",
     "exception": false,
     "start_time": "2022-04-08T09:50:46.952958",
     "status": "completed"
    },
    "tags": []
   },
   "outputs": [
    {
     "name": "stdout",
     "output_type": "stream",
     "text": [
      "AdaBoost Classifier Model Accuracy: 0.9514348785871964\n"
     ]
    }
   ],
   "source": [
    "#import scikit-learn metrics module for accuracy calculation\n",
    "from sklearn.metrics import accuracy_score\n",
    "# calculate and print model accuracy\n",
    "print(\"AdaBoost Classifier Model Accuracy:\", accuracy_score(y_test, y_pred))"
   ]
  },
  {
   "cell_type": "code",
   "execution_count": 26,
   "id": "b2e4abf6",
   "metadata": {
    "execution": {
     "iopub.execute_input": "2022-04-08T09:50:47.133092Z",
     "iopub.status.busy": "2022-04-08T09:50:47.132069Z",
     "iopub.status.idle": "2022-04-08T09:50:47.644592Z",
     "shell.execute_reply": "2022-04-08T09:50:47.645072Z",
     "shell.execute_reply.started": "2022-04-08T08:12:20.645969Z"
    },
    "papermill": {
     "duration": 0.576172,
     "end_time": "2022-04-08T09:50:47.645262",
     "exception": false,
     "start_time": "2022-04-08T09:50:47.069090",
     "status": "completed"
    },
    "tags": []
   },
   "outputs": [
    {
     "data": {
      "text/plain": [
       "<matplotlib.legend.Legend at 0x7f7cf08413d0>"
      ]
     },
     "execution_count": 26,
     "metadata": {},
     "output_type": "execute_result"
    },
    {
     "data": {
      "image/png": "[encoded data removed]",
      "text/plain": [
       "<Figure size 432x288 with 2 Axes>"
      ]
     },
     "metadata": {
      "needs_background": "light"
     },
     "output_type": "display_data"
    }
   ],
   "source": [
    "from sklearn.decomposition import PCA\n",
    "import matplotlib.pyplot as plt\n",
    "pca = PCA(n_components=2)\n",
    "fig, (plttrain, plttest) = plt.subplots(1, 2)\n",
    "datavl1=pca.fit_transform(X_train_scaled)\n",
    "g11=datavl1[(y_train==1)]\n",
    "g12=datavl1[(y_train==0)]\n",
    "plttrain.set_title('Train values :'+ str(X_train_scaled.shape))\n",
    "plttrain.scatter(g11[:,0],g11[:,1],marker='o')\n",
    "plttrain.scatter(g12[:,0],g12[:,1],marker='+')\n",
    "plttrain.legend(['lable 1','lable 0'])\n",
    "datavl2=pca.fit_transform(X_test_scaled)\n",
    "g21=datavl2[(y_test==1)]\n",
    "g22=datavl2[(y_test==0)]\n",
    "plttest.set_title('Test values :'+str(X_test_scaled.shape))\n",
    "plttest.scatter(g21[:,0],g21[:,1],marker='o')\n",
    "plttest.scatter(g22[:,0],g22[:,1],marker='+')\n",
    "plttest.legend(['lable 1','lable 0'])"
   ]
  },
  {
   "cell_type": "code",
   "execution_count": 27,
   "id": "6e213577",
   "metadata": {
    "execution": {
     "iopub.execute_input": "2022-04-08T09:50:47.757118Z",
     "iopub.status.busy": "2022-04-08T09:50:47.756465Z",
     "iopub.status.idle": "2022-04-08T09:50:48.095437Z",
     "shell.execute_reply": "2022-04-08T09:50:48.096075Z",
     "shell.execute_reply.started": "2022-04-08T08:40:30.686292Z"
    },
    "papermill": {
     "duration": 0.396064,
     "end_time": "2022-04-08T09:50:48.096269",
     "exception": false,
     "start_time": "2022-04-08T09:50:47.700205",
     "status": "completed"
    },
    "tags": []
   },
   "outputs": [
    {
     "data": {
      "text/plain": [
       "<matplotlib.legend.Legend at 0x7f7cf0785fd0>"
      ]
     },
     "execution_count": 27,
     "metadata": {},
     "output_type": "execute_result"
    },
    {
     "data": {
      "image/png": "[encoded data removed]",
      "text/plain": [
       "<Figure size 432x288 with 1 Axes>"
      ]
     },
     "metadata": {
      "needs_background": "light"
     },
     "output_type": "display_data"
    }
   ],
   "source": [
    "from sklearn.decomposition import PCA\n",
    "import matplotlib.pyplot as plt\n",
    "pca= PCA(n_components=2)\n",
    "# fig, (plttrain, plttest) = plt.subplots(1, 2)\n",
    "datavlx=pca.fit_transform(X)\n",
    "gx1=datavlx[(y==1)]\n",
    "gx2=datavlx[(y==0)]\n",
    "plt.title('Train values :'+ str(X.shape))\n",
    "plt.scatter(gx1[:,0],gx1[:,1],marker='o')\n",
    "plt.scatter(gx2[:,0],gx2[:,1],marker='+')\n",
    "plt.legend(['lable 1','lable 0'])"
   ]
  },
  {
   "cell_type": "code",
   "execution_count": 28,
   "id": "c243943c",
   "metadata": {
    "execution": {
     "iopub.execute_input": "2022-04-08T09:50:48.212771Z",
     "iopub.status.busy": "2022-04-08T09:50:48.211795Z",
     "iopub.status.idle": "2022-04-08T09:50:54.334996Z",
     "shell.execute_reply": "2022-04-08T09:50:54.336676Z",
     "shell.execute_reply.started": "2022-04-08T08:12:21.101907Z"
    },
    "papermill": {
     "duration": 6.184104,
     "end_time": "2022-04-08T09:50:54.337117",
     "exception": false,
     "start_time": "2022-04-08T09:50:48.153013",
     "status": "completed"
    },
    "tags": []
   },
   "outputs": [
    {
     "name": "stdout",
     "output_type": "stream",
     "text": [
      "Training 0-th weak classifier: accuracy=0.0, error=0.0\n",
      "Training 1-th weak classifier: accuracy=0.7916666666666666, error=0.20833333333333337\n",
      "Training 2-th weak classifier: accuracy=0.7916666666666666, error=0.20833333333333337\n",
      "Training 3-th weak classifier: accuracy=0.8172348484848485, error=0.1827651515151515\n",
      "Training 4-th weak classifier: accuracy=0.8371212121212122, error=0.16287878787878785\n",
      "Training 5-th weak classifier: accuracy=0.8503787878787878, error=0.14962121212121215\n",
      "Training 6-th weak classifier: accuracy=0.8768939393939394, error=0.12310606060606055\n",
      "Training 7-th weak classifier: accuracy=0.8873106060606061, error=0.11268939393939392\n",
      "Training 8-th weak classifier: accuracy=0.9053030303030303, error=0.09469696969696972\n",
      "Training 9-th weak classifier: accuracy=0.9166666666666666, error=0.08333333333333337\n",
      "Training 10-th weak classifier: accuracy=0.9071969696969697, error=0.09280303030303028\n",
      "Training 11-th weak classifier: accuracy=0.9176136363636364, error=0.08238636363636365\n",
      "Training 12-th weak classifier: accuracy=0.9176136363636364, error=0.08238636363636365\n",
      "Training 13-th weak classifier: accuracy=0.9176136363636364, error=0.08238636363636365\n",
      "Training 14-th weak classifier: accuracy=0.9195075757575758, error=0.0804924242424242\n",
      "Training 15-th weak classifier: accuracy=0.915719696969697, error=0.08428030303030298\n",
      "Training 16-th weak classifier: accuracy=0.9195075757575758, error=0.0804924242424242\n",
      "Training 17-th weak classifier: accuracy=0.9195075757575758, error=0.0804924242424242\n",
      "Training 18-th weak classifier: accuracy=0.9242424242424242, error=0.0757575757575758\n",
      "Training 19-th weak classifier: accuracy=0.9365530303030303, error=0.06344696969696972\n",
      "Training 20-th weak classifier: accuracy=0.9242424242424242, error=0.0757575757575758\n",
      "Training 21-th weak classifier: accuracy=0.9375, error=0.0625\n",
      "Training 22-th weak classifier: accuracy=0.9337121212121212, error=0.06628787878787878\n",
      "Training 23-th weak classifier: accuracy=0.9346590909090909, error=0.06534090909090906\n",
      "Training 24-th weak classifier: accuracy=0.9356060606060606, error=0.06439393939393945\n",
      "Training 25-th weak classifier: accuracy=0.9393939393939394, error=0.06060606060606055\n",
      "Training 26-th weak classifier: accuracy=0.9365530303030303, error=0.06344696969696972\n",
      "Training 27-th weak classifier: accuracy=0.9422348484848485, error=0.05776515151515149\n",
      "Training 28-th weak classifier: accuracy=0.9393939393939394, error=0.06060606060606055\n",
      "Training 29-th weak classifier: accuracy=0.9441287878787878, error=0.055871212121212155\n",
      "Training 30-th weak classifier: accuracy=0.9403409090909091, error=0.05965909090909094\n",
      "Training 31-th weak classifier: accuracy=0.9507575757575758, error=0.0492424242424242\n",
      "Training 32-th weak classifier: accuracy=0.9460227272727273, error=0.05397727272727271\n",
      "Training 33-th weak classifier: accuracy=0.9507575757575758, error=0.0492424242424242\n",
      "Training 34-th weak classifier: accuracy=0.9498106060606061, error=0.05018939393939392\n",
      "Training 35-th weak classifier: accuracy=0.9526515151515151, error=0.04734848484848486\n",
      "Training 36-th weak classifier: accuracy=0.9545454545454546, error=0.045454545454545414\n",
      "Training 37-th weak classifier: accuracy=0.9545454545454546, error=0.045454545454545414\n",
      "Training 38-th weak classifier: accuracy=0.9573863636363636, error=0.042613636363636354\n",
      "Training 39-th weak classifier: accuracy=0.9545454545454546, error=0.045454545454545414\n",
      "Training 40-th weak classifier: accuracy=0.9602272727272727, error=0.03977272727272729\n",
      "Training 41-th weak classifier: accuracy=0.9602272727272727, error=0.03977272727272729\n",
      "Training 42-th weak classifier: accuracy=0.9611742424242424, error=0.03882575757575757\n",
      "Training 43-th weak classifier: accuracy=0.9564393939393939, error=0.04356060606060608\n",
      "Training 44-th weak classifier: accuracy=0.9611742424242424, error=0.03882575757575757\n",
      "Training 45-th weak classifier: accuracy=0.9535984848484849, error=0.04640151515151514\n",
      "Training 46-th weak classifier: accuracy=0.9611742424242424, error=0.03882575757575757\n",
      "Training 47-th weak classifier: accuracy=0.9545454545454546, error=0.045454545454545414\n",
      "Training 48-th weak classifier: accuracy=0.9564393939393939, error=0.04356060606060608\n",
      "Training 49-th weak classifier: accuracy=0.9611742424242424, error=0.03882575757575757\n",
      "Training 50-th weak classifier: accuracy=0.9621212121212122, error=0.037878787878787845\n",
      "Training 51-th weak classifier: accuracy=0.959280303030303, error=0.04071969696969702\n",
      "Training 52-th weak classifier: accuracy=0.9611742424242424, error=0.03882575757575757\n",
      "Training 53-th weak classifier: accuracy=0.9630681818181818, error=0.03693181818181823\n",
      "Training 54-th weak classifier: accuracy=0.959280303030303, error=0.04071969696969702\n",
      "Training 55-th weak classifier: accuracy=0.9621212121212122, error=0.037878787878787845\n",
      "Training 56-th weak classifier: accuracy=0.9602272727272727, error=0.03977272727272729\n",
      "Training 57-th weak classifier: accuracy=0.9611742424242424, error=0.03882575757575757\n",
      "Training 58-th weak classifier: accuracy=0.9602272727272727, error=0.03977272727272729\n",
      "Training 59-th weak classifier: accuracy=0.9611742424242424, error=0.03882575757575757\n"
     ]
    }
   ],
   "source": [
    "model=AdaBoost(60)\n",
    "model=model.fit(X_train_scaled, y_train,  True )\n",
    "Pr=model.predict( X_test_scaled)\n",
    "Pr[(Pr==0)]=-1"
   ]
  },
  {
   "cell_type": "code",
   "execution_count": 29,
   "id": "9f34ef79",
   "metadata": {
    "execution": {
     "iopub.execute_input": "2022-04-08T09:50:54.536580Z",
     "iopub.status.busy": "2022-04-08T09:50:54.535824Z",
     "iopub.status.idle": "2022-04-08T09:50:54.913455Z",
     "shell.execute_reply": "2022-04-08T09:50:54.912495Z",
     "shell.execute_reply.started": "2022-04-08T08:12:26.036584Z"
    },
    "papermill": {
     "duration": 0.452809,
     "end_time": "2022-04-08T09:50:54.913622",
     "exception": false,
     "start_time": "2022-04-08T09:50:54.460813",
     "status": "completed"
    },
    "tags": []
   },
   "outputs": [
    {
     "data": {
      "text/plain": [
       "[<matplotlib.lines.Line2D at 0x7f7cf068dd90>]"
      ]
     },
     "execution_count": 29,
     "metadata": {},
     "output_type": "execute_result"
    },
    {
     "data": {
      "image/png": "[encoded data removed]",
      "text/plain": [
       "<Figure size 432x288 with 1 Axes>"
      ]
     },
     "metadata": {
      "needs_background": "light"
     },
     "output_type": "display_data"
    }
   ],
   "source": [
    "ra_Xtest = np.zeros(shape=(model.T,2))\n",
    "for i in range(1,model.T):\n",
    "  Pr_i=model.predictmodul(X_test_scaled,i)\n",
    "  modelra=RatingModel(y_test, Pr_i)\n",
    "  ra_Xtest[i,:]=modelra.accur_Error(y_test, Pr_i)\n",
    "ra_Xtrain = np.zeros(shape=(model.T,2))\n",
    "for i in range(1,model.T):\n",
    "  Pr_i=model.predictmodul(X_train_scaled,i)\n",
    "  modelra=RatingModel(y_train, Pr_i)\n",
    "  ra_Xtrain[i,:]=modelra.accur_Error(y_train, Pr_i)\n",
    "iter=range(model.T)\n",
    "plt.plot(iter,ra_Xtest[:,0],'g-', label='Test accuracy')\n",
    "plt.plot(iter,ra_Xtest[:,1],'r-', label='Test error')\n",
    "plt.plot(iter,ra_Xtrain[:,0],'g--', label='Train accuracy')\n",
    "plt.plot(iter,ra_Xtrain[:,1],'r--', label='Train error')"
   ]
  },
  {
   "cell_type": "code",
   "execution_count": 30,
   "id": "24ff29d2",
   "metadata": {
    "execution": {
     "iopub.execute_input": "2022-04-08T09:50:55.193879Z",
     "iopub.status.busy": "2022-04-08T09:50:55.056987Z",
     "iopub.status.idle": "2022-04-08T09:50:55.506961Z",
     "shell.execute_reply": "2022-04-08T09:50:55.506436Z",
     "shell.execute_reply.started": "2022-04-08T08:12:26.344104Z"
    },
    "papermill": {
     "duration": 0.523197,
     "end_time": "2022-04-08T09:50:55.507103",
     "exception": false,
     "start_time": "2022-04-08T09:50:54.983906",
     "status": "completed"
    },
    "tags": []
   },
   "outputs": [
    {
     "data": {
      "text/plain": [
       "<matplotlib.legend.Legend at 0x7f7cf05fde10>"
      ]
     },
     "execution_count": 30,
     "metadata": {},
     "output_type": "execute_result"
    },
    {
     "data": {
      "image/png": "[encoded data removed]",
      "text/plain": [
       "<Figure size 432x288 with 1 Axes>"
      ]
     },
     "metadata": {
      "needs_background": "light"
     },
     "output_type": "display_data"
    }
   ],
   "source": [
    "sumerror=0;\n",
    "y_new=y_test\n",
    "y_new[y_new==0]=-1\n",
    "sumerror=np.size(y_new[Pr!=y_new])\n",
    "gT1=datavl2[(Pr==1)]\n",
    "gT0=datavl2[(Pr==-1)]\n",
    "gF1=datavl2[(y_new!=Pr)&(Pr==1)]\n",
    "gF0=datavl2[(y_new!=Pr)&(Pr==-1)]\n",
    "plt.title('Test values errors :'+str(sumerror)+'/ '+str(X_test_scaled.shape[0]))\n",
    "plt.scatter(gT1[:,0],gT1[:,1], marker='o')\n",
    "plt.scatter(gT0[:,0],gT0[:,1], marker='+')\n",
    "plt.scatter(gF1[:,0],gF1[:,1], c=\"red\", marker='o')\n",
    "plt.scatter(gF0[:,0],gF0[:,1], c=\"red\", marker='+')\n",
    "plt.legend(['Predict true 1', 'Predict true 0', 'Predict false'])"
   ]
  }
 ],
 "metadata": {
  "kernelspec": {
   "display_name": "Python 3",
   "language": "python",
   "name": "python3"
  },
  "language_info": {
   "codemirror_mode": {
    "name": "ipython",
    "version": 3
   },
   "file_extension": ".py",
   "mimetype": "text/x-python",
   "name": "python",
   "nbconvert_exporter": "python",
   "pygments_lexer": "ipython3",
   "version": "3.7.12"
  },
  "papermill": {
   "default_parameters": {},
   "duration": 35.041186,
   "end_time": "2022-04-08T09:50:56.388000",
   "environment_variables": {},
   "exception": null,
   "input_path": "__notebook__.ipynb",
   "output_path": "__notebook__.ipynb",
   "parameters": {},
   "start_time": "2022-04-08T09:50:21.346814",
   "version": "2.3.3"
  }
 },
 "nbformat": 4,
 "nbformat_minor": 5
}
