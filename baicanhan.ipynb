{
 "cells": [
  {
   "cell_type": "code",
   "execution_count": 1,
   "id": "ddf1ab62",
   "metadata": {
    "_cell_guid": "b1076dfc-b9ad-4769-8c92-a6c4dae69d19",
    "_uuid": "8f2839f25d086af736a60e9eeb907d3b93b6e0e5",
    "execution": {
     "iopub.execute_input": "2022-04-08T03:37:26.330680Z",
     "iopub.status.busy": "2022-04-08T03:37:26.329788Z",
     "iopub.status.idle": "2022-04-08T03:37:26.340023Z",
     "shell.execute_reply": "2022-04-08T03:37:26.340878Z"
    },
    "papermill": {
     "duration": 0.041894,
     "end_time": "2022-04-08T03:37:26.341414",
     "exception": false,
     "start_time": "2022-04-08T03:37:26.299520",
     "status": "completed"
    },
    "tags": []
   },
   "outputs": [
    {
     "name": "stdout",
     "output_type": "stream",
     "text": [
      "/kaggle/input/databaitapcanhan/spam_email.csv\n"
     ]
    }
   ],
   "source": [
    "# This Python 3 environment comes with many helpful analytics libraries installed\n",
    "# It is defined by the kaggle/python Docker image: https://github.com/kaggle/docker-python\n",
    "# For example, here's several helpful packages to load\n",
    "\n",
    "import numpy as np # linear algebra\n",
    "import pandas as pd # data processing, CSV file I/O (e.g. pd.read_csv)\n",
    "\n",
    "# Input data files are available in the read-only \"../input/\" directory\n",
    "# For example, running this (by clicking run or pressing Shift+Enter) will list all files under the input directory\n",
    "\n",
    "import os\n",
    "for dirname, _, filenames in os.walk('/kaggle/input'):\n",
    "    for filename in filenames:\n",
    "        print(os.path.join(dirname, filename))\n",
    "\n",
    "# You can write up to 20GB to the current directory (/kaggle/working/) that gets preserved as output when you create a version using \"Save & Run All\" \n",
    "# You can also write temporary files to /kaggle/temp/, but they won't be saved outside of the current session"
   ]
  },
  {
   "cell_type": "code",
   "execution_count": 2,
   "id": "e040db9d",
   "metadata": {
    "execution": {
     "iopub.execute_input": "2022-04-08T03:37:26.385124Z",
     "iopub.status.busy": "2022-04-08T03:37:26.384420Z",
     "iopub.status.idle": "2022-04-08T03:37:28.015274Z",
     "shell.execute_reply": "2022-04-08T03:37:28.016027Z",
     "shell.execute_reply.started": "2022-04-08T03:32:03.613584Z"
    },
    "papermill": {
     "duration": 1.653896,
     "end_time": "2022-04-08T03:37:28.016349",
     "exception": false,
     "start_time": "2022-04-08T03:37:26.362453",
     "status": "completed"
    },
    "tags": []
   },
   "outputs": [],
   "source": [
    "from sklearn.ensemble import AdaBoostClassifier\n",
    "from sklearn.tree import DecisionTreeClassifier\n",
    "from sklearn.datasets import load_breast_cancer\n",
    "import pandas as pd\n",
    "import numpy as np\n",
    "from sklearn.model_selection import train_test_split\n",
    "from sklearn.metrics import confusion_matrix\n",
    "from sklearn.preprocessing import LabelEncoder"
   ]
  },
  {
   "cell_type": "code",
   "execution_count": 3,
   "id": "db657784",
   "metadata": {
    "execution": {
     "iopub.execute_input": "2022-04-08T03:37:28.066163Z",
     "iopub.status.busy": "2022-04-08T03:37:28.065206Z",
     "iopub.status.idle": "2022-04-08T03:37:28.071778Z",
     "shell.execute_reply": "2022-04-08T03:37:28.072413Z",
     "shell.execute_reply.started": "2022-04-08T03:32:12.602814Z"
    },
    "papermill": {
     "duration": 0.033647,
     "end_time": "2022-04-08T03:37:28.072719",
     "exception": false,
     "start_time": "2022-04-08T03:37:28.039072",
     "status": "completed"
    },
    "tags": []
   },
   "outputs": [],
   "source": [
    "# Load libraries\n",
    "from sklearn.ensemble import AdaBoostClassifier\n",
    "from sklearn import datasets\n",
    "# Import train_test_split function\n",
    "from sklearn.model_selection import train_test_split\n",
    "#Import scikit-learn metrics module for accuracy calculation\n",
    "from sklearn import metrics"
   ]
  },
  {
   "cell_type": "code",
   "execution_count": 4,
   "id": "03f0fd88",
   "metadata": {
    "execution": {
     "iopub.execute_input": "2022-04-08T03:37:28.123576Z",
     "iopub.status.busy": "2022-04-08T03:37:28.122229Z",
     "iopub.status.idle": "2022-04-08T03:37:28.244883Z",
     "shell.execute_reply": "2022-04-08T03:37:28.245799Z",
     "shell.execute_reply.started": "2022-04-08T03:32:23.251882Z"
    },
    "papermill": {
     "duration": 0.149488,
     "end_time": "2022-04-08T03:37:28.246100",
     "exception": false,
     "start_time": "2022-04-08T03:37:28.096612",
     "status": "completed"
    },
    "tags": []
   },
   "outputs": [
    {
     "data": {
      "text/html": [
       "<div>\n",
       "<style scoped>\n",
       "    .dataframe tbody tr th:only-of-type {\n",
       "        vertical-align: middle;\n",
       "    }\n",
       "\n",
       "    .dataframe tbody tr th {\n",
       "        vertical-align: top;\n",
       "    }\n",
       "\n",
       "    .dataframe thead th {\n",
       "        text-align: right;\n",
       "    }\n",
       "</style>\n",
       "<table border=\"1\" class=\"dataframe\">\n",
       "  <thead>\n",
       "    <tr style=\"text-align: right;\">\n",
       "      <th></th>\n",
       "      <th>make</th>\n",
       "      <th>address</th>\n",
       "      <th>all</th>\n",
       "      <th>3d</th>\n",
       "      <th>our</th>\n",
       "      <th>over</th>\n",
       "      <th>remove</th>\n",
       "      <th>internet</th>\n",
       "      <th>order</th>\n",
       "      <th>mail</th>\n",
       "      <th>...</th>\n",
       "      <th>semicol</th>\n",
       "      <th>paren</th>\n",
       "      <th>bracket</th>\n",
       "      <th>bang</th>\n",
       "      <th>dollar</th>\n",
       "      <th>pound</th>\n",
       "      <th>cap_avg</th>\n",
       "      <th>cap_long</th>\n",
       "      <th>cap_total</th>\n",
       "      <th>Class</th>\n",
       "    </tr>\n",
       "  </thead>\n",
       "  <tbody>\n",
       "    <tr>\n",
       "      <th>0</th>\n",
       "      <td>0.00</td>\n",
       "      <td>0.00</td>\n",
       "      <td>0.29</td>\n",
       "      <td>0.0</td>\n",
       "      <td>0.00</td>\n",
       "      <td>0.00</td>\n",
       "      <td>0.00</td>\n",
       "      <td>0.00</td>\n",
       "      <td>0.00</td>\n",
       "      <td>0.00</td>\n",
       "      <td>...</td>\n",
       "      <td>0.000</td>\n",
       "      <td>0.178</td>\n",
       "      <td>0.0</td>\n",
       "      <td>0.044</td>\n",
       "      <td>0.000</td>\n",
       "      <td>0.00</td>\n",
       "      <td>1.666</td>\n",
       "      <td>10</td>\n",
       "      <td>180</td>\n",
       "      <td>ham</td>\n",
       "    </tr>\n",
       "    <tr>\n",
       "      <th>1</th>\n",
       "      <td>0.46</td>\n",
       "      <td>0.00</td>\n",
       "      <td>0.00</td>\n",
       "      <td>0.0</td>\n",
       "      <td>0.00</td>\n",
       "      <td>0.00</td>\n",
       "      <td>0.00</td>\n",
       "      <td>0.00</td>\n",
       "      <td>0.00</td>\n",
       "      <td>0.00</td>\n",
       "      <td>...</td>\n",
       "      <td>0.000</td>\n",
       "      <td>0.125</td>\n",
       "      <td>0.0</td>\n",
       "      <td>0.000</td>\n",
       "      <td>0.000</td>\n",
       "      <td>0.00</td>\n",
       "      <td>1.510</td>\n",
       "      <td>10</td>\n",
       "      <td>74</td>\n",
       "      <td>ham</td>\n",
       "    </tr>\n",
       "    <tr>\n",
       "      <th>2</th>\n",
       "      <td>0.00</td>\n",
       "      <td>0.00</td>\n",
       "      <td>0.00</td>\n",
       "      <td>0.0</td>\n",
       "      <td>0.00</td>\n",
       "      <td>0.00</td>\n",
       "      <td>0.00</td>\n",
       "      <td>0.00</td>\n",
       "      <td>0.00</td>\n",
       "      <td>0.00</td>\n",
       "      <td>...</td>\n",
       "      <td>0.000</td>\n",
       "      <td>0.000</td>\n",
       "      <td>0.0</td>\n",
       "      <td>0.000</td>\n",
       "      <td>0.000</td>\n",
       "      <td>0.00</td>\n",
       "      <td>1.718</td>\n",
       "      <td>11</td>\n",
       "      <td>55</td>\n",
       "      <td>ham</td>\n",
       "    </tr>\n",
       "    <tr>\n",
       "      <th>3</th>\n",
       "      <td>0.33</td>\n",
       "      <td>0.44</td>\n",
       "      <td>0.37</td>\n",
       "      <td>0.0</td>\n",
       "      <td>0.14</td>\n",
       "      <td>0.11</td>\n",
       "      <td>0.00</td>\n",
       "      <td>0.07</td>\n",
       "      <td>0.97</td>\n",
       "      <td>1.16</td>\n",
       "      <td>...</td>\n",
       "      <td>0.006</td>\n",
       "      <td>0.159</td>\n",
       "      <td>0.0</td>\n",
       "      <td>0.069</td>\n",
       "      <td>0.221</td>\n",
       "      <td>0.11</td>\n",
       "      <td>3.426</td>\n",
       "      <td>72</td>\n",
       "      <td>819</td>\n",
       "      <td>spam</td>\n",
       "    </tr>\n",
       "    <tr>\n",
       "      <th>4</th>\n",
       "      <td>0.00</td>\n",
       "      <td>2.08</td>\n",
       "      <td>0.00</td>\n",
       "      <td>0.0</td>\n",
       "      <td>3.12</td>\n",
       "      <td>0.00</td>\n",
       "      <td>1.04</td>\n",
       "      <td>0.00</td>\n",
       "      <td>0.00</td>\n",
       "      <td>0.00</td>\n",
       "      <td>...</td>\n",
       "      <td>0.000</td>\n",
       "      <td>0.000</td>\n",
       "      <td>0.0</td>\n",
       "      <td>0.263</td>\n",
       "      <td>0.000</td>\n",
       "      <td>0.00</td>\n",
       "      <td>1.428</td>\n",
       "      <td>4</td>\n",
       "      <td>20</td>\n",
       "      <td>spam</td>\n",
       "    </tr>\n",
       "  </tbody>\n",
       "</table>\n",
       "<p>5 rows × 58 columns</p>\n",
       "</div>"
      ],
      "text/plain": [
       "   make  address   all   3d   our  over  remove  internet  order  mail  ...  \\\n",
       "0  0.00     0.00  0.29  0.0  0.00  0.00    0.00      0.00   0.00  0.00  ...   \n",
       "1  0.46     0.00  0.00  0.0  0.00  0.00    0.00      0.00   0.00  0.00  ...   \n",
       "2  0.00     0.00  0.00  0.0  0.00  0.00    0.00      0.00   0.00  0.00  ...   \n",
       "3  0.33     0.44  0.37  0.0  0.14  0.11    0.00      0.07   0.97  1.16  ...   \n",
       "4  0.00     2.08  0.00  0.0  3.12  0.00    1.04      0.00   0.00  0.00  ...   \n",
       "\n",
       "   semicol  paren  bracket   bang  dollar  pound  cap_avg  cap_long  \\\n",
       "0    0.000  0.178      0.0  0.044   0.000   0.00    1.666        10   \n",
       "1    0.000  0.125      0.0  0.000   0.000   0.00    1.510        10   \n",
       "2    0.000  0.000      0.0  0.000   0.000   0.00    1.718        11   \n",
       "3    0.006  0.159      0.0  0.069   0.221   0.11    3.426        72   \n",
       "4    0.000  0.000      0.0  0.263   0.000   0.00    1.428         4   \n",
       "\n",
       "   cap_total  Class  \n",
       "0        180    ham  \n",
       "1         74    ham  \n",
       "2         55    ham  \n",
       "3        819   spam  \n",
       "4         20   spam  \n",
       "\n",
       "[5 rows x 58 columns]"
      ]
     },
     "execution_count": 4,
     "metadata": {},
     "output_type": "execute_result"
    }
   ],
   "source": [
    "df = pd.read_csv(\"/kaggle/input/databaitapcanhan/spam_email.csv\")\n",
    "df.head()"
   ]
  },
  {
   "cell_type": "code",
   "execution_count": 5,
   "id": "1eec290d",
   "metadata": {
    "execution": {
     "iopub.execute_input": "2022-04-08T03:37:28.318150Z",
     "iopub.status.busy": "2022-04-08T03:37:28.316836Z",
     "iopub.status.idle": "2022-04-08T03:37:28.347672Z",
     "shell.execute_reply": "2022-04-08T03:37:28.348568Z",
     "shell.execute_reply.started": "2022-04-08T03:32:35.465312Z"
    },
    "papermill": {
     "duration": 0.068167,
     "end_time": "2022-04-08T03:37:28.348798",
     "exception": false,
     "start_time": "2022-04-08T03:37:28.280631",
     "status": "completed"
    },
    "tags": []
   },
   "outputs": [
    {
     "name": "stdout",
     "output_type": "stream",
     "text": [
      "<class 'pandas.core.frame.DataFrame'>\n",
      "RangeIndex: 4601 entries, 0 to 4600\n",
      "Data columns (total 58 columns):\n",
      " #   Column      Non-Null Count  Dtype  \n",
      "---  ------      --------------  -----  \n",
      " 0   make        4601 non-null   float64\n",
      " 1   address     4601 non-null   float64\n",
      " 2   all         4601 non-null   float64\n",
      " 3   3d          4601 non-null   float64\n",
      " 4   our         4601 non-null   float64\n",
      " 5   over        4601 non-null   float64\n",
      " 6   remove      4601 non-null   float64\n",
      " 7   internet    4601 non-null   float64\n",
      " 8   order       4601 non-null   float64\n",
      " 9   mail        4601 non-null   float64\n",
      " 10  receive     4601 non-null   float64\n",
      " 11  will        4601 non-null   float64\n",
      " 12  people      4601 non-null   float64\n",
      " 13  report      4601 non-null   float64\n",
      " 14  addresses   4601 non-null   float64\n",
      " 15  free        4601 non-null   float64\n",
      " 16  business    4601 non-null   float64\n",
      " 17  email       4601 non-null   float64\n",
      " 18  you         4601 non-null   float64\n",
      " 19  credit      4601 non-null   float64\n",
      " 20  your        4601 non-null   float64\n",
      " 21  font        4601 non-null   float64\n",
      " 22  000         4601 non-null   float64\n",
      " 23  money       4601 non-null   float64\n",
      " 24  hp          4601 non-null   float64\n",
      " 25  hpl         4601 non-null   float64\n",
      " 26  george      4601 non-null   float64\n",
      " 27  650         4601 non-null   float64\n",
      " 28  lab         4601 non-null   float64\n",
      " 29  labs        4601 non-null   float64\n",
      " 30  telnet      4601 non-null   float64\n",
      " 31  857         4601 non-null   float64\n",
      " 32  data        4601 non-null   float64\n",
      " 33  415         4601 non-null   float64\n",
      " 34  85          4601 non-null   float64\n",
      " 35  technology  4601 non-null   float64\n",
      " 36  1999        4601 non-null   float64\n",
      " 37  parts       4601 non-null   float64\n",
      " 38  pm          4601 non-null   float64\n",
      " 39  direct      4601 non-null   float64\n",
      " 40  cs          4601 non-null   float64\n",
      " 41  meeting     4601 non-null   float64\n",
      " 42  original    4601 non-null   float64\n",
      " 43  project     4601 non-null   float64\n",
      " 44  re          4601 non-null   float64\n",
      " 45  edu         4601 non-null   float64\n",
      " 46  table       4601 non-null   float64\n",
      " 47  conference  4601 non-null   float64\n",
      " 48  semicol     4601 non-null   float64\n",
      " 49  paren       4601 non-null   float64\n",
      " 50  bracket     4601 non-null   float64\n",
      " 51  bang        4601 non-null   float64\n",
      " 52  dollar      4601 non-null   float64\n",
      " 53  pound       4601 non-null   float64\n",
      " 54  cap_avg     4601 non-null   float64\n",
      " 55  cap_long    4601 non-null   int64  \n",
      " 56  cap_total   4601 non-null   int64  \n",
      " 57  Class       4601 non-null   object \n",
      "dtypes: float64(55), int64(2), object(1)\n",
      "memory usage: 2.0+ MB\n"
     ]
    }
   ],
   "source": [
    "df.info()"
   ]
  },
  {
   "cell_type": "code",
   "execution_count": 6,
   "id": "18c8b1d4",
   "metadata": {
    "execution": {
     "iopub.execute_input": "2022-04-08T03:37:28.407468Z",
     "iopub.status.busy": "2022-04-08T03:37:28.406556Z",
     "iopub.status.idle": "2022-04-08T03:37:28.451384Z",
     "shell.execute_reply": "2022-04-08T03:37:28.451903Z",
     "shell.execute_reply.started": "2022-04-08T03:32:52.454959Z"
    },
    "papermill": {
     "duration": 0.0796,
     "end_time": "2022-04-08T03:37:28.452240",
     "exception": false,
     "start_time": "2022-04-08T03:37:28.372640",
     "status": "completed"
    },
    "tags": []
   },
   "outputs": [
    {
     "data": {
      "text/html": [
       "<div>\n",
       "<style scoped>\n",
       "    .dataframe tbody tr th:only-of-type {\n",
       "        vertical-align: middle;\n",
       "    }\n",
       "\n",
       "    .dataframe tbody tr th {\n",
       "        vertical-align: top;\n",
       "    }\n",
       "\n",
       "    .dataframe thead th {\n",
       "        text-align: right;\n",
       "    }\n",
       "</style>\n",
       "<table border=\"1\" class=\"dataframe\">\n",
       "  <thead>\n",
       "    <tr style=\"text-align: right;\">\n",
       "      <th></th>\n",
       "      <th>make</th>\n",
       "      <th>address</th>\n",
       "      <th>all</th>\n",
       "      <th>3d</th>\n",
       "      <th>our</th>\n",
       "      <th>over</th>\n",
       "      <th>remove</th>\n",
       "      <th>internet</th>\n",
       "      <th>order</th>\n",
       "      <th>mail</th>\n",
       "      <th>...</th>\n",
       "      <th>conference</th>\n",
       "      <th>semicol</th>\n",
       "      <th>paren</th>\n",
       "      <th>bracket</th>\n",
       "      <th>bang</th>\n",
       "      <th>dollar</th>\n",
       "      <th>pound</th>\n",
       "      <th>cap_avg</th>\n",
       "      <th>cap_long</th>\n",
       "      <th>cap_total</th>\n",
       "    </tr>\n",
       "  </thead>\n",
       "  <tbody>\n",
       "    <tr>\n",
       "      <th>0</th>\n",
       "      <td>0.00</td>\n",
       "      <td>0.00</td>\n",
       "      <td>0.29</td>\n",
       "      <td>0.0</td>\n",
       "      <td>0.00</td>\n",
       "      <td>0.00</td>\n",
       "      <td>0.00</td>\n",
       "      <td>0.00</td>\n",
       "      <td>0.00</td>\n",
       "      <td>0.00</td>\n",
       "      <td>...</td>\n",
       "      <td>0.0</td>\n",
       "      <td>0.000</td>\n",
       "      <td>0.178</td>\n",
       "      <td>0.0</td>\n",
       "      <td>0.044</td>\n",
       "      <td>0.000</td>\n",
       "      <td>0.00</td>\n",
       "      <td>1.666</td>\n",
       "      <td>10</td>\n",
       "      <td>180</td>\n",
       "    </tr>\n",
       "    <tr>\n",
       "      <th>1</th>\n",
       "      <td>0.46</td>\n",
       "      <td>0.00</td>\n",
       "      <td>0.00</td>\n",
       "      <td>0.0</td>\n",
       "      <td>0.00</td>\n",
       "      <td>0.00</td>\n",
       "      <td>0.00</td>\n",
       "      <td>0.00</td>\n",
       "      <td>0.00</td>\n",
       "      <td>0.00</td>\n",
       "      <td>...</td>\n",
       "      <td>0.0</td>\n",
       "      <td>0.000</td>\n",
       "      <td>0.125</td>\n",
       "      <td>0.0</td>\n",
       "      <td>0.000</td>\n",
       "      <td>0.000</td>\n",
       "      <td>0.00</td>\n",
       "      <td>1.510</td>\n",
       "      <td>10</td>\n",
       "      <td>74</td>\n",
       "    </tr>\n",
       "    <tr>\n",
       "      <th>2</th>\n",
       "      <td>0.00</td>\n",
       "      <td>0.00</td>\n",
       "      <td>0.00</td>\n",
       "      <td>0.0</td>\n",
       "      <td>0.00</td>\n",
       "      <td>0.00</td>\n",
       "      <td>0.00</td>\n",
       "      <td>0.00</td>\n",
       "      <td>0.00</td>\n",
       "      <td>0.00</td>\n",
       "      <td>...</td>\n",
       "      <td>0.0</td>\n",
       "      <td>0.000</td>\n",
       "      <td>0.000</td>\n",
       "      <td>0.0</td>\n",
       "      <td>0.000</td>\n",
       "      <td>0.000</td>\n",
       "      <td>0.00</td>\n",
       "      <td>1.718</td>\n",
       "      <td>11</td>\n",
       "      <td>55</td>\n",
       "    </tr>\n",
       "    <tr>\n",
       "      <th>3</th>\n",
       "      <td>0.33</td>\n",
       "      <td>0.44</td>\n",
       "      <td>0.37</td>\n",
       "      <td>0.0</td>\n",
       "      <td>0.14</td>\n",
       "      <td>0.11</td>\n",
       "      <td>0.00</td>\n",
       "      <td>0.07</td>\n",
       "      <td>0.97</td>\n",
       "      <td>1.16</td>\n",
       "      <td>...</td>\n",
       "      <td>0.0</td>\n",
       "      <td>0.006</td>\n",
       "      <td>0.159</td>\n",
       "      <td>0.0</td>\n",
       "      <td>0.069</td>\n",
       "      <td>0.221</td>\n",
       "      <td>0.11</td>\n",
       "      <td>3.426</td>\n",
       "      <td>72</td>\n",
       "      <td>819</td>\n",
       "    </tr>\n",
       "    <tr>\n",
       "      <th>4</th>\n",
       "      <td>0.00</td>\n",
       "      <td>2.08</td>\n",
       "      <td>0.00</td>\n",
       "      <td>0.0</td>\n",
       "      <td>3.12</td>\n",
       "      <td>0.00</td>\n",
       "      <td>1.04</td>\n",
       "      <td>0.00</td>\n",
       "      <td>0.00</td>\n",
       "      <td>0.00</td>\n",
       "      <td>...</td>\n",
       "      <td>0.0</td>\n",
       "      <td>0.000</td>\n",
       "      <td>0.000</td>\n",
       "      <td>0.0</td>\n",
       "      <td>0.263</td>\n",
       "      <td>0.000</td>\n",
       "      <td>0.00</td>\n",
       "      <td>1.428</td>\n",
       "      <td>4</td>\n",
       "      <td>20</td>\n",
       "    </tr>\n",
       "  </tbody>\n",
       "</table>\n",
       "<p>5 rows × 57 columns</p>\n",
       "</div>"
      ],
      "text/plain": [
       "   make  address   all   3d   our  over  remove  internet  order  mail  ...  \\\n",
       "0  0.00     0.00  0.29  0.0  0.00  0.00    0.00      0.00   0.00  0.00  ...   \n",
       "1  0.46     0.00  0.00  0.0  0.00  0.00    0.00      0.00   0.00  0.00  ...   \n",
       "2  0.00     0.00  0.00  0.0  0.00  0.00    0.00      0.00   0.00  0.00  ...   \n",
       "3  0.33     0.44  0.37  0.0  0.14  0.11    0.00      0.07   0.97  1.16  ...   \n",
       "4  0.00     2.08  0.00  0.0  3.12  0.00    1.04      0.00   0.00  0.00  ...   \n",
       "\n",
       "   conference  semicol  paren  bracket   bang  dollar  pound  cap_avg  \\\n",
       "0         0.0    0.000  0.178      0.0  0.044   0.000   0.00    1.666   \n",
       "1         0.0    0.000  0.125      0.0  0.000   0.000   0.00    1.510   \n",
       "2         0.0    0.000  0.000      0.0  0.000   0.000   0.00    1.718   \n",
       "3         0.0    0.006  0.159      0.0  0.069   0.221   0.11    3.426   \n",
       "4         0.0    0.000  0.000      0.0  0.263   0.000   0.00    1.428   \n",
       "\n",
       "   cap_long  cap_total  \n",
       "0        10        180  \n",
       "1        10         74  \n",
       "2        11         55  \n",
       "3        72        819  \n",
       "4         4         20  \n",
       "\n",
       "[5 rows x 57 columns]"
      ]
     },
     "execution_count": 6,
     "metadata": {},
     "output_type": "execute_result"
    }
   ],
   "source": [
    "X = df[['make', 'address', 'all','3d','our','over','remove','internet', 'order', 'mail', 'receive', \n",
    "        'will', 'people', 'report', 'addresses', 'free', 'business', 'email', 'you', 'credit', 'your', \n",
    "          'font', '000','money','hp','hpl','george', '650','lab','labs', 'telnet','857','data', '415',\n",
    "        '85', 'technology','1999','parts','pm','direct','cs','meeting','original', 'project','re','edu',\n",
    "        'table','conference','semicol','paren','bracket','bang','dollar','pound','cap_avg','cap_long','cap_total']]\n",
    "\n",
    "X.head()"
   ]
  },
  {
   "cell_type": "code",
   "execution_count": 7,
   "id": "fae16534",
   "metadata": {
    "execution": {
     "iopub.execute_input": "2022-04-08T03:37:28.518775Z",
     "iopub.status.busy": "2022-04-08T03:37:28.513116Z",
     "iopub.status.idle": "2022-04-08T03:37:28.522249Z",
     "shell.execute_reply": "2022-04-08T03:37:28.522953Z",
     "shell.execute_reply.started": "2022-04-08T03:33:09.781343Z"
    },
    "papermill": {
     "duration": 0.041469,
     "end_time": "2022-04-08T03:37:28.523161",
     "exception": false,
     "start_time": "2022-04-08T03:37:28.481692",
     "status": "completed"
    },
    "tags": []
   },
   "outputs": [
    {
     "data": {
      "text/plain": [
       "0     ham\n",
       "1     ham\n",
       "2     ham\n",
       "3    spam\n",
       "4    spam\n",
       "Name: Class, dtype: object"
      ]
     },
     "execution_count": 7,
     "metadata": {},
     "output_type": "execute_result"
    }
   ],
   "source": [
    "y = df['Class']\n",
    "\n",
    "y.head()"
   ]
  },
  {
   "cell_type": "code",
   "execution_count": 8,
   "id": "c4f19ff1",
   "metadata": {
    "execution": {
     "iopub.execute_input": "2022-04-08T03:37:28.572525Z",
     "iopub.status.busy": "2022-04-08T03:37:28.571465Z",
     "iopub.status.idle": "2022-04-08T03:37:28.577774Z",
     "shell.execute_reply": "2022-04-08T03:37:28.578403Z",
     "shell.execute_reply.started": "2022-04-08T03:34:00.238973Z"
    },
    "papermill": {
     "duration": 0.032446,
     "end_time": "2022-04-08T03:37:28.578628",
     "exception": false,
     "start_time": "2022-04-08T03:37:28.546182",
     "status": "completed"
    },
    "tags": []
   },
   "outputs": [],
   "source": [
    "from sklearn.preprocessing import LabelEncoder\n",
    "\n",
    "le=LabelEncoder()\n",
    "\n",
    "y=le.fit_transform(y)"
   ]
  },
  {
   "cell_type": "code",
   "execution_count": 9,
   "id": "3ad0daf7",
   "metadata": {
    "execution": {
     "iopub.execute_input": "2022-04-08T03:37:28.629565Z",
     "iopub.status.busy": "2022-04-08T03:37:28.628462Z",
     "iopub.status.idle": "2022-04-08T03:37:28.651831Z",
     "shell.execute_reply": "2022-04-08T03:37:28.652390Z",
     "shell.execute_reply.started": "2022-04-08T03:34:12.057941Z"
    },
    "papermill": {
     "duration": 0.05073,
     "end_time": "2022-04-08T03:37:28.652575",
     "exception": false,
     "start_time": "2022-04-08T03:37:28.601845",
     "status": "completed"
    },
    "tags": []
   },
   "outputs": [],
   "source": [
    "# Import train_test_split function\n",
    "from sklearn.model_selection import train_test_split\n",
    "from sklearn import preprocessing\n",
    "# Split dataset into training set and test set\n",
    "X_train, X_test, y_train, y_test = train_test_split(X, y, test_size=0.3)\n",
    "\n",
    "std_scaler = preprocessing.StandardScaler().fit(X_train)\n",
    "X_train_scaled = std_scaler.transform(X_train)\n",
    "X_test_scaled = std_scaler.transform(X_test)"
   ]
  },
  {
   "cell_type": "code",
   "execution_count": 10,
   "id": "a94b8e74",
   "metadata": {
    "execution": {
     "iopub.execute_input": "2022-04-08T03:37:28.707475Z",
     "iopub.status.busy": "2022-04-08T03:37:28.706683Z",
     "iopub.status.idle": "2022-04-08T03:37:29.140738Z",
     "shell.execute_reply": "2022-04-08T03:37:29.140111Z",
     "shell.execute_reply.started": "2022-04-08T03:34:26.783584Z"
    },
    "papermill": {
     "duration": 0.466133,
     "end_time": "2022-04-08T03:37:29.140901",
     "exception": false,
     "start_time": "2022-04-08T03:37:28.674768",
     "status": "completed"
    },
    "tags": []
   },
   "outputs": [],
   "source": [
    "# Import the AdaBoost classifier\n",
    "from sklearn.ensemble import AdaBoostClassifier\n",
    "\n",
    "\n",
    "# Create adaboost classifer object\n",
    "abc = AdaBoostClassifier(n_estimators=50, learning_rate=1, random_state=0)\n",
    "\n",
    "# Train Adaboost Classifer\n",
    "model1 = abc.fit(X_train, y_train)\n",
    "\n",
    "\n",
    "#Predict the response for test dataset\n",
    "y_pred = model1.predict(X_test)"
   ]
  },
  {
   "cell_type": "code",
   "execution_count": 11,
   "id": "2470b231",
   "metadata": {
    "execution": {
     "iopub.execute_input": "2022-04-08T03:37:29.193378Z",
     "iopub.status.busy": "2022-04-08T03:37:29.192406Z",
     "iopub.status.idle": "2022-04-08T03:37:29.196860Z",
     "shell.execute_reply": "2022-04-08T03:37:29.196134Z",
     "shell.execute_reply.started": "2022-04-08T03:34:44.578900Z"
    },
    "papermill": {
     "duration": 0.033928,
     "end_time": "2022-04-08T03:37:29.197017",
     "exception": false,
     "start_time": "2022-04-08T03:37:29.163089",
     "status": "completed"
    },
    "tags": []
   },
   "outputs": [
    {
     "name": "stdout",
     "output_type": "stream",
     "text": [
      "AdaBoost Classifier Model Accuracy: 0.9355539464156408\n"
     ]
    }
   ],
   "source": [
    "#import scikit-learn metrics module for accuracy calculation\n",
    "from sklearn.metrics import accuracy_score\n",
    "\n",
    "\n",
    "# calculate and print model accuracy\n",
    "print(\"AdaBoost Classifier Model Accuracy:\", accuracy_score(y_test, y_pred))"
   ]
  },
  {
   "cell_type": "code",
   "execution_count": 12,
   "id": "74b19e1e",
   "metadata": {
    "execution": {
     "iopub.execute_input": "2022-04-08T03:37:29.262320Z",
     "iopub.status.busy": "2022-04-08T03:37:29.261521Z",
     "iopub.status.idle": "2022-04-08T03:37:29.989042Z",
     "shell.execute_reply": "2022-04-08T03:37:29.987944Z",
     "shell.execute_reply.started": "2022-04-08T03:34:57.608346Z"
    },
    "papermill": {
     "duration": 0.768987,
     "end_time": "2022-04-08T03:37:29.989238",
     "exception": false,
     "start_time": "2022-04-08T03:37:29.220251",
     "status": "completed"
    },
    "tags": []
   },
   "outputs": [
    {
     "data": {
      "text/plain": [
       "<matplotlib.legend.Legend at 0x7fd01f67ab90>"
      ]
     },
     "execution_count": 12,
     "metadata": {},
     "output_type": "execute_result"
    },
    {
     "data": {
      "image/png": "[encoded data removed]",
      "text/plain": [
       "<Figure size 432x288 with 2 Axes>"
      ]
     },
     "metadata": {
      "needs_background": "light"
     },
     "output_type": "display_data"
    }
   ],
   "source": [
    "from sklearn.decomposition import PCA\n",
    "import matplotlib.pyplot as plt\n",
    "pca = PCA(n_components=2)\n",
    "fig, (plttrain, plttest) = plt.subplots(1, 2)\n",
    "datavl1=pca.fit_transform(X_train_scaled)\n",
    "g11=datavl1[(y_train==1)]\n",
    "g12=datavl1[(y_train==0)]\n",
    "plttrain.set_title('Train values :'+ str(X_train_scaled.shape))\n",
    "plttrain.scatter(g11[:,0],g11[:,1],marker='o')\n",
    "plttrain.scatter(g12[:,0],g12[:,1],marker='+')\n",
    "plttrain.legend(['lable 1','lable 0'])\n",
    "datavl2=pca.fit_transform(X_test_scaled)\n",
    "g21=datavl2[(y_test==1)]\n",
    "g22=datavl2[(y_test==0)]\n",
    "plttest.set_title('Test values :'+str(X_test_scaled.shape))\n",
    "plttest.scatter(g21[:,0],g21[:,1],marker='o')\n",
    "plttest.scatter(g22[:,0],g22[:,1],marker='+')\n",
    "plttest.legend(['lable 1','lable 0'])"
   ]
  },
  {
   "cell_type": "code",
   "execution_count": 13,
   "id": "4267277f",
   "metadata": {
    "execution": {
     "iopub.execute_input": "2022-04-08T03:37:30.059524Z",
     "iopub.status.busy": "2022-04-08T03:37:30.058103Z",
     "iopub.status.idle": "2022-04-08T03:37:30.577223Z",
     "shell.execute_reply": "2022-04-08T03:37:30.576547Z",
     "shell.execute_reply.started": "2022-04-08T03:35:09.090281Z"
    },
    "papermill": {
     "duration": 0.559103,
     "end_time": "2022-04-08T03:37:30.577496",
     "exception": false,
     "start_time": "2022-04-08T03:37:30.018393",
     "status": "completed"
    },
    "tags": []
   },
   "outputs": [
    {
     "data": {
      "text/plain": [
       "<matplotlib.legend.Legend at 0x7fd017581810>"
      ]
     },
     "execution_count": 13,
     "metadata": {},
     "output_type": "execute_result"
    },
    {
     "data": {
      "image/png": "[encoded data removed]",
      "text/plain": [
       "<Figure size 432x288 with 1 Axes>"
      ]
     },
     "metadata": {
      "needs_background": "light"
     },
     "output_type": "display_data"
    }
   ],
   "source": [
    "from sklearn.decomposition import PCA\n",
    "import matplotlib.pyplot as plt\n",
    "pca= PCA(n_components=2)\n",
    "# fig, (plttrain, plttest) = plt.subplots(1, 2)\n",
    "datavlx=pca.fit_transform(X)\n",
    "gx1=datavlx[(y==1)]\n",
    "gx2=datavlx[(y==0)]\n",
    "plt.title('Train values :'+ str(X.shape))\n",
    "plt.scatter(gx1[:,0],gx1[:,1],marker='o')\n",
    "plt.scatter(gx2[:,0],gx2[:,1],marker='+')\n",
    "plt.legend(['lable 1','lable 0'])"
   ]
  },
  {
   "cell_type": "code",
   "execution_count": 14,
   "id": "c800afd1",
   "metadata": {
    "execution": {
     "iopub.execute_input": "2022-04-08T03:37:30.635875Z",
     "iopub.status.busy": "2022-04-08T03:37:30.634990Z",
     "iopub.status.idle": "2022-04-08T03:37:30.672537Z",
     "shell.execute_reply": "2022-04-08T03:37:30.671827Z",
     "shell.execute_reply.started": "2022-04-08T03:36:10.880522Z"
    },
    "papermill": {
     "duration": 0.067865,
     "end_time": "2022-04-08T03:37:30.672818",
     "exception": false,
     "start_time": "2022-04-08T03:37:30.604953",
     "status": "completed"
    },
    "tags": []
   },
   "outputs": [],
   "source": [
    "class RatingModel:\n",
    "    def __init__(self, y_, y_Pr):\n",
    "      self.y_=y_\n",
    "      self.y_Pr=y_Pr\n",
    "      self.TN=np.size(y_Pr[(y_Pr==-1)&(y_==y_Pr)])\n",
    "      self.FN=np.size(y_Pr[(y_Pr==-1)&(y_!=y_Pr)])\n",
    "      self.TP=np.size(y_Pr[(y_Pr==1)&(y_==y_Pr)])\n",
    "      self.FP=np.size(y_Pr[(y_Pr==1)&(y_!=y_Pr)])\n",
    "      self.y_[self.y_==0]=-1\n",
    "      self.y_Pr[self.y_Pr==0]=-1\n",
    "      # assert self.y_.set={1, -1}\n",
    "      # assert self.y_Pr.set={1, -1}\n",
    "    def __rep__():\n",
    "        return \"\"\n",
    "    def accur_Error(self, y_, y_Pr):\n",
    "        rs=(self.TP+self.TN)/(y_.size)\n",
    "        return [rs,(1-rs)]\n",
    "    def sensitivity(self):\n",
    "        P=np.size(self.y_[self.y_==1])\n",
    "        return (self.TP)/(P)\n",
    "    def specificity(self):\n",
    "        N=np.size(self.y_[self.y_==-1])\n",
    "        return (self.TN)/(N)\n",
    "    def precision(self):\n",
    "        rs=self.TP+self.FP\n",
    "        return (self.TP)/(rs)\n",
    "    def recall(self):\n",
    "        rs=self.TP+self.FN\n",
    "        return (self.TP)/(rs)\n",
    "    def rating(self):\n",
    "        return [self.accur_Error(self.y_, self.y_Pr), self.sensitivity(), self.specificity(), self.precision(), self.recall()]\n",
    "class DecisionStump:\n",
    "    def __init__(self, T=100):\n",
    "        self.T = T\n",
    "        pass\n",
    "\n",
    "    def fit(self, X: np.ndarray, y: np.ndarray, sample_weight: np.ndarray):\n",
    "        T = self.T\n",
    "        W=sample_weight\n",
    "        nrow, ncol = X.shape\n",
    "        assert nrow == y.size\n",
    "\n",
    "        bestn = 0\n",
    "        bestd = 1\n",
    "        bestp = 0\n",
    "        minerr = W.sum()\n",
    "        for i in range(ncol):\n",
    "            err, d, p = self._optimize(X[:, i], y, W, T)\n",
    "            if err < minerr:\n",
    "                minerr = err\n",
    "                bestn = i\n",
    "                bestd = d\n",
    "                bestp = p\n",
    "        \n",
    "        self.features = ncol\n",
    "        self.bestn = bestn\n",
    "        self.bestd = bestd\n",
    "        self.bestp = bestp\n",
    "\n",
    "        return self\n",
    "\n",
    "    def _optimize(self, X, y, W, T):\n",
    "        X = X.flatten()\n",
    "        min_x, max_x = X.min(), X.max()\n",
    "        len_x = max_x - min_x\n",
    "        \n",
    "        bestd = 1\n",
    "        bestp = min_x\n",
    "        minerr = W.sum()\n",
    "\n",
    "        if len_x > 0.0:\n",
    "            for p in np.arange(min_x, max_x, len_x/T):\n",
    "                for d in [-1, 1]:\n",
    "                    gy = np.ones((y.size))\n",
    "                    gy[X*d < p*d] = -1\n",
    "                    err = np.sum((gy != y)*W)\n",
    "                    if err < minerr:\n",
    "                        minerr = err\n",
    "                        bestd = d\n",
    "                        bestp = p\n",
    "\n",
    "        return minerr, bestd, bestp\n",
    "\n",
    "    def predict(self, test_set : np.ndarray):\n",
    "        nrow, ncol = test_set.shape\n",
    "\n",
    "        assert ncol == self.features\n",
    "\n",
    "        icol = test_set[:, self.bestn]\n",
    "        h = np.ones((nrow))\n",
    "        h[icol*self.bestd < self.bestp*self.bestd] = -1\n",
    "        return h\n",
    "class AdaBoost:\n",
    "    def __init__(self , T, hmodel = DecisionStump()):\n",
    "        self.T=T\n",
    "        self.hmodel=hmodel\n",
    "    def fit(self, X: np.ndarray, y_: np.ndarray, verbose=False):\n",
    "      n = X.shape[0]\n",
    "      T = self.T\n",
    "      y=y_\n",
    "      y[y==0]=-1\n",
    "    # init numpy arrays\n",
    "      self.D = np.zeros(shape=(T, n))\n",
    "      self.h = np.zeros(shape=T, dtype=object)\n",
    "      self.alpha = np.zeros(shape=T)\n",
    "      self.errors = np.zeros(shape=T)\n",
    "      self.ratting = np.zeros(shape=(T,2))\n",
    "\n",
    "      # initialize weights uniformly\n",
    "      self.D[0] = np.ones(shape=n) / n\n",
    "\n",
    "      for t in range(T):\n",
    "          # fit  weak learner\n",
    "          D_ = self.D[t]\n",
    "          h_ = DecisionStump(60)\n",
    "          h_ = h_.fit(X, y, D_)\n",
    "\n",
    "          # calculate error and stump weight from weak learner prediction\n",
    "          Pr_ = h_.predict(X)\n",
    "          error_ = D_[(Pr_ != y)].sum()# / n\n",
    "          alpha_ = np.log((1 - error_) / error_) / 2\n",
    "\n",
    "          # update sample weights\n",
    "          D_new = (\n",
    "              D_ * np.exp(-alpha_ * y * Pr_)\n",
    "          )\n",
    "          \n",
    "          D_new /= D_new.sum()\n",
    "\n",
    "          # If not final iteration, update sample weights for t+1\n",
    "          if t+1 < T:\n",
    "              self.D[t+1] = D_new\n",
    "\n",
    "          # save results of iteration\n",
    "          self.h[t] = h_\n",
    "          self.alpha[t] = alpha_\n",
    "          self.errors[t] = error_\n",
    "          # ae=np.array([0,0])\n",
    "          if t>0:\n",
    "            Pr_temp=self.predictmodul(X,t)\n",
    "            modelra=RatingModel(y, Pr_temp)\n",
    "            self.ratting[t,:]=modelra.accur_Error(y, Pr_temp)\n",
    "          if verbose: print('Training {0}-th weak classifier: accuracy={1}, error={2}'.format (t, self.ratting[t,0], self.ratting[t,1]))\n",
    "      return self\n",
    "    def predict(self, X):\n",
    "        Pr_ = np.array([h_.predict(X) for h_ in self.h])\n",
    "        return np.sign(np.dot(self.alpha, Pr_))\n",
    "    def predictmodul(self, X, i):\n",
    "        h_temp=self.h[:i]\n",
    "        alpha_temp=self.alpha[:i]\n",
    "        Pr_ = np.array([h_.predict(X) for h_ in h_temp])\n",
    "        return np.sign(np.dot(alpha_temp, Pr_))"
   ]
  },
  {
   "cell_type": "code",
   "execution_count": 15,
   "id": "7431921a",
   "metadata": {
    "execution": {
     "iopub.execute_input": "2022-04-08T03:37:30.728245Z",
     "iopub.status.busy": "2022-04-08T03:37:30.727556Z",
     "iopub.status.idle": "2022-04-08T03:37:40.454984Z",
     "shell.execute_reply": "2022-04-08T03:37:40.455959Z",
     "shell.execute_reply.started": "2022-04-08T03:36:25.513211Z"
    },
    "papermill": {
     "duration": 9.756165,
     "end_time": "2022-04-08T03:37:40.456272",
     "exception": false,
     "start_time": "2022-04-08T03:37:30.700107",
     "status": "completed"
    },
    "tags": []
   },
   "outputs": [
    {
     "name": "stdout",
     "output_type": "stream",
     "text": [
      "Training 0-th weak classifier: accuracy=0.0, error=0.0\n",
      "Training 1-th weak classifier: accuracy=0.7745341614906832, error=0.22546583850931678\n",
      "Training 2-th weak classifier: accuracy=0.7745341614906832, error=0.22546583850931678\n",
      "Training 3-th weak classifier: accuracy=0.8198757763975155, error=0.18012422360248448\n",
      "Training 4-th weak classifier: accuracy=0.8360248447204969, error=0.16397515527950313\n",
      "Training 5-th weak classifier: accuracy=0.8385093167701864, error=0.16149068322981364\n",
      "Training 6-th weak classifier: accuracy=0.8701863354037267, error=0.1298136645962733\n",
      "Training 7-th weak classifier: accuracy=0.8698757763975156, error=0.13012422360248443\n",
      "Training 8-th weak classifier: accuracy=0.8841614906832298, error=0.1158385093167702\n",
      "Training 9-th weak classifier: accuracy=0.8900621118012423, error=0.10993788819875772\n",
      "Training 10-th weak classifier: accuracy=0.9031055900621118, error=0.09689440993788823\n",
      "Training 11-th weak classifier: accuracy=0.9059006211180124, error=0.0940993788819876\n",
      "Training 12-th weak classifier: accuracy=0.9040372670807454, error=0.09596273291925461\n",
      "Training 13-th weak classifier: accuracy=0.9124223602484473, error=0.08757763975155275\n",
      "Training 14-th weak classifier: accuracy=0.9093167701863354, error=0.09068322981366461\n",
      "Training 15-th weak classifier: accuracy=0.9111801242236025, error=0.0888198757763975\n",
      "Training 16-th weak classifier: accuracy=0.9118012422360249, error=0.08819875776397512\n",
      "Training 17-th weak classifier: accuracy=0.9108695652173913, error=0.08913043478260874\n",
      "Training 18-th weak classifier: accuracy=0.9093167701863354, error=0.09068322981366461\n",
      "Training 19-th weak classifier: accuracy=0.9108695652173913, error=0.08913043478260874\n",
      "Training 20-th weak classifier: accuracy=0.9108695652173913, error=0.08913043478260874\n",
      "Training 21-th weak classifier: accuracy=0.9124223602484473, error=0.08757763975155275\n",
      "Training 22-th weak classifier: accuracy=0.9130434782608695, error=0.08695652173913049\n",
      "Training 23-th weak classifier: accuracy=0.9145962732919255, error=0.0854037267080745\n",
      "Training 24-th weak classifier: accuracy=0.9139751552795031, error=0.08602484472049687\n",
      "Training 25-th weak classifier: accuracy=0.9167701863354037, error=0.08322981366459625\n",
      "Training 26-th weak classifier: accuracy=0.9164596273291925, error=0.0835403726708075\n",
      "Training 27-th weak classifier: accuracy=0.9183229813664596, error=0.08167701863354038\n",
      "Training 28-th weak classifier: accuracy=0.9167701863354037, error=0.08322981366459625\n",
      "Training 29-th weak classifier: accuracy=0.9186335403726708, error=0.08136645962732925\n"
     ]
    }
   ],
   "source": [
    "model=AdaBoost(30)\n",
    "model=model.fit(X_train_scaled, y_train,  True )\n",
    "Pr=model.predict( X_test_scaled)\n",
    "Pr[(Pr==0)]=-1\n",
    "# print(Pr, y_test)"
   ]
  },
  {
   "cell_type": "code",
   "execution_count": 16,
   "id": "e5e3f00e",
   "metadata": {
    "execution": {
     "iopub.execute_input": "2022-04-08T03:37:40.591060Z",
     "iopub.status.busy": "2022-04-08T03:37:40.584227Z",
     "iopub.status.idle": "2022-04-08T03:37:40.871927Z",
     "shell.execute_reply": "2022-04-08T03:37:40.871313Z",
     "shell.execute_reply.started": "2022-04-08T03:36:40.174435Z"
    },
    "papermill": {
     "duration": 0.348388,
     "end_time": "2022-04-08T03:37:40.872074",
     "exception": false,
     "start_time": "2022-04-08T03:37:40.523686",
     "status": "completed"
    },
    "tags": []
   },
   "outputs": [
    {
     "data": {
      "text/plain": [
       "[<matplotlib.lines.Line2D at 0x7fd017467850>]"
      ]
     },
     "execution_count": 16,
     "metadata": {},
     "output_type": "execute_result"
    },
    {
     "data": {
      "image/png": "[encoded data removed]",
      "text/plain": [
       "<Figure size 432x288 with 1 Axes>"
      ]
     },
     "metadata": {
      "needs_background": "light"
     },
     "output_type": "display_data"
    }
   ],
   "source": [
    "ra_Xtest = np.zeros(shape=(model.T,2))\n",
    "for i in range(1,model.T):\n",
    "  Pr_i=model.predictmodul(X_test_scaled,i)\n",
    "  modelra=RatingModel(y_test, Pr_i)\n",
    "  ra_Xtest[i,:]=modelra.accur_Error(y_test, Pr_i)\n",
    "ra_Xtrain = np.zeros(shape=(model.T,2))\n",
    "for i in range(1,model.T):\n",
    "  Pr_i=model.predictmodul(X_train_scaled,i)\n",
    "  modelra=RatingModel(y_train, Pr_i)\n",
    "  ra_Xtrain[i,:]=modelra.accur_Error(y_train, Pr_i)\n",
    "iter=range(model.T)\n",
    "plt.plot(iter,ra_Xtest[:,0],'g-', label='Test accuracy')\n",
    "plt.plot(iter,ra_Xtest[:,1],'r-', label='Test error')\n",
    "plt.plot(iter,ra_Xtrain[:,0],'g--', label='Train accuracy')\n",
    "plt.plot(iter,ra_Xtrain[:,1],'r--', label='Train error')"
   ]
  },
  {
   "cell_type": "code",
   "execution_count": 17,
   "id": "49945181",
   "metadata": {
    "execution": {
     "iopub.execute_input": "2022-04-08T03:37:40.950615Z",
     "iopub.status.busy": "2022-04-08T03:37:40.949957Z",
     "iopub.status.idle": "2022-04-08T03:37:41.258449Z",
     "shell.execute_reply": "2022-04-08T03:37:41.259058Z",
     "shell.execute_reply.started": "2022-04-08T03:36:53.358027Z"
    },
    "papermill": {
     "duration": 0.348773,
     "end_time": "2022-04-08T03:37:41.259245",
     "exception": false,
     "start_time": "2022-04-08T03:37:40.910472",
     "status": "completed"
    },
    "tags": []
   },
   "outputs": [
    {
     "data": {
      "text/plain": [
       "<matplotlib.legend.Legend at 0x7fd0173c3a90>"
      ]
     },
     "execution_count": 17,
     "metadata": {},
     "output_type": "execute_result"
    },
    {
     "data": {
      "image/png": "[encoded data removed]",
      "text/plain": [
       "<Figure size 432x288 with 1 Axes>"
      ]
     },
     "metadata": {
      "needs_background": "light"
     },
     "output_type": "display_data"
    }
   ],
   "source": [
    "sumerror=0;\n",
    "y_new=y_test\n",
    "y_new[y_new==0]=-1\n",
    "# for i in range(y_new.shape[0]):\n",
    "#   if y_new[i]!=Pr[i]: \n",
    "#     sumerror+=1\n",
    "sumerror=np.size(y_new[Pr!=y_new])\n",
    "gT1=datavl2[(Pr==1)]\n",
    "gT0=datavl2[(Pr==-1)]\n",
    "gF1=datavl2[(y_new!=Pr)&(Pr==1)]\n",
    "gF0=datavl2[(y_new!=Pr)&(Pr==-1)]\n",
    "plt.title('Test values errors :'+str(sumerror)+'/ '+str(X_test_scaled.shape[0]))\n",
    "plt.scatter(gT1[:,0],gT1[:,1], marker='o')\n",
    "plt.scatter(gT0[:,0],gT0[:,1], marker='+')\n",
    "plt.scatter(gF1[:,0],gF1[:,1], c=\"red\", marker='o')\n",
    "plt.scatter(gF0[:,0],gF0[:,1], c=\"red\", marker='+')\n",
    "plt.legend(['Predict true 1', 'Predict true 0', 'Predict false'])"
   ]
  }
 ],
 "metadata": {
  "kernelspec": {
   "display_name": "Python 3",
   "language": "python",
   "name": "python3"
  },
  "language_info": {
   "codemirror_mode": {
    "name": "ipython",
    "version": 3
   },
   "file_extension": ".py",
   "mimetype": "text/x-python",
   "name": "python",
   "nbconvert_exporter": "python",
   "pygments_lexer": "ipython3",
   "version": "3.7.12"
  },
  "papermill": {
   "default_parameters": {},
   "duration": 27.311229,
   "end_time": "2022-04-08T03:37:42.116051",
   "environment_variables": {},
   "exception": null,
   "input_path": "__notebook__.ipynb",
   "output_path": "__notebook__.ipynb",
   "parameters": {},
   "start_time": "2022-04-08T03:37:14.804822",
   "version": "2.3.3"
  }
 },
 "nbformat": 4,
 "nbformat_minor": 5
}
